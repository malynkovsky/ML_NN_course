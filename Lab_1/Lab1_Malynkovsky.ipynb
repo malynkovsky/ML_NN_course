{
  "nbformat": 4,
  "nbformat_minor": 0,
  "metadata": {
    "colab": {
      "name": "Lab1_NN.ipynb",
      "provenance": [],
      "collapsed_sections": []
    },
    "kernelspec": {
      "name": "python3",
      "display_name": "Python 3"
    }
  },
  "cells": [
    {
      "cell_type": "code",
      "metadata": {
        "id": "jev0p5olXb5z"
      },
      "source": [
        "from sklearn import datasets\n",
        "from sklearn.preprocessing import StandardScaler\n",
        "from sklearn.linear_model import Perceptron\n",
        "from sklearn.model_selection import train_test_split\n",
        "from sklearn.metrics import accuracy_score\n",
        "import numpy as np"
      ],
      "execution_count": 1,
      "outputs": []
    },
    {
      "cell_type": "code",
      "metadata": {
        "id": "djgfBfbvLt3m",
        "outputId": "4ef945da-2601-4836-e6d0-25ec218498dc",
        "colab": {
          "base_uri": "https://localhost:8080/",
          "height": 102
        }
      },
      "source": [
        "# Load the iris dataset\n",
        "iris = datasets.load_iris()\n",
        "\n",
        "# Create our X and y data\n",
        "X = iris.data\n",
        "y = iris.target\n",
        "y[:5]\n",
        "X[:5]"
      ],
      "execution_count": 2,
      "outputs": [
        {
          "output_type": "execute_result",
          "data": {
            "text/plain": [
              "array([[5.1, 3.5, 1.4, 0.2],\n",
              "       [4.9, 3. , 1.4, 0.2],\n",
              "       [4.7, 3.2, 1.3, 0.2],\n",
              "       [4.6, 3.1, 1.5, 0.2],\n",
              "       [5. , 3.6, 1.4, 0.2]])"
            ]
          },
          "metadata": {
            "tags": []
          },
          "execution_count": 2
        }
      ]
    },
    {
      "cell_type": "code",
      "metadata": {
        "id": "7XCTSy3FLt-R"
      },
      "source": [
        "# Split the data into 70% training data and 30% test data\n",
        "X_train, X_test, y_train, y_test = train_test_split(X, y, test_size=0.3)"
      ],
      "execution_count": 3,
      "outputs": []
    },
    {
      "cell_type": "code",
      "metadata": {
        "id": "CPRMZCYhLuBs",
        "outputId": "8e4d18ef-c0ef-4d0f-8bca-ea7db64360e4",
        "colab": {
          "base_uri": "https://localhost:8080/",
          "height": 34
        }
      },
      "source": [
        "# Train the scaler, which standarizes all the features to have mean=0 and unit variance\n",
        "sc = StandardScaler()\n",
        "sc.fit(X_train)"
      ],
      "execution_count": 4,
      "outputs": [
        {
          "output_type": "execute_result",
          "data": {
            "text/plain": [
              "StandardScaler(copy=True, with_mean=True, with_std=True)"
            ]
          },
          "metadata": {
            "tags": []
          },
          "execution_count": 4
        }
      ]
    },
    {
      "cell_type": "code",
      "metadata": {
        "id": "03DQB5-xLuEl"
      },
      "source": [
        "# Apply the scaler to the X training data\n",
        "X_train_std = sc.transform(X_train)\n",
        "\n",
        "# Apply the SAME scaler to the X test data\n",
        "X_test_std = sc.transform(X_test)"
      ],
      "execution_count": 5,
      "outputs": []
    },
    {
      "cell_type": "code",
      "metadata": {
        "id": "bPlqQyToLuKg",
        "outputId": "546b1169-45b8-4152-f998-cb15e0e8bc88",
        "colab": {
          "base_uri": "https://localhost:8080/",
          "height": 85
        }
      },
      "source": [
        "# Create a perceptron object with the parameters: 40 iterations (epochs) over the data, and a learning rate of 0.1\n",
        "ppn = Perceptron( max_iter = 350,eta0=0.00001,tol=None, penalty='l2')\n",
        "\n",
        "# Train the perceptron\n",
        "ppn.fit(X_train_std, y_train)"
      ],
      "execution_count": 148,
      "outputs": [
        {
          "output_type": "execute_result",
          "data": {
            "text/plain": [
              "Perceptron(alpha=0.0001, class_weight=None, early_stopping=False, eta0=1e-05,\n",
              "           fit_intercept=True, max_iter=350, n_iter_no_change=5, n_jobs=None,\n",
              "           penalty='l2', random_state=0, shuffle=True, tol=None,\n",
              "           validation_fraction=0.1, verbose=0, warm_start=False)"
            ]
          },
          "metadata": {
            "tags": []
          },
          "execution_count": 148
        }
      ]
    },
    {
      "cell_type": "code",
      "metadata": {
        "id": "WIj2FlspLuIR",
        "outputId": "4a8cf5ee-880a-4b3f-cd98-9057cbe1fe0d",
        "colab": {
          "base_uri": "https://localhost:8080/",
          "height": 34
        }
      },
      "source": [
        "# Apply the trained perceptron on the X data to make predicts for the y test data\n",
        "y_pred = ppn.predict(X_test_std)\n",
        "# View the accuracy of the model, which is: 1 - (observations predicted wrong / total observations)\n",
        "print('Accuracy: %.2f' % accuracy_score(y_test, y_pred))"
      ],
      "execution_count": 149,
      "outputs": [
        {
          "output_type": "stream",
          "text": [
            "Accuracy: 0.96\n"
          ],
          "name": "stdout"
        }
      ]
    },
    {
      "cell_type": "code",
      "metadata": {
        "id": "B26z-79nLt8T"
      },
      "source": [
        ""
      ],
      "execution_count": null,
      "outputs": []
    },
    {
      "cell_type": "code",
      "metadata": {
        "id": "ErZ_qV8oMOTw",
        "outputId": "7811f3fd-4603-4173-d02b-98b55ee555f9",
        "colab": {
          "base_uri": "https://localhost:8080/",
          "height": 34
        }
      },
      "source": [
        "from sklearn.linear_model import LogisticRegression\n",
        "clf = LogisticRegression(random_state=0).fit(X_train_std, y_train)\n",
        "y_pred = clf.predict(X_test_std)\n",
        "print('Accuracy: %.2f' % accuracy_score(y_test, y_pred))"
      ],
      "execution_count": 145,
      "outputs": [
        {
          "output_type": "stream",
          "text": [
            "Accuracy: 0.98\n"
          ],
          "name": "stdout"
        }
      ]
    },
    {
      "cell_type": "code",
      "metadata": {
        "id": "fAA8JXgrMOXU"
      },
      "source": [
        "from keras.models import Sequential\n",
        "from keras.layers import Dense, Activation\n",
        "model = Sequential()\n",
        "model.add(Dense(3, input_shape=(4,),activation='softmax'))\n",
        "#model.add(Activation('softmax'))"
      ],
      "execution_count": 79,
      "outputs": []
    },
    {
      "cell_type": "code",
      "metadata": {
        "id": "2cnRiho9bSQO"
      },
      "source": [
        "from keras.optimizers import SGD"
      ],
      "execution_count": 150,
      "outputs": []
    },
    {
      "cell_type": "code",
      "metadata": {
        "id": "9UwWwWVqMOaa"
      },
      "source": [
        "\n",
        "sgd = SGD(learning_rate=0.01)\n",
        "model.compile(loss='categorical_crossentropy',\n",
        "              optimizer=sgd,\n",
        "              metrics=['accuracy'])"
      ],
      "execution_count": 80,
      "outputs": []
    },
    {
      "cell_type": "code",
      "metadata": {
        "id": "kKLrihcpTz4-"
      },
      "source": [
        "from sklearn.preprocessing import OneHotEncoder\n",
        "encoder = OneHotEncoder(sparse=False)\n",
        "y = encoder.fit_transform( y_train.reshape(-1, 1))"
      ],
      "execution_count": 46,
      "outputs": []
    },
    {
      "cell_type": "code",
      "metadata": {
        "id": "qZXIbijCSqA7"
      },
      "source": [
        "y"
      ],
      "execution_count": null,
      "outputs": []
    },
    {
      "cell_type": "code",
      "metadata": {
        "id": "JixLZOdVN2Ou",
        "outputId": "a54c0bd1-0ad3-4322-8272-077b1f246651",
        "colab": {
          "base_uri": "https://localhost:8080/",
          "height": 34
        }
      },
      "source": [
        "X_train_std.shape"
      ],
      "execution_count": 37,
      "outputs": [
        {
          "output_type": "execute_result",
          "data": {
            "text/plain": [
              "(105, 4)"
            ]
          },
          "metadata": {
            "tags": []
          },
          "execution_count": 37
        }
      ]
    },
    {
      "cell_type": "code",
      "metadata": {
        "id": "bAG4cMBIMOgQ",
        "outputId": "ff3624b2-31a0-46d7-a18c-15c9038e98c2",
        "colab": {
          "base_uri": "https://localhost:8080/",
          "height": 1000
        }
      },
      "source": [
        "model.fit(X_train_std,y,epochs=200, validation_split=0.1)\n",
        "\n",
        "y_pred = model.predict_classes(X_test_std)"
      ],
      "execution_count": 81,
      "outputs": [
        {
          "output_type": "stream",
          "text": [
            "Epoch 1/200\n",
            "3/3 [==============================] - 0s 56ms/step - loss: 1.4387 - accuracy: 0.1489 - val_loss: 1.3915 - val_accuracy: 0.0909\n",
            "Epoch 2/200\n",
            "3/3 [==============================] - 0s 7ms/step - loss: 1.3936 - accuracy: 0.1596 - val_loss: 1.3476 - val_accuracy: 0.0909\n",
            "Epoch 3/200\n",
            "3/3 [==============================] - 0s 8ms/step - loss: 1.3508 - accuracy: 0.1915 - val_loss: 1.3058 - val_accuracy: 0.0909\n",
            "Epoch 4/200\n",
            "3/3 [==============================] - 0s 7ms/step - loss: 1.3105 - accuracy: 0.2021 - val_loss: 1.2660 - val_accuracy: 0.1818\n",
            "Epoch 5/200\n",
            "3/3 [==============================] - 0s 7ms/step - loss: 1.2720 - accuracy: 0.2340 - val_loss: 1.2283 - val_accuracy: 0.1818\n",
            "Epoch 6/200\n",
            "3/3 [==============================] - 0s 8ms/step - loss: 1.2351 - accuracy: 0.2553 - val_loss: 1.1924 - val_accuracy: 0.1818\n",
            "Epoch 7/200\n",
            "3/3 [==============================] - 0s 7ms/step - loss: 1.2006 - accuracy: 0.2660 - val_loss: 1.1583 - val_accuracy: 0.2727\n",
            "Epoch 8/200\n",
            "3/3 [==============================] - 0s 8ms/step - loss: 1.1677 - accuracy: 0.3085 - val_loss: 1.1259 - val_accuracy: 0.2727\n",
            "Epoch 9/200\n",
            "3/3 [==============================] - 0s 9ms/step - loss: 1.1367 - accuracy: 0.3191 - val_loss: 1.0951 - val_accuracy: 0.2727\n",
            "Epoch 10/200\n",
            "3/3 [==============================] - 0s 8ms/step - loss: 1.1065 - accuracy: 0.3936 - val_loss: 1.0660 - val_accuracy: 0.2727\n",
            "Epoch 11/200\n",
            "3/3 [==============================] - 0s 7ms/step - loss: 1.0788 - accuracy: 0.4362 - val_loss: 1.0382 - val_accuracy: 0.2727\n",
            "Epoch 12/200\n",
            "3/3 [==============================] - 0s 8ms/step - loss: 1.0517 - accuracy: 0.4894 - val_loss: 1.0120 - val_accuracy: 0.3636\n",
            "Epoch 13/200\n",
            "3/3 [==============================] - 0s 8ms/step - loss: 1.0265 - accuracy: 0.5106 - val_loss: 0.9871 - val_accuracy: 0.3636\n",
            "Epoch 14/200\n",
            "3/3 [==============================] - 0s 7ms/step - loss: 1.0031 - accuracy: 0.5106 - val_loss: 0.9635 - val_accuracy: 0.4545\n",
            "Epoch 15/200\n",
            "3/3 [==============================] - 0s 8ms/step - loss: 0.9795 - accuracy: 0.5745 - val_loss: 0.9412 - val_accuracy: 0.4545\n",
            "Epoch 16/200\n",
            "3/3 [==============================] - 0s 7ms/step - loss: 0.9581 - accuracy: 0.5745 - val_loss: 0.9201 - val_accuracy: 0.4545\n",
            "Epoch 17/200\n",
            "3/3 [==============================] - 0s 9ms/step - loss: 0.9377 - accuracy: 0.5851 - val_loss: 0.8999 - val_accuracy: 0.5455\n",
            "Epoch 18/200\n",
            "3/3 [==============================] - 0s 8ms/step - loss: 0.9184 - accuracy: 0.5957 - val_loss: 0.8809 - val_accuracy: 0.5455\n",
            "Epoch 19/200\n",
            "3/3 [==============================] - 0s 8ms/step - loss: 0.8998 - accuracy: 0.6064 - val_loss: 0.8627 - val_accuracy: 0.5455\n",
            "Epoch 20/200\n",
            "3/3 [==============================] - 0s 7ms/step - loss: 0.8823 - accuracy: 0.6489 - val_loss: 0.8454 - val_accuracy: 0.5455\n",
            "Epoch 21/200\n",
            "3/3 [==============================] - 0s 8ms/step - loss: 0.8654 - accuracy: 0.6702 - val_loss: 0.8290 - val_accuracy: 0.5455\n",
            "Epoch 22/200\n",
            "3/3 [==============================] - 0s 8ms/step - loss: 0.8496 - accuracy: 0.6702 - val_loss: 0.8133 - val_accuracy: 0.5455\n",
            "Epoch 23/200\n",
            "3/3 [==============================] - 0s 7ms/step - loss: 0.8346 - accuracy: 0.6809 - val_loss: 0.7985 - val_accuracy: 0.6364\n",
            "Epoch 24/200\n",
            "3/3 [==============================] - 0s 8ms/step - loss: 0.8198 - accuracy: 0.6809 - val_loss: 0.7844 - val_accuracy: 0.6364\n",
            "Epoch 25/200\n",
            "3/3 [==============================] - 0s 9ms/step - loss: 0.8063 - accuracy: 0.6809 - val_loss: 0.7709 - val_accuracy: 0.6364\n",
            "Epoch 26/200\n",
            "3/3 [==============================] - 0s 8ms/step - loss: 0.7930 - accuracy: 0.6809 - val_loss: 0.7580 - val_accuracy: 0.6364\n",
            "Epoch 27/200\n",
            "3/3 [==============================] - 0s 7ms/step - loss: 0.7804 - accuracy: 0.6809 - val_loss: 0.7456 - val_accuracy: 0.6364\n",
            "Epoch 28/200\n",
            "3/3 [==============================] - 0s 7ms/step - loss: 0.7683 - accuracy: 0.6809 - val_loss: 0.7339 - val_accuracy: 0.7273\n",
            "Epoch 29/200\n",
            "3/3 [==============================] - 0s 7ms/step - loss: 0.7568 - accuracy: 0.6809 - val_loss: 0.7227 - val_accuracy: 0.8182\n",
            "Epoch 30/200\n",
            "3/3 [==============================] - 0s 9ms/step - loss: 0.7458 - accuracy: 0.7021 - val_loss: 0.7120 - val_accuracy: 0.8182\n",
            "Epoch 31/200\n",
            "3/3 [==============================] - 0s 7ms/step - loss: 0.7354 - accuracy: 0.7128 - val_loss: 0.7017 - val_accuracy: 0.8182\n",
            "Epoch 32/200\n",
            "3/3 [==============================] - 0s 7ms/step - loss: 0.7253 - accuracy: 0.7234 - val_loss: 0.6919 - val_accuracy: 0.8182\n",
            "Epoch 33/200\n",
            "3/3 [==============================] - 0s 7ms/step - loss: 0.7156 - accuracy: 0.7340 - val_loss: 0.6825 - val_accuracy: 0.8182\n",
            "Epoch 34/200\n",
            "3/3 [==============================] - 0s 7ms/step - loss: 0.7062 - accuracy: 0.7340 - val_loss: 0.6735 - val_accuracy: 0.8182\n",
            "Epoch 35/200\n",
            "3/3 [==============================] - 0s 9ms/step - loss: 0.6975 - accuracy: 0.7660 - val_loss: 0.6649 - val_accuracy: 0.8182\n",
            "Epoch 36/200\n",
            "3/3 [==============================] - 0s 9ms/step - loss: 0.6888 - accuracy: 0.7660 - val_loss: 0.6566 - val_accuracy: 0.8182\n",
            "Epoch 37/200\n",
            "3/3 [==============================] - 0s 8ms/step - loss: 0.6806 - accuracy: 0.7766 - val_loss: 0.6486 - val_accuracy: 0.8182\n",
            "Epoch 38/200\n",
            "3/3 [==============================] - 0s 9ms/step - loss: 0.6728 - accuracy: 0.7660 - val_loss: 0.6410 - val_accuracy: 0.8182\n",
            "Epoch 39/200\n",
            "3/3 [==============================] - 0s 8ms/step - loss: 0.6652 - accuracy: 0.7660 - val_loss: 0.6337 - val_accuracy: 0.8182\n",
            "Epoch 40/200\n",
            "3/3 [==============================] - 0s 7ms/step - loss: 0.6579 - accuracy: 0.7660 - val_loss: 0.6266 - val_accuracy: 0.9091\n",
            "Epoch 41/200\n",
            "3/3 [==============================] - 0s 7ms/step - loss: 0.6509 - accuracy: 0.7660 - val_loss: 0.6198 - val_accuracy: 0.9091\n",
            "Epoch 42/200\n",
            "3/3 [==============================] - 0s 8ms/step - loss: 0.6441 - accuracy: 0.7660 - val_loss: 0.6133 - val_accuracy: 0.9091\n",
            "Epoch 43/200\n",
            "3/3 [==============================] - 0s 10ms/step - loss: 0.6376 - accuracy: 0.7766 - val_loss: 0.6071 - val_accuracy: 0.9091\n",
            "Epoch 44/200\n",
            "3/3 [==============================] - 0s 7ms/step - loss: 0.6312 - accuracy: 0.7766 - val_loss: 0.6010 - val_accuracy: 0.9091\n",
            "Epoch 45/200\n",
            "3/3 [==============================] - 0s 8ms/step - loss: 0.6251 - accuracy: 0.7872 - val_loss: 0.5952 - val_accuracy: 0.9091\n",
            "Epoch 46/200\n",
            "3/3 [==============================] - 0s 8ms/step - loss: 0.6192 - accuracy: 0.7872 - val_loss: 0.5896 - val_accuracy: 0.9091\n",
            "Epoch 47/200\n",
            "3/3 [==============================] - 0s 8ms/step - loss: 0.6137 - accuracy: 0.7872 - val_loss: 0.5842 - val_accuracy: 0.9091\n",
            "Epoch 48/200\n",
            "3/3 [==============================] - 0s 8ms/step - loss: 0.6081 - accuracy: 0.7979 - val_loss: 0.5789 - val_accuracy: 0.9091\n",
            "Epoch 49/200\n",
            "3/3 [==============================] - 0s 8ms/step - loss: 0.6028 - accuracy: 0.8085 - val_loss: 0.5739 - val_accuracy: 0.9091\n",
            "Epoch 50/200\n",
            "3/3 [==============================] - 0s 8ms/step - loss: 0.5976 - accuracy: 0.8298 - val_loss: 0.5690 - val_accuracy: 0.9091\n",
            "Epoch 51/200\n",
            "3/3 [==============================] - 0s 9ms/step - loss: 0.5926 - accuracy: 0.8298 - val_loss: 0.5643 - val_accuracy: 0.9091\n",
            "Epoch 52/200\n",
            "3/3 [==============================] - 0s 8ms/step - loss: 0.5878 - accuracy: 0.8404 - val_loss: 0.5597 - val_accuracy: 0.9091\n",
            "Epoch 53/200\n",
            "3/3 [==============================] - 0s 8ms/step - loss: 0.5831 - accuracy: 0.8404 - val_loss: 0.5553 - val_accuracy: 0.9091\n",
            "Epoch 54/200\n",
            "3/3 [==============================] - 0s 9ms/step - loss: 0.5785 - accuracy: 0.8404 - val_loss: 0.5511 - val_accuracy: 0.9091\n",
            "Epoch 55/200\n",
            "3/3 [==============================] - 0s 9ms/step - loss: 0.5741 - accuracy: 0.8511 - val_loss: 0.5469 - val_accuracy: 0.9091\n",
            "Epoch 56/200\n",
            "3/3 [==============================] - 0s 8ms/step - loss: 0.5699 - accuracy: 0.8511 - val_loss: 0.5429 - val_accuracy: 0.9091\n",
            "Epoch 57/200\n",
            "3/3 [==============================] - 0s 9ms/step - loss: 0.5657 - accuracy: 0.8404 - val_loss: 0.5390 - val_accuracy: 0.9091\n",
            "Epoch 58/200\n",
            "3/3 [==============================] - 0s 10ms/step - loss: 0.5617 - accuracy: 0.8404 - val_loss: 0.5353 - val_accuracy: 0.9091\n",
            "Epoch 59/200\n",
            "3/3 [==============================] - 0s 7ms/step - loss: 0.5578 - accuracy: 0.8404 - val_loss: 0.5316 - val_accuracy: 0.9091\n",
            "Epoch 60/200\n",
            "3/3 [==============================] - 0s 8ms/step - loss: 0.5539 - accuracy: 0.8511 - val_loss: 0.5280 - val_accuracy: 0.9091\n",
            "Epoch 61/200\n",
            "3/3 [==============================] - 0s 9ms/step - loss: 0.5503 - accuracy: 0.8617 - val_loss: 0.5246 - val_accuracy: 0.9091\n",
            "Epoch 62/200\n",
            "3/3 [==============================] - 0s 8ms/step - loss: 0.5466 - accuracy: 0.8617 - val_loss: 0.5212 - val_accuracy: 0.9091\n",
            "Epoch 63/200\n",
            "3/3 [==============================] - 0s 8ms/step - loss: 0.5431 - accuracy: 0.8617 - val_loss: 0.5180 - val_accuracy: 0.9091\n",
            "Epoch 64/200\n",
            "3/3 [==============================] - 0s 8ms/step - loss: 0.5397 - accuracy: 0.8617 - val_loss: 0.5148 - val_accuracy: 0.9091\n",
            "Epoch 65/200\n",
            "3/3 [==============================] - 0s 8ms/step - loss: 0.5363 - accuracy: 0.8617 - val_loss: 0.5118 - val_accuracy: 0.9091\n",
            "Epoch 66/200\n",
            "3/3 [==============================] - 0s 8ms/step - loss: 0.5331 - accuracy: 0.8617 - val_loss: 0.5088 - val_accuracy: 0.9091\n",
            "Epoch 67/200\n",
            "3/3 [==============================] - 0s 8ms/step - loss: 0.5299 - accuracy: 0.8617 - val_loss: 0.5059 - val_accuracy: 0.9091\n",
            "Epoch 68/200\n",
            "3/3 [==============================] - 0s 7ms/step - loss: 0.5268 - accuracy: 0.8617 - val_loss: 0.5031 - val_accuracy: 0.9091\n",
            "Epoch 69/200\n",
            "3/3 [==============================] - 0s 8ms/step - loss: 0.5239 - accuracy: 0.8617 - val_loss: 0.5003 - val_accuracy: 0.9091\n",
            "Epoch 70/200\n",
            "3/3 [==============================] - 0s 10ms/step - loss: 0.5209 - accuracy: 0.8617 - val_loss: 0.4977 - val_accuracy: 0.9091\n",
            "Epoch 71/200\n",
            "3/3 [==============================] - 0s 9ms/step - loss: 0.5181 - accuracy: 0.8617 - val_loss: 0.4951 - val_accuracy: 0.9091\n",
            "Epoch 72/200\n",
            "3/3 [==============================] - 0s 10ms/step - loss: 0.5152 - accuracy: 0.8617 - val_loss: 0.4925 - val_accuracy: 0.9091\n",
            "Epoch 73/200\n",
            "3/3 [==============================] - 0s 11ms/step - loss: 0.5126 - accuracy: 0.8511 - val_loss: 0.4901 - val_accuracy: 0.9091\n",
            "Epoch 74/200\n",
            "3/3 [==============================] - 0s 10ms/step - loss: 0.5098 - accuracy: 0.8723 - val_loss: 0.4878 - val_accuracy: 0.9091\n",
            "Epoch 75/200\n",
            "3/3 [==============================] - 0s 10ms/step - loss: 0.5072 - accuracy: 0.8617 - val_loss: 0.4854 - val_accuracy: 0.9091\n",
            "Epoch 76/200\n",
            "3/3 [==============================] - 0s 9ms/step - loss: 0.5046 - accuracy: 0.8617 - val_loss: 0.4832 - val_accuracy: 0.9091\n",
            "Epoch 77/200\n",
            "3/3 [==============================] - 0s 8ms/step - loss: 0.5021 - accuracy: 0.8617 - val_loss: 0.4810 - val_accuracy: 0.9091\n",
            "Epoch 78/200\n",
            "3/3 [==============================] - 0s 8ms/step - loss: 0.4997 - accuracy: 0.8617 - val_loss: 0.4788 - val_accuracy: 0.9091\n",
            "Epoch 79/200\n",
            "3/3 [==============================] - 0s 9ms/step - loss: 0.4973 - accuracy: 0.8617 - val_loss: 0.4767 - val_accuracy: 0.9091\n",
            "Epoch 80/200\n",
            "3/3 [==============================] - 0s 9ms/step - loss: 0.4950 - accuracy: 0.8617 - val_loss: 0.4746 - val_accuracy: 0.9091\n",
            "Epoch 81/200\n",
            "3/3 [==============================] - 0s 9ms/step - loss: 0.4927 - accuracy: 0.8617 - val_loss: 0.4726 - val_accuracy: 0.9091\n",
            "Epoch 82/200\n",
            "3/3 [==============================] - 0s 9ms/step - loss: 0.4904 - accuracy: 0.8617 - val_loss: 0.4707 - val_accuracy: 0.9091\n",
            "Epoch 83/200\n",
            "3/3 [==============================] - 0s 9ms/step - loss: 0.4882 - accuracy: 0.8617 - val_loss: 0.4688 - val_accuracy: 0.9091\n",
            "Epoch 84/200\n",
            "3/3 [==============================] - 0s 8ms/step - loss: 0.4860 - accuracy: 0.8617 - val_loss: 0.4669 - val_accuracy: 0.9091\n",
            "Epoch 85/200\n",
            "3/3 [==============================] - 0s 8ms/step - loss: 0.4841 - accuracy: 0.8617 - val_loss: 0.4650 - val_accuracy: 0.9091\n",
            "Epoch 86/200\n",
            "3/3 [==============================] - 0s 8ms/step - loss: 0.4821 - accuracy: 0.8617 - val_loss: 0.4633 - val_accuracy: 0.9091\n",
            "Epoch 87/200\n",
            "3/3 [==============================] - 0s 8ms/step - loss: 0.4798 - accuracy: 0.8617 - val_loss: 0.4616 - val_accuracy: 0.9091\n",
            "Epoch 88/200\n",
            "3/3 [==============================] - 0s 8ms/step - loss: 0.4779 - accuracy: 0.8617 - val_loss: 0.4598 - val_accuracy: 0.9091\n",
            "Epoch 89/200\n",
            "3/3 [==============================] - 0s 9ms/step - loss: 0.4759 - accuracy: 0.8617 - val_loss: 0.4582 - val_accuracy: 0.9091\n",
            "Epoch 90/200\n",
            "3/3 [==============================] - 0s 9ms/step - loss: 0.4741 - accuracy: 0.8617 - val_loss: 0.4566 - val_accuracy: 0.9091\n",
            "Epoch 91/200\n",
            "3/3 [==============================] - 0s 11ms/step - loss: 0.4722 - accuracy: 0.8617 - val_loss: 0.4550 - val_accuracy: 0.9091\n",
            "Epoch 92/200\n",
            "3/3 [==============================] - 0s 9ms/step - loss: 0.4704 - accuracy: 0.8617 - val_loss: 0.4534 - val_accuracy: 0.9091\n",
            "Epoch 93/200\n",
            "3/3 [==============================] - 0s 10ms/step - loss: 0.4684 - accuracy: 0.8617 - val_loss: 0.4520 - val_accuracy: 0.9091\n",
            "Epoch 94/200\n",
            "3/3 [==============================] - 0s 9ms/step - loss: 0.4666 - accuracy: 0.8617 - val_loss: 0.4505 - val_accuracy: 0.9091\n",
            "Epoch 95/200\n",
            "3/3 [==============================] - 0s 8ms/step - loss: 0.4650 - accuracy: 0.8617 - val_loss: 0.4490 - val_accuracy: 0.9091\n",
            "Epoch 96/200\n",
            "3/3 [==============================] - 0s 8ms/step - loss: 0.4632 - accuracy: 0.8617 - val_loss: 0.4476 - val_accuracy: 0.9091\n",
            "Epoch 97/200\n",
            "3/3 [==============================] - 0s 8ms/step - loss: 0.4616 - accuracy: 0.8617 - val_loss: 0.4463 - val_accuracy: 0.9091\n",
            "Epoch 98/200\n",
            "3/3 [==============================] - 0s 10ms/step - loss: 0.4598 - accuracy: 0.8617 - val_loss: 0.4449 - val_accuracy: 0.9091\n",
            "Epoch 99/200\n",
            "3/3 [==============================] - 0s 9ms/step - loss: 0.4582 - accuracy: 0.8617 - val_loss: 0.4436 - val_accuracy: 0.9091\n",
            "Epoch 100/200\n",
            "3/3 [==============================] - 0s 10ms/step - loss: 0.4565 - accuracy: 0.8617 - val_loss: 0.4423 - val_accuracy: 0.9091\n",
            "Epoch 101/200\n",
            "3/3 [==============================] - 0s 10ms/step - loss: 0.4550 - accuracy: 0.8617 - val_loss: 0.4410 - val_accuracy: 0.9091\n",
            "Epoch 102/200\n",
            "3/3 [==============================] - 0s 8ms/step - loss: 0.4535 - accuracy: 0.8617 - val_loss: 0.4398 - val_accuracy: 0.9091\n",
            "Epoch 103/200\n",
            "3/3 [==============================] - 0s 10ms/step - loss: 0.4519 - accuracy: 0.8723 - val_loss: 0.4385 - val_accuracy: 0.9091\n",
            "Epoch 104/200\n",
            "3/3 [==============================] - 0s 9ms/step - loss: 0.4504 - accuracy: 0.8723 - val_loss: 0.4373 - val_accuracy: 0.9091\n",
            "Epoch 105/200\n",
            "3/3 [==============================] - 0s 11ms/step - loss: 0.4489 - accuracy: 0.8830 - val_loss: 0.4361 - val_accuracy: 0.9091\n",
            "Epoch 106/200\n",
            "3/3 [==============================] - 0s 9ms/step - loss: 0.4476 - accuracy: 0.8936 - val_loss: 0.4350 - val_accuracy: 0.9091\n",
            "Epoch 107/200\n",
            "3/3 [==============================] - 0s 9ms/step - loss: 0.4460 - accuracy: 0.8936 - val_loss: 0.4339 - val_accuracy: 0.9091\n",
            "Epoch 108/200\n",
            "3/3 [==============================] - 0s 8ms/step - loss: 0.4447 - accuracy: 0.8936 - val_loss: 0.4327 - val_accuracy: 0.9091\n",
            "Epoch 109/200\n",
            "3/3 [==============================] - 0s 10ms/step - loss: 0.4432 - accuracy: 0.9043 - val_loss: 0.4317 - val_accuracy: 0.9091\n",
            "Epoch 110/200\n",
            "3/3 [==============================] - 0s 8ms/step - loss: 0.4418 - accuracy: 0.9043 - val_loss: 0.4306 - val_accuracy: 0.9091\n",
            "Epoch 111/200\n",
            "3/3 [==============================] - 0s 10ms/step - loss: 0.4406 - accuracy: 0.9043 - val_loss: 0.4295 - val_accuracy: 0.9091\n",
            "Epoch 112/200\n",
            "3/3 [==============================] - 0s 9ms/step - loss: 0.4392 - accuracy: 0.9043 - val_loss: 0.4285 - val_accuracy: 0.9091\n",
            "Epoch 113/200\n",
            "3/3 [==============================] - 0s 9ms/step - loss: 0.4378 - accuracy: 0.9043 - val_loss: 0.4275 - val_accuracy: 0.9091\n",
            "Epoch 114/200\n",
            "3/3 [==============================] - 0s 9ms/step - loss: 0.4365 - accuracy: 0.9043 - val_loss: 0.4265 - val_accuracy: 0.9091\n",
            "Epoch 115/200\n",
            "3/3 [==============================] - 0s 9ms/step - loss: 0.4352 - accuracy: 0.9043 - val_loss: 0.4255 - val_accuracy: 0.9091\n",
            "Epoch 116/200\n",
            "3/3 [==============================] - 0s 8ms/step - loss: 0.4340 - accuracy: 0.9043 - val_loss: 0.4246 - val_accuracy: 0.9091\n",
            "Epoch 117/200\n",
            "3/3 [==============================] - 0s 10ms/step - loss: 0.4327 - accuracy: 0.9043 - val_loss: 0.4237 - val_accuracy: 0.9091\n",
            "Epoch 118/200\n",
            "3/3 [==============================] - 0s 8ms/step - loss: 0.4315 - accuracy: 0.9043 - val_loss: 0.4227 - val_accuracy: 0.9091\n",
            "Epoch 119/200\n",
            "3/3 [==============================] - 0s 9ms/step - loss: 0.4303 - accuracy: 0.9043 - val_loss: 0.4218 - val_accuracy: 0.9091\n",
            "Epoch 120/200\n",
            "3/3 [==============================] - 0s 9ms/step - loss: 0.4292 - accuracy: 0.9043 - val_loss: 0.4209 - val_accuracy: 0.9091\n",
            "Epoch 121/200\n",
            "3/3 [==============================] - 0s 8ms/step - loss: 0.4279 - accuracy: 0.9043 - val_loss: 0.4201 - val_accuracy: 0.9091\n",
            "Epoch 122/200\n",
            "3/3 [==============================] - 0s 9ms/step - loss: 0.4267 - accuracy: 0.9043 - val_loss: 0.4192 - val_accuracy: 0.9091\n",
            "Epoch 123/200\n",
            "3/3 [==============================] - 0s 9ms/step - loss: 0.4256 - accuracy: 0.9043 - val_loss: 0.4183 - val_accuracy: 0.9091\n",
            "Epoch 124/200\n",
            "3/3 [==============================] - 0s 9ms/step - loss: 0.4245 - accuracy: 0.9043 - val_loss: 0.4175 - val_accuracy: 0.9091\n",
            "Epoch 125/200\n",
            "3/3 [==============================] - 0s 10ms/step - loss: 0.4233 - accuracy: 0.9043 - val_loss: 0.4167 - val_accuracy: 0.9091\n",
            "Epoch 126/200\n",
            "3/3 [==============================] - 0s 10ms/step - loss: 0.4222 - accuracy: 0.9043 - val_loss: 0.4159 - val_accuracy: 0.9091\n",
            "Epoch 127/200\n",
            "3/3 [==============================] - 0s 8ms/step - loss: 0.4211 - accuracy: 0.9043 - val_loss: 0.4151 - val_accuracy: 0.9091\n",
            "Epoch 128/200\n",
            "3/3 [==============================] - 0s 9ms/step - loss: 0.4201 - accuracy: 0.9043 - val_loss: 0.4143 - val_accuracy: 0.9091\n",
            "Epoch 129/200\n",
            "3/3 [==============================] - 0s 9ms/step - loss: 0.4190 - accuracy: 0.9149 - val_loss: 0.4135 - val_accuracy: 0.9091\n",
            "Epoch 130/200\n",
            "3/3 [==============================] - 0s 9ms/step - loss: 0.4179 - accuracy: 0.9149 - val_loss: 0.4128 - val_accuracy: 0.9091\n",
            "Epoch 131/200\n",
            "3/3 [==============================] - 0s 8ms/step - loss: 0.4169 - accuracy: 0.9149 - val_loss: 0.4120 - val_accuracy: 0.9091\n",
            "Epoch 132/200\n",
            "3/3 [==============================] - 0s 11ms/step - loss: 0.4159 - accuracy: 0.9149 - val_loss: 0.4113 - val_accuracy: 0.9091\n",
            "Epoch 133/200\n",
            "3/3 [==============================] - 0s 10ms/step - loss: 0.4149 - accuracy: 0.9149 - val_loss: 0.4106 - val_accuracy: 0.9091\n",
            "Epoch 134/200\n",
            "3/3 [==============================] - 0s 12ms/step - loss: 0.4138 - accuracy: 0.9149 - val_loss: 0.4099 - val_accuracy: 0.9091\n",
            "Epoch 135/200\n",
            "3/3 [==============================] - 0s 9ms/step - loss: 0.4129 - accuracy: 0.9149 - val_loss: 0.4093 - val_accuracy: 0.9091\n",
            "Epoch 136/200\n",
            "3/3 [==============================] - 0s 8ms/step - loss: 0.4118 - accuracy: 0.9149 - val_loss: 0.4086 - val_accuracy: 0.9091\n",
            "Epoch 137/200\n",
            "3/3 [==============================] - 0s 9ms/step - loss: 0.4109 - accuracy: 0.9149 - val_loss: 0.4079 - val_accuracy: 0.9091\n",
            "Epoch 138/200\n",
            "3/3 [==============================] - 0s 9ms/step - loss: 0.4099 - accuracy: 0.9149 - val_loss: 0.4072 - val_accuracy: 0.9091\n",
            "Epoch 139/200\n",
            "3/3 [==============================] - 0s 11ms/step - loss: 0.4090 - accuracy: 0.9149 - val_loss: 0.4066 - val_accuracy: 0.9091\n",
            "Epoch 140/200\n",
            "3/3 [==============================] - 0s 9ms/step - loss: 0.4080 - accuracy: 0.9149 - val_loss: 0.4060 - val_accuracy: 0.9091\n",
            "Epoch 141/200\n",
            "3/3 [==============================] - 0s 9ms/step - loss: 0.4071 - accuracy: 0.9149 - val_loss: 0.4054 - val_accuracy: 0.9091\n",
            "Epoch 142/200\n",
            "3/3 [==============================] - 0s 8ms/step - loss: 0.4062 - accuracy: 0.9149 - val_loss: 0.4048 - val_accuracy: 0.9091\n",
            "Epoch 143/200\n",
            "3/3 [==============================] - 0s 9ms/step - loss: 0.4053 - accuracy: 0.9149 - val_loss: 0.4042 - val_accuracy: 0.9091\n",
            "Epoch 144/200\n",
            "3/3 [==============================] - 0s 8ms/step - loss: 0.4044 - accuracy: 0.9149 - val_loss: 0.4036 - val_accuracy: 0.9091\n",
            "Epoch 145/200\n",
            "3/3 [==============================] - 0s 11ms/step - loss: 0.4035 - accuracy: 0.9149 - val_loss: 0.4030 - val_accuracy: 0.9091\n",
            "Epoch 146/200\n",
            "3/3 [==============================] - 0s 9ms/step - loss: 0.4026 - accuracy: 0.9149 - val_loss: 0.4024 - val_accuracy: 0.9091\n",
            "Epoch 147/200\n",
            "3/3 [==============================] - 0s 10ms/step - loss: 0.4017 - accuracy: 0.9149 - val_loss: 0.4019 - val_accuracy: 0.9091\n",
            "Epoch 148/200\n",
            "3/3 [==============================] - 0s 8ms/step - loss: 0.4009 - accuracy: 0.9149 - val_loss: 0.4013 - val_accuracy: 0.9091\n",
            "Epoch 149/200\n",
            "3/3 [==============================] - 0s 9ms/step - loss: 0.4001 - accuracy: 0.9149 - val_loss: 0.4008 - val_accuracy: 0.9091\n",
            "Epoch 150/200\n",
            "3/3 [==============================] - 0s 9ms/step - loss: 0.3993 - accuracy: 0.9149 - val_loss: 0.4002 - val_accuracy: 0.9091\n",
            "Epoch 151/200\n",
            "3/3 [==============================] - 0s 10ms/step - loss: 0.3984 - accuracy: 0.9149 - val_loss: 0.3997 - val_accuracy: 0.9091\n",
            "Epoch 152/200\n",
            "3/3 [==============================] - 0s 9ms/step - loss: 0.3977 - accuracy: 0.9149 - val_loss: 0.3992 - val_accuracy: 0.9091\n",
            "Epoch 153/200\n",
            "3/3 [==============================] - 0s 9ms/step - loss: 0.3967 - accuracy: 0.9149 - val_loss: 0.3987 - val_accuracy: 0.9091\n",
            "Epoch 154/200\n",
            "3/3 [==============================] - 0s 9ms/step - loss: 0.3962 - accuracy: 0.9149 - val_loss: 0.3981 - val_accuracy: 0.9091\n",
            "Epoch 155/200\n",
            "3/3 [==============================] - 0s 8ms/step - loss: 0.3952 - accuracy: 0.9149 - val_loss: 0.3976 - val_accuracy: 0.9091\n",
            "Epoch 156/200\n",
            "3/3 [==============================] - 0s 10ms/step - loss: 0.3943 - accuracy: 0.9149 - val_loss: 0.3971 - val_accuracy: 0.9091\n",
            "Epoch 157/200\n",
            "3/3 [==============================] - 0s 9ms/step - loss: 0.3936 - accuracy: 0.9149 - val_loss: 0.3966 - val_accuracy: 0.9091\n",
            "Epoch 158/200\n",
            "3/3 [==============================] - 0s 9ms/step - loss: 0.3928 - accuracy: 0.9149 - val_loss: 0.3961 - val_accuracy: 0.9091\n",
            "Epoch 159/200\n",
            "3/3 [==============================] - 0s 8ms/step - loss: 0.3920 - accuracy: 0.9149 - val_loss: 0.3956 - val_accuracy: 0.9091\n",
            "Epoch 160/200\n",
            "3/3 [==============================] - 0s 9ms/step - loss: 0.3913 - accuracy: 0.9149 - val_loss: 0.3951 - val_accuracy: 0.9091\n",
            "Epoch 161/200\n",
            "3/3 [==============================] - 0s 10ms/step - loss: 0.3906 - accuracy: 0.9149 - val_loss: 0.3947 - val_accuracy: 0.9091\n",
            "Epoch 162/200\n",
            "3/3 [==============================] - 0s 9ms/step - loss: 0.3898 - accuracy: 0.9149 - val_loss: 0.3942 - val_accuracy: 0.9091\n",
            "Epoch 163/200\n",
            "3/3 [==============================] - 0s 10ms/step - loss: 0.3890 - accuracy: 0.9149 - val_loss: 0.3937 - val_accuracy: 0.9091\n",
            "Epoch 164/200\n",
            "3/3 [==============================] - 0s 8ms/step - loss: 0.3883 - accuracy: 0.9149 - val_loss: 0.3933 - val_accuracy: 0.9091\n",
            "Epoch 165/200\n",
            "3/3 [==============================] - 0s 7ms/step - loss: 0.3875 - accuracy: 0.9149 - val_loss: 0.3928 - val_accuracy: 0.9091\n",
            "Epoch 166/200\n",
            "3/3 [==============================] - 0s 10ms/step - loss: 0.3869 - accuracy: 0.9149 - val_loss: 0.3923 - val_accuracy: 0.9091\n",
            "Epoch 167/200\n",
            "3/3 [==============================] - 0s 9ms/step - loss: 0.3862 - accuracy: 0.9043 - val_loss: 0.3919 - val_accuracy: 0.9091\n",
            "Epoch 168/200\n",
            "3/3 [==============================] - 0s 11ms/step - loss: 0.3854 - accuracy: 0.9149 - val_loss: 0.3915 - val_accuracy: 0.9091\n",
            "Epoch 169/200\n",
            "3/3 [==============================] - 0s 9ms/step - loss: 0.3847 - accuracy: 0.9043 - val_loss: 0.3911 - val_accuracy: 0.9091\n",
            "Epoch 170/200\n",
            "3/3 [==============================] - 0s 8ms/step - loss: 0.3840 - accuracy: 0.9043 - val_loss: 0.3907 - val_accuracy: 0.9091\n",
            "Epoch 171/200\n",
            "3/3 [==============================] - 0s 9ms/step - loss: 0.3833 - accuracy: 0.9043 - val_loss: 0.3903 - val_accuracy: 0.9091\n",
            "Epoch 172/200\n",
            "3/3 [==============================] - 0s 9ms/step - loss: 0.3826 - accuracy: 0.8936 - val_loss: 0.3898 - val_accuracy: 0.9091\n",
            "Epoch 173/200\n",
            "3/3 [==============================] - 0s 8ms/step - loss: 0.3822 - accuracy: 0.8936 - val_loss: 0.3895 - val_accuracy: 0.9091\n",
            "Epoch 174/200\n",
            "3/3 [==============================] - 0s 11ms/step - loss: 0.3813 - accuracy: 0.8936 - val_loss: 0.3891 - val_accuracy: 0.9091\n",
            "Epoch 175/200\n",
            "3/3 [==============================] - 0s 7ms/step - loss: 0.3808 - accuracy: 0.8936 - val_loss: 0.3887 - val_accuracy: 0.9091\n",
            "Epoch 176/200\n",
            "3/3 [==============================] - 0s 10ms/step - loss: 0.3800 - accuracy: 0.8936 - val_loss: 0.3883 - val_accuracy: 0.9091\n",
            "Epoch 177/200\n",
            "3/3 [==============================] - 0s 9ms/step - loss: 0.3794 - accuracy: 0.8936 - val_loss: 0.3879 - val_accuracy: 0.9091\n",
            "Epoch 178/200\n",
            "3/3 [==============================] - 0s 10ms/step - loss: 0.3787 - accuracy: 0.8936 - val_loss: 0.3875 - val_accuracy: 0.9091\n",
            "Epoch 179/200\n",
            "3/3 [==============================] - 0s 9ms/step - loss: 0.3780 - accuracy: 0.8936 - val_loss: 0.3871 - val_accuracy: 0.9091\n",
            "Epoch 180/200\n",
            "3/3 [==============================] - 0s 9ms/step - loss: 0.3774 - accuracy: 0.8936 - val_loss: 0.3868 - val_accuracy: 0.9091\n",
            "Epoch 181/200\n",
            "3/3 [==============================] - 0s 8ms/step - loss: 0.3768 - accuracy: 0.8936 - val_loss: 0.3864 - val_accuracy: 0.9091\n",
            "Epoch 182/200\n",
            "3/3 [==============================] - 0s 9ms/step - loss: 0.3761 - accuracy: 0.8936 - val_loss: 0.3860 - val_accuracy: 0.9091\n",
            "Epoch 183/200\n",
            "3/3 [==============================] - 0s 9ms/step - loss: 0.3755 - accuracy: 0.8936 - val_loss: 0.3856 - val_accuracy: 0.9091\n",
            "Epoch 184/200\n",
            "3/3 [==============================] - 0s 8ms/step - loss: 0.3749 - accuracy: 0.8936 - val_loss: 0.3853 - val_accuracy: 0.9091\n",
            "Epoch 185/200\n",
            "3/3 [==============================] - 0s 10ms/step - loss: 0.3744 - accuracy: 0.8936 - val_loss: 0.3849 - val_accuracy: 0.9091\n",
            "Epoch 186/200\n",
            "3/3 [==============================] - 0s 10ms/step - loss: 0.3737 - accuracy: 0.8936 - val_loss: 0.3846 - val_accuracy: 0.9091\n",
            "Epoch 187/200\n",
            "3/3 [==============================] - 0s 10ms/step - loss: 0.3731 - accuracy: 0.8936 - val_loss: 0.3842 - val_accuracy: 0.9091\n",
            "Epoch 188/200\n",
            "3/3 [==============================] - 0s 9ms/step - loss: 0.3725 - accuracy: 0.8936 - val_loss: 0.3839 - val_accuracy: 0.9091\n",
            "Epoch 189/200\n",
            "3/3 [==============================] - 0s 9ms/step - loss: 0.3720 - accuracy: 0.8936 - val_loss: 0.3836 - val_accuracy: 0.9091\n",
            "Epoch 190/200\n",
            "3/3 [==============================] - 0s 12ms/step - loss: 0.3714 - accuracy: 0.8936 - val_loss: 0.3832 - val_accuracy: 0.9091\n",
            "Epoch 191/200\n",
            "3/3 [==============================] - 0s 10ms/step - loss: 0.3708 - accuracy: 0.8936 - val_loss: 0.3828 - val_accuracy: 0.9091\n",
            "Epoch 192/200\n",
            "3/3 [==============================] - 0s 10ms/step - loss: 0.3702 - accuracy: 0.8936 - val_loss: 0.3825 - val_accuracy: 0.9091\n",
            "Epoch 193/200\n",
            "3/3 [==============================] - 0s 9ms/step - loss: 0.3696 - accuracy: 0.8936 - val_loss: 0.3822 - val_accuracy: 0.9091\n",
            "Epoch 194/200\n",
            "3/3 [==============================] - 0s 10ms/step - loss: 0.3691 - accuracy: 0.8936 - val_loss: 0.3818 - val_accuracy: 0.9091\n",
            "Epoch 195/200\n",
            "3/3 [==============================] - 0s 10ms/step - loss: 0.3685 - accuracy: 0.8936 - val_loss: 0.3815 - val_accuracy: 0.9091\n",
            "Epoch 196/200\n",
            "3/3 [==============================] - 0s 10ms/step - loss: 0.3680 - accuracy: 0.8936 - val_loss: 0.3812 - val_accuracy: 0.9091\n",
            "Epoch 197/200\n",
            "3/3 [==============================] - 0s 8ms/step - loss: 0.3673 - accuracy: 0.8936 - val_loss: 0.3809 - val_accuracy: 0.9091\n",
            "Epoch 198/200\n",
            "3/3 [==============================] - 0s 9ms/step - loss: 0.3668 - accuracy: 0.8936 - val_loss: 0.3806 - val_accuracy: 0.9091\n",
            "Epoch 199/200\n",
            "3/3 [==============================] - 0s 9ms/step - loss: 0.3662 - accuracy: 0.8936 - val_loss: 0.3803 - val_accuracy: 0.9091\n",
            "Epoch 200/200\n",
            "3/3 [==============================] - 0s 8ms/step - loss: 0.3657 - accuracy: 0.8936 - val_loss: 0.3800 - val_accuracy: 0.9091\n",
            "WARNING:tensorflow:6 out of the last 11 calls to <function Model.make_predict_function.<locals>.predict_function at 0x7ff63ccb8bf8> triggered tf.function retracing. Tracing is expensive and the excessive number of tracings could be due to (1) creating @tf.function repeatedly in a loop, (2) passing tensors with different shapes, (3) passing Python objects instead of tensors. For (1), please define your @tf.function outside of the loop. For (2), @tf.function has experimental_relax_shapes=True option that relaxes argument shapes that can avoid unnecessary retracing. For (3), please refer to https://www.tensorflow.org/tutorials/customization/performance#python_or_tensor_args and https://www.tensorflow.org/api_docs/python/tf/function for  more details.\n"
          ],
          "name": "stdout"
        }
      ]
    },
    {
      "cell_type": "code",
      "metadata": {
        "id": "SmaEhBr5MOeQ",
        "outputId": "b1d3f310-c16c-46d3-fbb5-bb1c9ac69b57",
        "colab": {
          "base_uri": "https://localhost:8080/",
          "height": 34
        }
      },
      "source": [
        "print('Accuracy: %.2f' % accuracy_score(y_test, y_pred))"
      ],
      "execution_count": 82,
      "outputs": [
        {
          "output_type": "stream",
          "text": [
            "Accuracy: 0.91\n"
          ],
          "name": "stdout"
        }
      ]
    },
    {
      "cell_type": "code",
      "metadata": {
        "id": "C0suVhDYSH97",
        "outputId": "52830dd8-cea1-496e-bd04-f445fb0e8927",
        "colab": {
          "base_uri": "https://localhost:8080/",
          "height": 187
        }
      },
      "source": [
        "model.summary()"
      ],
      "execution_count": 57,
      "outputs": [
        {
          "output_type": "stream",
          "text": [
            "Model: \"sequential_7\"\n",
            "_________________________________________________________________\n",
            "Layer (type)                 Output Shape              Param #   \n",
            "=================================================================\n",
            "dense_7 (Dense)              (None, 3)                 15        \n",
            "=================================================================\n",
            "Total params: 15\n",
            "Trainable params: 15\n",
            "Non-trainable params: 0\n",
            "_________________________________________________________________\n"
          ],
          "name": "stdout"
        }
      ]
    }
  ]
}