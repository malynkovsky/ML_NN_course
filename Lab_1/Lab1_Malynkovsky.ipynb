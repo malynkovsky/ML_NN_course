{
  "nbformat": 4,
  "nbformat_minor": 0,
  "metadata": {
    "colab": {
      "name": "Lab1_NN.ipynb",
      "provenance": [],
      "collapsed_sections": []
    },
    "kernelspec": {
      "name": "python3",
      "display_name": "Python 3"
    }
  },
  "cells": [
    {
      "cell_type": "code",
      "metadata": {
        "id": "jev0p5olXb5z"
      },
      "source": [
        "from sklearn import datasets\n",
        "from sklearn.preprocessing import StandardScaler\n",
        "from sklearn.linear_model import Perceptron\n",
        "from sklearn.model_selection import train_test_split\n",
        "from sklearn.metrics import accuracy_score\n",
        "import numpy as np"
      ],
      "execution_count": 9,
      "outputs": []
    },
    {
      "cell_type": "code",
      "metadata": {
        "id": "MmqfQbMhd_dQ"
      },
      "source": [
        "import pandas as pd"
      ],
      "execution_count": 10,
      "outputs": []
    },
    {
      "cell_type": "code",
      "metadata": {
        "id": "NviOScJVeDIp"
      },
      "source": [
        "df = pd.read_csv('/content/Data_Cortex_Nuclear.csv')  "
      ],
      "execution_count": 11,
      "outputs": []
    },
    {
      "cell_type": "markdown",
      "metadata": {
        "id": "O4rfgFnucwYp"
      },
      "source": [
        ""
      ]
    },
    {
      "cell_type": "code",
      "metadata": {
        "id": "Whx2iWbzcw_X"
      },
      "source": [
        "df = pd.read_csv('/content/Data_Cortex_Nuclear.csv')  "
      ],
      "execution_count": null,
      "outputs": []
    },
    {
      "cell_type": "code",
      "metadata": {
        "id": "_u3Jg2PpeQCg",
        "outputId": "ebb16436-4f0a-4685-9dc1-90d86e3c0656",
        "colab": {
          "base_uri": "https://localhost:8080/",
          "height": 338
        }
      },
      "source": [
        "df.head()"
      ],
      "execution_count": 21,
      "outputs": [
        {
          "output_type": "execute_result",
          "data": {
            "text/html": [
              "<div>\n",
              "<style scoped>\n",
              "    .dataframe tbody tr th:only-of-type {\n",
              "        vertical-align: middle;\n",
              "    }\n",
              "\n",
              "    .dataframe tbody tr th {\n",
              "        vertical-align: top;\n",
              "    }\n",
              "\n",
              "    .dataframe thead th {\n",
              "        text-align: right;\n",
              "    }\n",
              "</style>\n",
              "<table border=\"1\" class=\"dataframe\">\n",
              "  <thead>\n",
              "    <tr style=\"text-align: right;\">\n",
              "      <th></th>\n",
              "      <th>MouseID</th>\n",
              "      <th>DYRK1A_N</th>\n",
              "      <th>ITSN1_N</th>\n",
              "      <th>BDNF_N</th>\n",
              "      <th>NR1_N</th>\n",
              "      <th>NR2A_N</th>\n",
              "      <th>pAKT_N</th>\n",
              "      <th>pBRAF_N</th>\n",
              "      <th>pCAMKII_N</th>\n",
              "      <th>pCREB_N</th>\n",
              "      <th>pELK_N</th>\n",
              "      <th>pERK_N</th>\n",
              "      <th>pJNK_N</th>\n",
              "      <th>PKCA_N</th>\n",
              "      <th>pMEK_N</th>\n",
              "      <th>pNR1_N</th>\n",
              "      <th>pNR2A_N</th>\n",
              "      <th>pNR2B_N</th>\n",
              "      <th>pPKCAB_N</th>\n",
              "      <th>pRSK_N</th>\n",
              "      <th>AKT_N</th>\n",
              "      <th>BRAF_N</th>\n",
              "      <th>CAMKII_N</th>\n",
              "      <th>CREB_N</th>\n",
              "      <th>ELK_N</th>\n",
              "      <th>ERK_N</th>\n",
              "      <th>GSK3B_N</th>\n",
              "      <th>JNK_N</th>\n",
              "      <th>MEK_N</th>\n",
              "      <th>TRKA_N</th>\n",
              "      <th>RSK_N</th>\n",
              "      <th>APP_N</th>\n",
              "      <th>Bcatenin_N</th>\n",
              "      <th>SOD1_N</th>\n",
              "      <th>MTOR_N</th>\n",
              "      <th>P38_N</th>\n",
              "      <th>pMTOR_N</th>\n",
              "      <th>DSCR1_N</th>\n",
              "      <th>AMPKA_N</th>\n",
              "      <th>NR2B_N</th>\n",
              "      <th>...</th>\n",
              "      <th>TIAM1_N</th>\n",
              "      <th>pP70S6_N</th>\n",
              "      <th>NUMB_N</th>\n",
              "      <th>P70S6_N</th>\n",
              "      <th>pGSK3B_N</th>\n",
              "      <th>pPKCG_N</th>\n",
              "      <th>CDK5_N</th>\n",
              "      <th>S6_N</th>\n",
              "      <th>ADARB1_N</th>\n",
              "      <th>AcetylH3K9_N</th>\n",
              "      <th>RRP1_N</th>\n",
              "      <th>BAX_N</th>\n",
              "      <th>ARC_N</th>\n",
              "      <th>ERBB4_N</th>\n",
              "      <th>nNOS_N</th>\n",
              "      <th>Tau_N</th>\n",
              "      <th>GFAP_N</th>\n",
              "      <th>GluR3_N</th>\n",
              "      <th>GluR4_N</th>\n",
              "      <th>IL1B_N</th>\n",
              "      <th>P3525_N</th>\n",
              "      <th>pCASP9_N</th>\n",
              "      <th>PSD95_N</th>\n",
              "      <th>SNCA_N</th>\n",
              "      <th>Ubiquitin_N</th>\n",
              "      <th>pGSK3B_Tyr216_N</th>\n",
              "      <th>SHH_N</th>\n",
              "      <th>BAD_N</th>\n",
              "      <th>BCL2_N</th>\n",
              "      <th>pS6_N</th>\n",
              "      <th>pCFOS_N</th>\n",
              "      <th>SYP_N</th>\n",
              "      <th>H3AcK18_N</th>\n",
              "      <th>EGR1_N</th>\n",
              "      <th>H3MeK4_N</th>\n",
              "      <th>CaNA_N</th>\n",
              "      <th>Genotype</th>\n",
              "      <th>Treatment</th>\n",
              "      <th>Behavior</th>\n",
              "      <th>class</th>\n",
              "    </tr>\n",
              "  </thead>\n",
              "  <tbody>\n",
              "    <tr>\n",
              "      <th>75</th>\n",
              "      <td>3415_1</td>\n",
              "      <td>0.649781</td>\n",
              "      <td>0.828696</td>\n",
              "      <td>0.405862</td>\n",
              "      <td>2.921435</td>\n",
              "      <td>5.167979</td>\n",
              "      <td>0.207174</td>\n",
              "      <td>0.176640</td>\n",
              "      <td>3.728084</td>\n",
              "      <td>0.239283</td>\n",
              "      <td>1.666579</td>\n",
              "      <td>0.969466</td>\n",
              "      <td>0.321260</td>\n",
              "      <td>0.406562</td>\n",
              "      <td>0.255293</td>\n",
              "      <td>1.056343</td>\n",
              "      <td>1.099300</td>\n",
              "      <td>1.925284</td>\n",
              "      <td>2.231671</td>\n",
              "      <td>0.426859</td>\n",
              "      <td>0.873228</td>\n",
              "      <td>0.512773</td>\n",
              "      <td>0.343220</td>\n",
              "      <td>0.167629</td>\n",
              "      <td>1.852756</td>\n",
              "      <td>3.366492</td>\n",
              "      <td>1.503675</td>\n",
              "      <td>0.246019</td>\n",
              "      <td>0.305424</td>\n",
              "      <td>0.851006</td>\n",
              "      <td>0.165179</td>\n",
              "      <td>0.441557</td>\n",
              "      <td>2.578215</td>\n",
              "      <td>0.340857</td>\n",
              "      <td>0.487664</td>\n",
              "      <td>0.401050</td>\n",
              "      <td>0.781365</td>\n",
              "      <td>0.534033</td>\n",
              "      <td>0.431846</td>\n",
              "      <td>0.618023</td>\n",
              "      <td>...</td>\n",
              "      <td>0.427297</td>\n",
              "      <td>0.252056</td>\n",
              "      <td>0.242086</td>\n",
              "      <td>1.061181</td>\n",
              "      <td>0.163758</td>\n",
              "      <td>1.862368</td>\n",
              "      <td>0.321175</td>\n",
              "      <td>0.541041</td>\n",
              "      <td>2.159547</td>\n",
              "      <td>0.134639</td>\n",
              "      <td>0.158178</td>\n",
              "      <td>0.196124</td>\n",
              "      <td>0.132001</td>\n",
              "      <td>0.161120</td>\n",
              "      <td>0.210988</td>\n",
              "      <td>0.210379</td>\n",
              "      <td>0.128145</td>\n",
              "      <td>0.292461</td>\n",
              "      <td>0.152597</td>\n",
              "      <td>0.527242</td>\n",
              "      <td>0.348062</td>\n",
              "      <td>1.687551</td>\n",
              "      <td>2.436587</td>\n",
              "      <td>0.168172</td>\n",
              "      <td>1.139154</td>\n",
              "      <td>0.987774</td>\n",
              "      <td>0.239752</td>\n",
              "      <td>0.139052</td>\n",
              "      <td>0.112926</td>\n",
              "      <td>0.132001</td>\n",
              "      <td>0.129363</td>\n",
              "      <td>0.486912</td>\n",
              "      <td>0.125152</td>\n",
              "      <td>0.146865</td>\n",
              "      <td>0.143517</td>\n",
              "      <td>1.627181</td>\n",
              "      <td>Control</td>\n",
              "      <td>Memantine</td>\n",
              "      <td>C/S</td>\n",
              "      <td>c-CS-m</td>\n",
              "    </tr>\n",
              "    <tr>\n",
              "      <th>76</th>\n",
              "      <td>3415_2</td>\n",
              "      <td>0.616481</td>\n",
              "      <td>0.841974</td>\n",
              "      <td>0.388584</td>\n",
              "      <td>2.862575</td>\n",
              "      <td>5.194163</td>\n",
              "      <td>0.223433</td>\n",
              "      <td>0.167725</td>\n",
              "      <td>3.648240</td>\n",
              "      <td>0.221030</td>\n",
              "      <td>1.565150</td>\n",
              "      <td>0.991845</td>\n",
              "      <td>0.342918</td>\n",
              "      <td>0.396910</td>\n",
              "      <td>0.270815</td>\n",
              "      <td>1.032790</td>\n",
              "      <td>1.078712</td>\n",
              "      <td>1.893047</td>\n",
              "      <td>2.330987</td>\n",
              "      <td>0.409185</td>\n",
              "      <td>0.789013</td>\n",
              "      <td>0.511502</td>\n",
              "      <td>0.344807</td>\n",
              "      <td>0.166695</td>\n",
              "      <td>1.852532</td>\n",
              "      <td>3.431159</td>\n",
              "      <td>1.471674</td>\n",
              "      <td>0.242060</td>\n",
              "      <td>0.300172</td>\n",
              "      <td>0.833648</td>\n",
              "      <td>0.162661</td>\n",
              "      <td>0.437253</td>\n",
              "      <td>2.538026</td>\n",
              "      <td>0.337682</td>\n",
              "      <td>0.472618</td>\n",
              "      <td>0.402318</td>\n",
              "      <td>0.786524</td>\n",
              "      <td>0.533219</td>\n",
              "      <td>0.429871</td>\n",
              "      <td>0.603176</td>\n",
              "      <td>...</td>\n",
              "      <td>0.425837</td>\n",
              "      <td>0.252017</td>\n",
              "      <td>0.242120</td>\n",
              "      <td>1.063985</td>\n",
              "      <td>0.169981</td>\n",
              "      <td>1.692204</td>\n",
              "      <td>0.320473</td>\n",
              "      <td>0.539226</td>\n",
              "      <td>2.167098</td>\n",
              "      <td>0.136273</td>\n",
              "      <td>0.161579</td>\n",
              "      <td>0.193348</td>\n",
              "      <td>0.139008</td>\n",
              "      <td>0.161529</td>\n",
              "      <td>0.210798</td>\n",
              "      <td>0.193398</td>\n",
              "      <td>0.134583</td>\n",
              "      <td>0.291489</td>\n",
              "      <td>0.151884</td>\n",
              "      <td>0.519787</td>\n",
              "      <td>0.365119</td>\n",
              "      <td>1.662872</td>\n",
              "      <td>2.354728</td>\n",
              "      <td>0.174704</td>\n",
              "      <td>1.227851</td>\n",
              "      <td>0.981655</td>\n",
              "      <td>0.249031</td>\n",
              "      <td>0.133787</td>\n",
              "      <td>0.121607</td>\n",
              "      <td>0.139008</td>\n",
              "      <td>0.143084</td>\n",
              "      <td>0.467833</td>\n",
              "      <td>0.112857</td>\n",
              "      <td>0.161132</td>\n",
              "      <td>0.145719</td>\n",
              "      <td>1.562096</td>\n",
              "      <td>Control</td>\n",
              "      <td>Memantine</td>\n",
              "      <td>C/S</td>\n",
              "      <td>c-CS-m</td>\n",
              "    </tr>\n",
              "    <tr>\n",
              "      <th>77</th>\n",
              "      <td>3415_3</td>\n",
              "      <td>0.637424</td>\n",
              "      <td>0.852882</td>\n",
              "      <td>0.400561</td>\n",
              "      <td>2.968155</td>\n",
              "      <td>5.350820</td>\n",
              "      <td>0.208790</td>\n",
              "      <td>0.173261</td>\n",
              "      <td>3.814545</td>\n",
              "      <td>0.222300</td>\n",
              "      <td>1.741732</td>\n",
              "      <td>0.989999</td>\n",
              "      <td>0.328976</td>\n",
              "      <td>0.397930</td>\n",
              "      <td>0.263795</td>\n",
              "      <td>1.092289</td>\n",
              "      <td>1.094043</td>\n",
              "      <td>1.915958</td>\n",
              "      <td>1.952540</td>\n",
              "      <td>0.454075</td>\n",
              "      <td>0.793754</td>\n",
              "      <td>0.533205</td>\n",
              "      <td>0.352048</td>\n",
              "      <td>0.172559</td>\n",
              "      <td>1.965786</td>\n",
              "      <td>3.434249</td>\n",
              "      <td>1.541802</td>\n",
              "      <td>0.251952</td>\n",
              "      <td>0.345908</td>\n",
              "      <td>0.881393</td>\n",
              "      <td>0.165278</td>\n",
              "      <td>0.443460</td>\n",
              "      <td>2.609615</td>\n",
              "      <td>0.342398</td>\n",
              "      <td>0.493903</td>\n",
              "      <td>0.410913</td>\n",
              "      <td>0.812791</td>\n",
              "      <td>0.564699</td>\n",
              "      <td>0.441179</td>\n",
              "      <td>0.640232</td>\n",
              "      <td>...</td>\n",
              "      <td>0.445214</td>\n",
              "      <td>0.252303</td>\n",
              "      <td>0.241042</td>\n",
              "      <td>1.059453</td>\n",
              "      <td>0.175230</td>\n",
              "      <td>1.654840</td>\n",
              "      <td>0.317856</td>\n",
              "      <td>0.561875</td>\n",
              "      <td>2.182447</td>\n",
              "      <td>0.135914</td>\n",
              "      <td>0.167508</td>\n",
              "      <td>0.192238</td>\n",
              "      <td>0.134804</td>\n",
              "      <td>0.181034</td>\n",
              "      <td>0.202534</td>\n",
              "      <td>0.204300</td>\n",
              "      <td>0.129555</td>\n",
              "      <td>0.270062</td>\n",
              "      <td>0.153629</td>\n",
              "      <td>0.506309</td>\n",
              "      <td>0.349753</td>\n",
              "      <td>1.716362</td>\n",
              "      <td>2.437317</td>\n",
              "      <td>0.156001</td>\n",
              "      <td>1.226103</td>\n",
              "      <td>0.994146</td>\n",
              "      <td>0.247956</td>\n",
              "      <td>0.142324</td>\n",
              "      <td>0.130261</td>\n",
              "      <td>0.134804</td>\n",
              "      <td>0.147673</td>\n",
              "      <td>0.462501</td>\n",
              "      <td>0.116433</td>\n",
              "      <td>0.160594</td>\n",
              "      <td>0.142879</td>\n",
              "      <td>1.571868</td>\n",
              "      <td>Control</td>\n",
              "      <td>Memantine</td>\n",
              "      <td>C/S</td>\n",
              "      <td>c-CS-m</td>\n",
              "    </tr>\n",
              "    <tr>\n",
              "      <th>78</th>\n",
              "      <td>3415_4</td>\n",
              "      <td>0.576815</td>\n",
              "      <td>0.755390</td>\n",
              "      <td>0.348346</td>\n",
              "      <td>2.624901</td>\n",
              "      <td>4.727509</td>\n",
              "      <td>0.205892</td>\n",
              "      <td>0.161192</td>\n",
              "      <td>3.778530</td>\n",
              "      <td>0.194153</td>\n",
              "      <td>1.505475</td>\n",
              "      <td>0.819167</td>\n",
              "      <td>0.311548</td>\n",
              "      <td>0.385822</td>\n",
              "      <td>0.241562</td>\n",
              "      <td>0.948414</td>\n",
              "      <td>0.924822</td>\n",
              "      <td>1.755842</td>\n",
              "      <td>2.297212</td>\n",
              "      <td>0.484818</td>\n",
              "      <td>0.742183</td>\n",
              "      <td>0.459194</td>\n",
              "      <td>0.337510</td>\n",
              "      <td>0.161982</td>\n",
              "      <td>1.364714</td>\n",
              "      <td>2.814990</td>\n",
              "      <td>1.440795</td>\n",
              "      <td>0.234902</td>\n",
              "      <td>0.274975</td>\n",
              "      <td>0.766452</td>\n",
              "      <td>0.150581</td>\n",
              "      <td>0.407608</td>\n",
              "      <td>2.311999</td>\n",
              "      <td>0.312112</td>\n",
              "      <td>0.466305</td>\n",
              "      <td>0.394740</td>\n",
              "      <td>0.740603</td>\n",
              "      <td>0.522971</td>\n",
              "      <td>0.391918</td>\n",
              "      <td>0.585055</td>\n",
              "      <td>...</td>\n",
              "      <td>0.399932</td>\n",
              "      <td>0.277458</td>\n",
              "      <td>0.208718</td>\n",
              "      <td>0.969007</td>\n",
              "      <td>0.153779</td>\n",
              "      <td>2.027937</td>\n",
              "      <td>0.299825</td>\n",
              "      <td>0.466762</td>\n",
              "      <td>1.795148</td>\n",
              "      <td>0.126091</td>\n",
              "      <td>0.144363</td>\n",
              "      <td>0.176977</td>\n",
              "      <td>0.118982</td>\n",
              "      <td>0.163632</td>\n",
              "      <td>0.195311</td>\n",
              "      <td>0.194126</td>\n",
              "      <td>0.119356</td>\n",
              "      <td>0.276939</td>\n",
              "      <td>0.134635</td>\n",
              "      <td>0.526503</td>\n",
              "      <td>0.316600</td>\n",
              "      <td>1.586368</td>\n",
              "      <td>2.382140</td>\n",
              "      <td>0.145049</td>\n",
              "      <td>1.056498</td>\n",
              "      <td>0.970067</td>\n",
              "      <td>0.233225</td>\n",
              "      <td>0.133637</td>\n",
              "      <td>0.107321</td>\n",
              "      <td>0.118982</td>\n",
              "      <td>0.121290</td>\n",
              "      <td>0.479110</td>\n",
              "      <td>0.102831</td>\n",
              "      <td>0.144238</td>\n",
              "      <td>0.141681</td>\n",
              "      <td>1.646608</td>\n",
              "      <td>Control</td>\n",
              "      <td>Memantine</td>\n",
              "      <td>C/S</td>\n",
              "      <td>c-CS-m</td>\n",
              "    </tr>\n",
              "    <tr>\n",
              "      <th>79</th>\n",
              "      <td>3415_5</td>\n",
              "      <td>0.542545</td>\n",
              "      <td>0.757917</td>\n",
              "      <td>0.350051</td>\n",
              "      <td>2.634509</td>\n",
              "      <td>4.735602</td>\n",
              "      <td>0.210526</td>\n",
              "      <td>0.165671</td>\n",
              "      <td>3.871971</td>\n",
              "      <td>0.194297</td>\n",
              "      <td>1.531613</td>\n",
              "      <td>0.815057</td>\n",
              "      <td>0.315001</td>\n",
              "      <td>0.391525</td>\n",
              "      <td>0.254142</td>\n",
              "      <td>0.955370</td>\n",
              "      <td>0.938465</td>\n",
              "      <td>1.744844</td>\n",
              "      <td>2.477854</td>\n",
              "      <td>0.476502</td>\n",
              "      <td>0.715880</td>\n",
              "      <td>0.486307</td>\n",
              "      <td>0.338668</td>\n",
              "      <td>0.160600</td>\n",
              "      <td>1.398174</td>\n",
              "      <td>2.891018</td>\n",
              "      <td>1.469402</td>\n",
              "      <td>0.234870</td>\n",
              "      <td>0.270033</td>\n",
              "      <td>0.755438</td>\n",
              "      <td>0.149555</td>\n",
              "      <td>0.411360</td>\n",
              "      <td>2.320861</td>\n",
              "      <td>0.309478</td>\n",
              "      <td>0.472332</td>\n",
              "      <td>0.393666</td>\n",
              "      <td>0.739209</td>\n",
              "      <td>0.542207</td>\n",
              "      <td>0.389947</td>\n",
              "      <td>0.587400</td>\n",
              "      <td>...</td>\n",
              "      <td>0.405838</td>\n",
              "      <td>0.354671</td>\n",
              "      <td>0.212714</td>\n",
              "      <td>0.972906</td>\n",
              "      <td>0.163062</td>\n",
              "      <td>1.969799</td>\n",
              "      <td>0.303008</td>\n",
              "      <td>0.491797</td>\n",
              "      <td>1.763485</td>\n",
              "      <td>0.124348</td>\n",
              "      <td>0.153741</td>\n",
              "      <td>0.188106</td>\n",
              "      <td>0.128635</td>\n",
              "      <td>0.167972</td>\n",
              "      <td>0.196992</td>\n",
              "      <td>0.197117</td>\n",
              "      <td>0.128635</td>\n",
              "      <td>0.283371</td>\n",
              "      <td>0.137211</td>\n",
              "      <td>0.542568</td>\n",
              "      <td>0.340355</td>\n",
              "      <td>1.619190</td>\n",
              "      <td>2.386217</td>\n",
              "      <td>0.150945</td>\n",
              "      <td>1.132737</td>\n",
              "      <td>0.980798</td>\n",
              "      <td>0.244469</td>\n",
              "      <td>0.133358</td>\n",
              "      <td>0.112851</td>\n",
              "      <td>0.128635</td>\n",
              "      <td>0.142617</td>\n",
              "      <td>0.438354</td>\n",
              "      <td>0.110614</td>\n",
              "      <td>0.155667</td>\n",
              "      <td>0.146408</td>\n",
              "      <td>1.607631</td>\n",
              "      <td>Control</td>\n",
              "      <td>Memantine</td>\n",
              "      <td>C/S</td>\n",
              "      <td>c-CS-m</td>\n",
              "    </tr>\n",
              "  </tbody>\n",
              "</table>\n",
              "<p>5 rows × 82 columns</p>\n",
              "</div>"
            ],
            "text/plain": [
              "   MouseID  DYRK1A_N   ITSN1_N    BDNF_N  ...  Genotype  Treatment  Behavior   class\n",
              "75  3415_1  0.649781  0.828696  0.405862  ...   Control  Memantine       C/S  c-CS-m\n",
              "76  3415_2  0.616481  0.841974  0.388584  ...   Control  Memantine       C/S  c-CS-m\n",
              "77  3415_3  0.637424  0.852882  0.400561  ...   Control  Memantine       C/S  c-CS-m\n",
              "78  3415_4  0.576815  0.755390  0.348346  ...   Control  Memantine       C/S  c-CS-m\n",
              "79  3415_5  0.542545  0.757917  0.350051  ...   Control  Memantine       C/S  c-CS-m\n",
              "\n",
              "[5 rows x 82 columns]"
            ]
          },
          "metadata": {
            "tags": []
          },
          "execution_count": 21
        }
      ]
    },
    {
      "cell_type": "code",
      "metadata": {
        "id": "7QIYRDRxaLHF",
        "outputId": "b2e0e741-db06-4dc7-a705-70616ed94671",
        "colab": {
          "base_uri": "https://localhost:8080/",
          "height": 221
        }
      },
      "source": [
        "df.isna().sum()"
      ],
      "execution_count": 20,
      "outputs": [
        {
          "output_type": "execute_result",
          "data": {
            "text/plain": [
              "MouseID      0\n",
              "DYRK1A_N     0\n",
              "ITSN1_N      0\n",
              "BDNF_N       0\n",
              "NR1_N        0\n",
              "            ..\n",
              "CaNA_N       0\n",
              "Genotype     0\n",
              "Treatment    0\n",
              "Behavior     0\n",
              "class        0\n",
              "Length: 82, dtype: int64"
            ]
          },
          "metadata": {
            "tags": []
          },
          "execution_count": 20
        }
      ]
    },
    {
      "cell_type": "markdown",
      "metadata": {
        "id": "wEbDOVJtapdR"
      },
      "source": [
        "В данных обнружены пропуски, их мы удалим (Заполнение их чем-то в данном случае трудно обосновать, но таких пропусков относительно мало)."
      ]
    },
    {
      "cell_type": "code",
      "metadata": {
        "id": "EOCqpagSan0_"
      },
      "source": [
        "df = df.dropna()"
      ],
      "execution_count": 19,
      "outputs": []
    },
    {
      "cell_type": "code",
      "metadata": {
        "id": "Zjet9Y1ybJ85",
        "outputId": "ee804703-6cb7-4149-8e91-a279c362e7bc",
        "colab": {
          "base_uri": "https://localhost:8080/",
          "height": 34
        }
      },
      "source": [
        "len(df['MouseID'].unique())==len(df['MouseID'])"
      ],
      "execution_count": 28,
      "outputs": [
        {
          "output_type": "execute_result",
          "data": {
            "text/plain": [
              "True"
            ]
          },
          "metadata": {
            "tags": []
          },
          "execution_count": 28
        }
      ]
    },
    {
      "cell_type": "markdown",
      "metadata": {
        "id": "wCclCoDIbmyv"
      },
      "source": [
        "Колонку MouseID можно удалить, так это просто нумерация для датасета. Так как id нигде не повторяется, делаем вывод что здесь нет измерении для одной и той же мыши, т.е. этот признак можно отбросить."
      ]
    },
    {
      "cell_type": "code",
      "metadata": {
        "id": "XAslt0phbh2l",
        "outputId": "cdbffd52-a8d4-42ba-869f-114f71ad3452",
        "colab": {
          "base_uri": "https://localhost:8080/",
          "height": 34
        }
      },
      "source": [
        ""
      ],
      "execution_count": 27,
      "outputs": [
        {
          "output_type": "execute_result",
          "data": {
            "text/plain": [
              "552"
            ]
          },
          "metadata": {
            "tags": []
          },
          "execution_count": 27
        }
      ]
    },
    {
      "cell_type": "code",
      "metadata": {
        "id": "djgfBfbvLt3m",
        "outputId": "4ef945da-2601-4836-e6d0-25ec218498dc",
        "colab": {
          "base_uri": "https://localhost:8080/",
          "height": 102
        }
      },
      "source": [
        "# Load the iris dataset\n",
        "iris = datasets.load_iris()\n",
        "\n",
        "# Create our X and y data\n",
        "X = iris.data\n",
        "y = iris.target\n",
        "y[:5]\n",
        "X[:5]"
      ],
      "execution_count": null,
      "outputs": [
        {
          "output_type": "execute_result",
          "data": {
            "text/plain": [
              "array([[5.1, 3.5, 1.4, 0.2],\n",
              "       [4.9, 3. , 1.4, 0.2],\n",
              "       [4.7, 3.2, 1.3, 0.2],\n",
              "       [4.6, 3.1, 1.5, 0.2],\n",
              "       [5. , 3.6, 1.4, 0.2]])"
            ]
          },
          "metadata": {
            "tags": []
          },
          "execution_count": 2
        }
      ]
    },
    {
      "cell_type": "code",
      "metadata": {
        "id": "7XCTSy3FLt-R"
      },
      "source": [
        "# Split the data into 70% training data and 30% test data\n",
        "X_train, X_test, y_train, y_test = train_test_split(X, y, test_size=0.3)"
      ],
      "execution_count": null,
      "outputs": []
    },
    {
      "cell_type": "code",
      "metadata": {
        "id": "CPRMZCYhLuBs",
        "outputId": "8e4d18ef-c0ef-4d0f-8bca-ea7db64360e4",
        "colab": {
          "base_uri": "https://localhost:8080/",
          "height": 34
        }
      },
      "source": [
        "# Train the scaler, which standarizes all the features to have mean=0 and unit variance\n",
        "sc = StandardScaler()\n",
        "sc.fit(X_train)"
      ],
      "execution_count": null,
      "outputs": [
        {
          "output_type": "execute_result",
          "data": {
            "text/plain": [
              "StandardScaler(copy=True, with_mean=True, with_std=True)"
            ]
          },
          "metadata": {
            "tags": []
          },
          "execution_count": 4
        }
      ]
    },
    {
      "cell_type": "code",
      "metadata": {
        "id": "03DQB5-xLuEl"
      },
      "source": [
        "# Apply the scaler to the X training data\n",
        "X_train_std = sc.transform(X_train)\n",
        "\n",
        "# Apply the SAME scaler to the X test data\n",
        "X_test_std = sc.transform(X_test)"
      ],
      "execution_count": null,
      "outputs": []
    },
    {
      "cell_type": "code",
      "metadata": {
        "id": "bPlqQyToLuKg",
        "outputId": "546b1169-45b8-4152-f998-cb15e0e8bc88",
        "colab": {
          "base_uri": "https://localhost:8080/",
          "height": 85
        }
      },
      "source": [
        "# Create a perceptron object with the parameters: 40 iterations (epochs) over the data, and a learning rate of 0.1\n",
        "ppn = Perceptron( max_iter = 350,eta0=0.00001,tol=None, penalty='l2')\n",
        "\n",
        "# Train the perceptron\n",
        "ppn.fit(X_train_std, y_train)"
      ],
      "execution_count": null,
      "outputs": [
        {
          "output_type": "execute_result",
          "data": {
            "text/plain": [
              "Perceptron(alpha=0.0001, class_weight=None, early_stopping=False, eta0=1e-05,\n",
              "           fit_intercept=True, max_iter=350, n_iter_no_change=5, n_jobs=None,\n",
              "           penalty='l2', random_state=0, shuffle=True, tol=None,\n",
              "           validation_fraction=0.1, verbose=0, warm_start=False)"
            ]
          },
          "metadata": {
            "tags": []
          },
          "execution_count": 148
        }
      ]
    },
    {
      "cell_type": "code",
      "metadata": {
        "id": "WIj2FlspLuIR",
        "outputId": "4a8cf5ee-880a-4b3f-cd98-9057cbe1fe0d",
        "colab": {
          "base_uri": "https://localhost:8080/",
          "height": 34
        }
      },
      "source": [
        "# Apply the trained perceptron on the X data to make predicts for the y test data\n",
        "y_pred = ppn.predict(X_test_std)\n",
        "# View the accuracy of the model, which is: 1 - (observations predicted wrong / total observations)\n",
        "print('Accuracy: %.2f' % accuracy_score(y_test, y_pred))"
      ],
      "execution_count": null,
      "outputs": [
        {
          "output_type": "stream",
          "text": [
            "Accuracy: 0.96\n"
          ],
          "name": "stdout"
        }
      ]
    },
    {
      "cell_type": "code",
      "metadata": {
        "id": "B26z-79nLt8T"
      },
      "source": [
        ""
      ],
      "execution_count": null,
      "outputs": []
    },
    {
      "cell_type": "code",
      "metadata": {
        "id": "ErZ_qV8oMOTw",
        "outputId": "7811f3fd-4603-4173-d02b-98b55ee555f9",
        "colab": {
          "base_uri": "https://localhost:8080/",
          "height": 34
        }
      },
      "source": [
        "from sklearn.linear_model import LogisticRegression\n",
        "clf = LogisticRegression(random_state=0).fit(X_train_std, y_train)\n",
        "y_pred = clf.predict(X_test_std)\n",
        "print('Accuracy: %.2f' % accuracy_score(y_test, y_pred))"
      ],
      "execution_count": null,
      "outputs": [
        {
          "output_type": "stream",
          "text": [
            "Accuracy: 0.98\n"
          ],
          "name": "stdout"
        }
      ]
    },
    {
      "cell_type": "code",
      "metadata": {
        "id": "fAA8JXgrMOXU"
      },
      "source": [
        "from keras.models import Sequential\n",
        "from keras.layers import Dense, Activation\n",
        "model = Sequential()\n",
        "model.add(Dense(3, input_shape=(4,),activation='softmax'))\n",
        "#model.add(Activation('softmax'))"
      ],
      "execution_count": null,
      "outputs": []
    },
    {
      "cell_type": "code",
      "metadata": {
        "id": "2cnRiho9bSQO"
      },
      "source": [
        "from keras.optimizers import SGD"
      ],
      "execution_count": null,
      "outputs": []
    },
    {
      "cell_type": "code",
      "metadata": {
        "id": "9UwWwWVqMOaa"
      },
      "source": [
        "\n",
        "sgd = SGD(learning_rate=0.01)\n",
        "model.compile(loss='categorical_crossentropy',\n",
        "              optimizer=sgd,\n",
        "              metrics=['accuracy'])"
      ],
      "execution_count": null,
      "outputs": []
    },
    {
      "cell_type": "code",
      "metadata": {
        "id": "kKLrihcpTz4-"
      },
      "source": [
        "from sklearn.preprocessing import OneHotEncoder\n",
        "encoder = OneHotEncoder(sparse=False)\n",
        "y = encoder.fit_transform( y_train.reshape(-1, 1))"
      ],
      "execution_count": null,
      "outputs": []
    },
    {
      "cell_type": "code",
      "metadata": {
        "id": "qZXIbijCSqA7"
      },
      "source": [
        "y"
      ],
      "execution_count": null,
      "outputs": []
    },
    {
      "cell_type": "code",
      "metadata": {
        "id": "JixLZOdVN2Ou",
        "outputId": "a54c0bd1-0ad3-4322-8272-077b1f246651",
        "colab": {
          "base_uri": "https://localhost:8080/",
          "height": 34
        }
      },
      "source": [
        "X_train_std.shape"
      ],
      "execution_count": null,
      "outputs": [
        {
          "output_type": "execute_result",
          "data": {
            "text/plain": [
              "(105, 4)"
            ]
          },
          "metadata": {
            "tags": []
          },
          "execution_count": 37
        }
      ]
    },
    {
      "cell_type": "code",
      "metadata": {
        "id": "bAG4cMBIMOgQ",
        "outputId": "ff3624b2-31a0-46d7-a18c-15c9038e98c2",
        "colab": {
          "base_uri": "https://localhost:8080/",
          "height": 1000
        }
      },
      "source": [
        "model.fit(X_train_std,y,epochs=200, validation_split=0.1)\n",
        "\n",
        "y_pred = model.predict_classes(X_test_std)"
      ],
      "execution_count": null,
      "outputs": [
        {
          "output_type": "stream",
          "text": [
            "Epoch 1/200\n",
            "3/3 [==============================] - 0s 56ms/step - loss: 1.4387 - accuracy: 0.1489 - val_loss: 1.3915 - val_accuracy: 0.0909\n",
            "Epoch 2/200\n",
            "3/3 [==============================] - 0s 7ms/step - loss: 1.3936 - accuracy: 0.1596 - val_loss: 1.3476 - val_accuracy: 0.0909\n",
            "Epoch 3/200\n",
            "3/3 [==============================] - 0s 8ms/step - loss: 1.3508 - accuracy: 0.1915 - val_loss: 1.3058 - val_accuracy: 0.0909\n",
            "Epoch 4/200\n",
            "3/3 [==============================] - 0s 7ms/step - loss: 1.3105 - accuracy: 0.2021 - val_loss: 1.2660 - val_accuracy: 0.1818\n",
            "Epoch 5/200\n",
            "3/3 [==============================] - 0s 7ms/step - loss: 1.2720 - accuracy: 0.2340 - val_loss: 1.2283 - val_accuracy: 0.1818\n",
            "Epoch 6/200\n",
            "3/3 [==============================] - 0s 8ms/step - loss: 1.2351 - accuracy: 0.2553 - val_loss: 1.1924 - val_accuracy: 0.1818\n",
            "Epoch 7/200\n",
            "3/3 [==============================] - 0s 7ms/step - loss: 1.2006 - accuracy: 0.2660 - val_loss: 1.1583 - val_accuracy: 0.2727\n",
            "Epoch 8/200\n",
            "3/3 [==============================] - 0s 8ms/step - loss: 1.1677 - accuracy: 0.3085 - val_loss: 1.1259 - val_accuracy: 0.2727\n",
            "Epoch 9/200\n",
            "3/3 [==============================] - 0s 9ms/step - loss: 1.1367 - accuracy: 0.3191 - val_loss: 1.0951 - val_accuracy: 0.2727\n",
            "Epoch 10/200\n",
            "3/3 [==============================] - 0s 8ms/step - loss: 1.1065 - accuracy: 0.3936 - val_loss: 1.0660 - val_accuracy: 0.2727\n",
            "Epoch 11/200\n",
            "3/3 [==============================] - 0s 7ms/step - loss: 1.0788 - accuracy: 0.4362 - val_loss: 1.0382 - val_accuracy: 0.2727\n",
            "Epoch 12/200\n",
            "3/3 [==============================] - 0s 8ms/step - loss: 1.0517 - accuracy: 0.4894 - val_loss: 1.0120 - val_accuracy: 0.3636\n",
            "Epoch 13/200\n",
            "3/3 [==============================] - 0s 8ms/step - loss: 1.0265 - accuracy: 0.5106 - val_loss: 0.9871 - val_accuracy: 0.3636\n",
            "Epoch 14/200\n",
            "3/3 [==============================] - 0s 7ms/step - loss: 1.0031 - accuracy: 0.5106 - val_loss: 0.9635 - val_accuracy: 0.4545\n",
            "Epoch 15/200\n",
            "3/3 [==============================] - 0s 8ms/step - loss: 0.9795 - accuracy: 0.5745 - val_loss: 0.9412 - val_accuracy: 0.4545\n",
            "Epoch 16/200\n",
            "3/3 [==============================] - 0s 7ms/step - loss: 0.9581 - accuracy: 0.5745 - val_loss: 0.9201 - val_accuracy: 0.4545\n",
            "Epoch 17/200\n",
            "3/3 [==============================] - 0s 9ms/step - loss: 0.9377 - accuracy: 0.5851 - val_loss: 0.8999 - val_accuracy: 0.5455\n",
            "Epoch 18/200\n",
            "3/3 [==============================] - 0s 8ms/step - loss: 0.9184 - accuracy: 0.5957 - val_loss: 0.8809 - val_accuracy: 0.5455\n",
            "Epoch 19/200\n",
            "3/3 [==============================] - 0s 8ms/step - loss: 0.8998 - accuracy: 0.6064 - val_loss: 0.8627 - val_accuracy: 0.5455\n",
            "Epoch 20/200\n",
            "3/3 [==============================] - 0s 7ms/step - loss: 0.8823 - accuracy: 0.6489 - val_loss: 0.8454 - val_accuracy: 0.5455\n",
            "Epoch 21/200\n",
            "3/3 [==============================] - 0s 8ms/step - loss: 0.8654 - accuracy: 0.6702 - val_loss: 0.8290 - val_accuracy: 0.5455\n",
            "Epoch 22/200\n",
            "3/3 [==============================] - 0s 8ms/step - loss: 0.8496 - accuracy: 0.6702 - val_loss: 0.8133 - val_accuracy: 0.5455\n",
            "Epoch 23/200\n",
            "3/3 [==============================] - 0s 7ms/step - loss: 0.8346 - accuracy: 0.6809 - val_loss: 0.7985 - val_accuracy: 0.6364\n",
            "Epoch 24/200\n",
            "3/3 [==============================] - 0s 8ms/step - loss: 0.8198 - accuracy: 0.6809 - val_loss: 0.7844 - val_accuracy: 0.6364\n",
            "Epoch 25/200\n",
            "3/3 [==============================] - 0s 9ms/step - loss: 0.8063 - accuracy: 0.6809 - val_loss: 0.7709 - val_accuracy: 0.6364\n",
            "Epoch 26/200\n",
            "3/3 [==============================] - 0s 8ms/step - loss: 0.7930 - accuracy: 0.6809 - val_loss: 0.7580 - val_accuracy: 0.6364\n",
            "Epoch 27/200\n",
            "3/3 [==============================] - 0s 7ms/step - loss: 0.7804 - accuracy: 0.6809 - val_loss: 0.7456 - val_accuracy: 0.6364\n",
            "Epoch 28/200\n",
            "3/3 [==============================] - 0s 7ms/step - loss: 0.7683 - accuracy: 0.6809 - val_loss: 0.7339 - val_accuracy: 0.7273\n",
            "Epoch 29/200\n",
            "3/3 [==============================] - 0s 7ms/step - loss: 0.7568 - accuracy: 0.6809 - val_loss: 0.7227 - val_accuracy: 0.8182\n",
            "Epoch 30/200\n",
            "3/3 [==============================] - 0s 9ms/step - loss: 0.7458 - accuracy: 0.7021 - val_loss: 0.7120 - val_accuracy: 0.8182\n",
            "Epoch 31/200\n",
            "3/3 [==============================] - 0s 7ms/step - loss: 0.7354 - accuracy: 0.7128 - val_loss: 0.7017 - val_accuracy: 0.8182\n",
            "Epoch 32/200\n",
            "3/3 [==============================] - 0s 7ms/step - loss: 0.7253 - accuracy: 0.7234 - val_loss: 0.6919 - val_accuracy: 0.8182\n",
            "Epoch 33/200\n",
            "3/3 [==============================] - 0s 7ms/step - loss: 0.7156 - accuracy: 0.7340 - val_loss: 0.6825 - val_accuracy: 0.8182\n",
            "Epoch 34/200\n",
            "3/3 [==============================] - 0s 7ms/step - loss: 0.7062 - accuracy: 0.7340 - val_loss: 0.6735 - val_accuracy: 0.8182\n",
            "Epoch 35/200\n",
            "3/3 [==============================] - 0s 9ms/step - loss: 0.6975 - accuracy: 0.7660 - val_loss: 0.6649 - val_accuracy: 0.8182\n",
            "Epoch 36/200\n",
            "3/3 [==============================] - 0s 9ms/step - loss: 0.6888 - accuracy: 0.7660 - val_loss: 0.6566 - val_accuracy: 0.8182\n",
            "Epoch 37/200\n",
            "3/3 [==============================] - 0s 8ms/step - loss: 0.6806 - accuracy: 0.7766 - val_loss: 0.6486 - val_accuracy: 0.8182\n",
            "Epoch 38/200\n",
            "3/3 [==============================] - 0s 9ms/step - loss: 0.6728 - accuracy: 0.7660 - val_loss: 0.6410 - val_accuracy: 0.8182\n",
            "Epoch 39/200\n",
            "3/3 [==============================] - 0s 8ms/step - loss: 0.6652 - accuracy: 0.7660 - val_loss: 0.6337 - val_accuracy: 0.8182\n",
            "Epoch 40/200\n",
            "3/3 [==============================] - 0s 7ms/step - loss: 0.6579 - accuracy: 0.7660 - val_loss: 0.6266 - val_accuracy: 0.9091\n",
            "Epoch 41/200\n",
            "3/3 [==============================] - 0s 7ms/step - loss: 0.6509 - accuracy: 0.7660 - val_loss: 0.6198 - val_accuracy: 0.9091\n",
            "Epoch 42/200\n",
            "3/3 [==============================] - 0s 8ms/step - loss: 0.6441 - accuracy: 0.7660 - val_loss: 0.6133 - val_accuracy: 0.9091\n",
            "Epoch 43/200\n",
            "3/3 [==============================] - 0s 10ms/step - loss: 0.6376 - accuracy: 0.7766 - val_loss: 0.6071 - val_accuracy: 0.9091\n",
            "Epoch 44/200\n",
            "3/3 [==============================] - 0s 7ms/step - loss: 0.6312 - accuracy: 0.7766 - val_loss: 0.6010 - val_accuracy: 0.9091\n",
            "Epoch 45/200\n",
            "3/3 [==============================] - 0s 8ms/step - loss: 0.6251 - accuracy: 0.7872 - val_loss: 0.5952 - val_accuracy: 0.9091\n",
            "Epoch 46/200\n",
            "3/3 [==============================] - 0s 8ms/step - loss: 0.6192 - accuracy: 0.7872 - val_loss: 0.5896 - val_accuracy: 0.9091\n",
            "Epoch 47/200\n",
            "3/3 [==============================] - 0s 8ms/step - loss: 0.6137 - accuracy: 0.7872 - val_loss: 0.5842 - val_accuracy: 0.9091\n",
            "Epoch 48/200\n",
            "3/3 [==============================] - 0s 8ms/step - loss: 0.6081 - accuracy: 0.7979 - val_loss: 0.5789 - val_accuracy: 0.9091\n",
            "Epoch 49/200\n",
            "3/3 [==============================] - 0s 8ms/step - loss: 0.6028 - accuracy: 0.8085 - val_loss: 0.5739 - val_accuracy: 0.9091\n",
            "Epoch 50/200\n",
            "3/3 [==============================] - 0s 8ms/step - loss: 0.5976 - accuracy: 0.8298 - val_loss: 0.5690 - val_accuracy: 0.9091\n",
            "Epoch 51/200\n",
            "3/3 [==============================] - 0s 9ms/step - loss: 0.5926 - accuracy: 0.8298 - val_loss: 0.5643 - val_accuracy: 0.9091\n",
            "Epoch 52/200\n",
            "3/3 [==============================] - 0s 8ms/step - loss: 0.5878 - accuracy: 0.8404 - val_loss: 0.5597 - val_accuracy: 0.9091\n",
            "Epoch 53/200\n",
            "3/3 [==============================] - 0s 8ms/step - loss: 0.5831 - accuracy: 0.8404 - val_loss: 0.5553 - val_accuracy: 0.9091\n",
            "Epoch 54/200\n",
            "3/3 [==============================] - 0s 9ms/step - loss: 0.5785 - accuracy: 0.8404 - val_loss: 0.5511 - val_accuracy: 0.9091\n",
            "Epoch 55/200\n",
            "3/3 [==============================] - 0s 9ms/step - loss: 0.5741 - accuracy: 0.8511 - val_loss: 0.5469 - val_accuracy: 0.9091\n",
            "Epoch 56/200\n",
            "3/3 [==============================] - 0s 8ms/step - loss: 0.5699 - accuracy: 0.8511 - val_loss: 0.5429 - val_accuracy: 0.9091\n",
            "Epoch 57/200\n",
            "3/3 [==============================] - 0s 9ms/step - loss: 0.5657 - accuracy: 0.8404 - val_loss: 0.5390 - val_accuracy: 0.9091\n",
            "Epoch 58/200\n",
            "3/3 [==============================] - 0s 10ms/step - loss: 0.5617 - accuracy: 0.8404 - val_loss: 0.5353 - val_accuracy: 0.9091\n",
            "Epoch 59/200\n",
            "3/3 [==============================] - 0s 7ms/step - loss: 0.5578 - accuracy: 0.8404 - val_loss: 0.5316 - val_accuracy: 0.9091\n",
            "Epoch 60/200\n",
            "3/3 [==============================] - 0s 8ms/step - loss: 0.5539 - accuracy: 0.8511 - val_loss: 0.5280 - val_accuracy: 0.9091\n",
            "Epoch 61/200\n",
            "3/3 [==============================] - 0s 9ms/step - loss: 0.5503 - accuracy: 0.8617 - val_loss: 0.5246 - val_accuracy: 0.9091\n",
            "Epoch 62/200\n",
            "3/3 [==============================] - 0s 8ms/step - loss: 0.5466 - accuracy: 0.8617 - val_loss: 0.5212 - val_accuracy: 0.9091\n",
            "Epoch 63/200\n",
            "3/3 [==============================] - 0s 8ms/step - loss: 0.5431 - accuracy: 0.8617 - val_loss: 0.5180 - val_accuracy: 0.9091\n",
            "Epoch 64/200\n",
            "3/3 [==============================] - 0s 8ms/step - loss: 0.5397 - accuracy: 0.8617 - val_loss: 0.5148 - val_accuracy: 0.9091\n",
            "Epoch 65/200\n",
            "3/3 [==============================] - 0s 8ms/step - loss: 0.5363 - accuracy: 0.8617 - val_loss: 0.5118 - val_accuracy: 0.9091\n",
            "Epoch 66/200\n",
            "3/3 [==============================] - 0s 8ms/step - loss: 0.5331 - accuracy: 0.8617 - val_loss: 0.5088 - val_accuracy: 0.9091\n",
            "Epoch 67/200\n",
            "3/3 [==============================] - 0s 8ms/step - loss: 0.5299 - accuracy: 0.8617 - val_loss: 0.5059 - val_accuracy: 0.9091\n",
            "Epoch 68/200\n",
            "3/3 [==============================] - 0s 7ms/step - loss: 0.5268 - accuracy: 0.8617 - val_loss: 0.5031 - val_accuracy: 0.9091\n",
            "Epoch 69/200\n",
            "3/3 [==============================] - 0s 8ms/step - loss: 0.5239 - accuracy: 0.8617 - val_loss: 0.5003 - val_accuracy: 0.9091\n",
            "Epoch 70/200\n",
            "3/3 [==============================] - 0s 10ms/step - loss: 0.5209 - accuracy: 0.8617 - val_loss: 0.4977 - val_accuracy: 0.9091\n",
            "Epoch 71/200\n",
            "3/3 [==============================] - 0s 9ms/step - loss: 0.5181 - accuracy: 0.8617 - val_loss: 0.4951 - val_accuracy: 0.9091\n",
            "Epoch 72/200\n",
            "3/3 [==============================] - 0s 10ms/step - loss: 0.5152 - accuracy: 0.8617 - val_loss: 0.4925 - val_accuracy: 0.9091\n",
            "Epoch 73/200\n",
            "3/3 [==============================] - 0s 11ms/step - loss: 0.5126 - accuracy: 0.8511 - val_loss: 0.4901 - val_accuracy: 0.9091\n",
            "Epoch 74/200\n",
            "3/3 [==============================] - 0s 10ms/step - loss: 0.5098 - accuracy: 0.8723 - val_loss: 0.4878 - val_accuracy: 0.9091\n",
            "Epoch 75/200\n",
            "3/3 [==============================] - 0s 10ms/step - loss: 0.5072 - accuracy: 0.8617 - val_loss: 0.4854 - val_accuracy: 0.9091\n",
            "Epoch 76/200\n",
            "3/3 [==============================] - 0s 9ms/step - loss: 0.5046 - accuracy: 0.8617 - val_loss: 0.4832 - val_accuracy: 0.9091\n",
            "Epoch 77/200\n",
            "3/3 [==============================] - 0s 8ms/step - loss: 0.5021 - accuracy: 0.8617 - val_loss: 0.4810 - val_accuracy: 0.9091\n",
            "Epoch 78/200\n",
            "3/3 [==============================] - 0s 8ms/step - loss: 0.4997 - accuracy: 0.8617 - val_loss: 0.4788 - val_accuracy: 0.9091\n",
            "Epoch 79/200\n",
            "3/3 [==============================] - 0s 9ms/step - loss: 0.4973 - accuracy: 0.8617 - val_loss: 0.4767 - val_accuracy: 0.9091\n",
            "Epoch 80/200\n",
            "3/3 [==============================] - 0s 9ms/step - loss: 0.4950 - accuracy: 0.8617 - val_loss: 0.4746 - val_accuracy: 0.9091\n",
            "Epoch 81/200\n",
            "3/3 [==============================] - 0s 9ms/step - loss: 0.4927 - accuracy: 0.8617 - val_loss: 0.4726 - val_accuracy: 0.9091\n",
            "Epoch 82/200\n",
            "3/3 [==============================] - 0s 9ms/step - loss: 0.4904 - accuracy: 0.8617 - val_loss: 0.4707 - val_accuracy: 0.9091\n",
            "Epoch 83/200\n",
            "3/3 [==============================] - 0s 9ms/step - loss: 0.4882 - accuracy: 0.8617 - val_loss: 0.4688 - val_accuracy: 0.9091\n",
            "Epoch 84/200\n",
            "3/3 [==============================] - 0s 8ms/step - loss: 0.4860 - accuracy: 0.8617 - val_loss: 0.4669 - val_accuracy: 0.9091\n",
            "Epoch 85/200\n",
            "3/3 [==============================] - 0s 8ms/step - loss: 0.4841 - accuracy: 0.8617 - val_loss: 0.4650 - val_accuracy: 0.9091\n",
            "Epoch 86/200\n",
            "3/3 [==============================] - 0s 8ms/step - loss: 0.4821 - accuracy: 0.8617 - val_loss: 0.4633 - val_accuracy: 0.9091\n",
            "Epoch 87/200\n",
            "3/3 [==============================] - 0s 8ms/step - loss: 0.4798 - accuracy: 0.8617 - val_loss: 0.4616 - val_accuracy: 0.9091\n",
            "Epoch 88/200\n",
            "3/3 [==============================] - 0s 8ms/step - loss: 0.4779 - accuracy: 0.8617 - val_loss: 0.4598 - val_accuracy: 0.9091\n",
            "Epoch 89/200\n",
            "3/3 [==============================] - 0s 9ms/step - loss: 0.4759 - accuracy: 0.8617 - val_loss: 0.4582 - val_accuracy: 0.9091\n",
            "Epoch 90/200\n",
            "3/3 [==============================] - 0s 9ms/step - loss: 0.4741 - accuracy: 0.8617 - val_loss: 0.4566 - val_accuracy: 0.9091\n",
            "Epoch 91/200\n",
            "3/3 [==============================] - 0s 11ms/step - loss: 0.4722 - accuracy: 0.8617 - val_loss: 0.4550 - val_accuracy: 0.9091\n",
            "Epoch 92/200\n",
            "3/3 [==============================] - 0s 9ms/step - loss: 0.4704 - accuracy: 0.8617 - val_loss: 0.4534 - val_accuracy: 0.9091\n",
            "Epoch 93/200\n",
            "3/3 [==============================] - 0s 10ms/step - loss: 0.4684 - accuracy: 0.8617 - val_loss: 0.4520 - val_accuracy: 0.9091\n",
            "Epoch 94/200\n",
            "3/3 [==============================] - 0s 9ms/step - loss: 0.4666 - accuracy: 0.8617 - val_loss: 0.4505 - val_accuracy: 0.9091\n",
            "Epoch 95/200\n",
            "3/3 [==============================] - 0s 8ms/step - loss: 0.4650 - accuracy: 0.8617 - val_loss: 0.4490 - val_accuracy: 0.9091\n",
            "Epoch 96/200\n",
            "3/3 [==============================] - 0s 8ms/step - loss: 0.4632 - accuracy: 0.8617 - val_loss: 0.4476 - val_accuracy: 0.9091\n",
            "Epoch 97/200\n",
            "3/3 [==============================] - 0s 8ms/step - loss: 0.4616 - accuracy: 0.8617 - val_loss: 0.4463 - val_accuracy: 0.9091\n",
            "Epoch 98/200\n",
            "3/3 [==============================] - 0s 10ms/step - loss: 0.4598 - accuracy: 0.8617 - val_loss: 0.4449 - val_accuracy: 0.9091\n",
            "Epoch 99/200\n",
            "3/3 [==============================] - 0s 9ms/step - loss: 0.4582 - accuracy: 0.8617 - val_loss: 0.4436 - val_accuracy: 0.9091\n",
            "Epoch 100/200\n",
            "3/3 [==============================] - 0s 10ms/step - loss: 0.4565 - accuracy: 0.8617 - val_loss: 0.4423 - val_accuracy: 0.9091\n",
            "Epoch 101/200\n",
            "3/3 [==============================] - 0s 10ms/step - loss: 0.4550 - accuracy: 0.8617 - val_loss: 0.4410 - val_accuracy: 0.9091\n",
            "Epoch 102/200\n",
            "3/3 [==============================] - 0s 8ms/step - loss: 0.4535 - accuracy: 0.8617 - val_loss: 0.4398 - val_accuracy: 0.9091\n",
            "Epoch 103/200\n",
            "3/3 [==============================] - 0s 10ms/step - loss: 0.4519 - accuracy: 0.8723 - val_loss: 0.4385 - val_accuracy: 0.9091\n",
            "Epoch 104/200\n",
            "3/3 [==============================] - 0s 9ms/step - loss: 0.4504 - accuracy: 0.8723 - val_loss: 0.4373 - val_accuracy: 0.9091\n",
            "Epoch 105/200\n",
            "3/3 [==============================] - 0s 11ms/step - loss: 0.4489 - accuracy: 0.8830 - val_loss: 0.4361 - val_accuracy: 0.9091\n",
            "Epoch 106/200\n",
            "3/3 [==============================] - 0s 9ms/step - loss: 0.4476 - accuracy: 0.8936 - val_loss: 0.4350 - val_accuracy: 0.9091\n",
            "Epoch 107/200\n",
            "3/3 [==============================] - 0s 9ms/step - loss: 0.4460 - accuracy: 0.8936 - val_loss: 0.4339 - val_accuracy: 0.9091\n",
            "Epoch 108/200\n",
            "3/3 [==============================] - 0s 8ms/step - loss: 0.4447 - accuracy: 0.8936 - val_loss: 0.4327 - val_accuracy: 0.9091\n",
            "Epoch 109/200\n",
            "3/3 [==============================] - 0s 10ms/step - loss: 0.4432 - accuracy: 0.9043 - val_loss: 0.4317 - val_accuracy: 0.9091\n",
            "Epoch 110/200\n",
            "3/3 [==============================] - 0s 8ms/step - loss: 0.4418 - accuracy: 0.9043 - val_loss: 0.4306 - val_accuracy: 0.9091\n",
            "Epoch 111/200\n",
            "3/3 [==============================] - 0s 10ms/step - loss: 0.4406 - accuracy: 0.9043 - val_loss: 0.4295 - val_accuracy: 0.9091\n",
            "Epoch 112/200\n",
            "3/3 [==============================] - 0s 9ms/step - loss: 0.4392 - accuracy: 0.9043 - val_loss: 0.4285 - val_accuracy: 0.9091\n",
            "Epoch 113/200\n",
            "3/3 [==============================] - 0s 9ms/step - loss: 0.4378 - accuracy: 0.9043 - val_loss: 0.4275 - val_accuracy: 0.9091\n",
            "Epoch 114/200\n",
            "3/3 [==============================] - 0s 9ms/step - loss: 0.4365 - accuracy: 0.9043 - val_loss: 0.4265 - val_accuracy: 0.9091\n",
            "Epoch 115/200\n",
            "3/3 [==============================] - 0s 9ms/step - loss: 0.4352 - accuracy: 0.9043 - val_loss: 0.4255 - val_accuracy: 0.9091\n",
            "Epoch 116/200\n",
            "3/3 [==============================] - 0s 8ms/step - loss: 0.4340 - accuracy: 0.9043 - val_loss: 0.4246 - val_accuracy: 0.9091\n",
            "Epoch 117/200\n",
            "3/3 [==============================] - 0s 10ms/step - loss: 0.4327 - accuracy: 0.9043 - val_loss: 0.4237 - val_accuracy: 0.9091\n",
            "Epoch 118/200\n",
            "3/3 [==============================] - 0s 8ms/step - loss: 0.4315 - accuracy: 0.9043 - val_loss: 0.4227 - val_accuracy: 0.9091\n",
            "Epoch 119/200\n",
            "3/3 [==============================] - 0s 9ms/step - loss: 0.4303 - accuracy: 0.9043 - val_loss: 0.4218 - val_accuracy: 0.9091\n",
            "Epoch 120/200\n",
            "3/3 [==============================] - 0s 9ms/step - loss: 0.4292 - accuracy: 0.9043 - val_loss: 0.4209 - val_accuracy: 0.9091\n",
            "Epoch 121/200\n",
            "3/3 [==============================] - 0s 8ms/step - loss: 0.4279 - accuracy: 0.9043 - val_loss: 0.4201 - val_accuracy: 0.9091\n",
            "Epoch 122/200\n",
            "3/3 [==============================] - 0s 9ms/step - loss: 0.4267 - accuracy: 0.9043 - val_loss: 0.4192 - val_accuracy: 0.9091\n",
            "Epoch 123/200\n",
            "3/3 [==============================] - 0s 9ms/step - loss: 0.4256 - accuracy: 0.9043 - val_loss: 0.4183 - val_accuracy: 0.9091\n",
            "Epoch 124/200\n",
            "3/3 [==============================] - 0s 9ms/step - loss: 0.4245 - accuracy: 0.9043 - val_loss: 0.4175 - val_accuracy: 0.9091\n",
            "Epoch 125/200\n",
            "3/3 [==============================] - 0s 10ms/step - loss: 0.4233 - accuracy: 0.9043 - val_loss: 0.4167 - val_accuracy: 0.9091\n",
            "Epoch 126/200\n",
            "3/3 [==============================] - 0s 10ms/step - loss: 0.4222 - accuracy: 0.9043 - val_loss: 0.4159 - val_accuracy: 0.9091\n",
            "Epoch 127/200\n",
            "3/3 [==============================] - 0s 8ms/step - loss: 0.4211 - accuracy: 0.9043 - val_loss: 0.4151 - val_accuracy: 0.9091\n",
            "Epoch 128/200\n",
            "3/3 [==============================] - 0s 9ms/step - loss: 0.4201 - accuracy: 0.9043 - val_loss: 0.4143 - val_accuracy: 0.9091\n",
            "Epoch 129/200\n",
            "3/3 [==============================] - 0s 9ms/step - loss: 0.4190 - accuracy: 0.9149 - val_loss: 0.4135 - val_accuracy: 0.9091\n",
            "Epoch 130/200\n",
            "3/3 [==============================] - 0s 9ms/step - loss: 0.4179 - accuracy: 0.9149 - val_loss: 0.4128 - val_accuracy: 0.9091\n",
            "Epoch 131/200\n",
            "3/3 [==============================] - 0s 8ms/step - loss: 0.4169 - accuracy: 0.9149 - val_loss: 0.4120 - val_accuracy: 0.9091\n",
            "Epoch 132/200\n",
            "3/3 [==============================] - 0s 11ms/step - loss: 0.4159 - accuracy: 0.9149 - val_loss: 0.4113 - val_accuracy: 0.9091\n",
            "Epoch 133/200\n",
            "3/3 [==============================] - 0s 10ms/step - loss: 0.4149 - accuracy: 0.9149 - val_loss: 0.4106 - val_accuracy: 0.9091\n",
            "Epoch 134/200\n",
            "3/3 [==============================] - 0s 12ms/step - loss: 0.4138 - accuracy: 0.9149 - val_loss: 0.4099 - val_accuracy: 0.9091\n",
            "Epoch 135/200\n",
            "3/3 [==============================] - 0s 9ms/step - loss: 0.4129 - accuracy: 0.9149 - val_loss: 0.4093 - val_accuracy: 0.9091\n",
            "Epoch 136/200\n",
            "3/3 [==============================] - 0s 8ms/step - loss: 0.4118 - accuracy: 0.9149 - val_loss: 0.4086 - val_accuracy: 0.9091\n",
            "Epoch 137/200\n",
            "3/3 [==============================] - 0s 9ms/step - loss: 0.4109 - accuracy: 0.9149 - val_loss: 0.4079 - val_accuracy: 0.9091\n",
            "Epoch 138/200\n",
            "3/3 [==============================] - 0s 9ms/step - loss: 0.4099 - accuracy: 0.9149 - val_loss: 0.4072 - val_accuracy: 0.9091\n",
            "Epoch 139/200\n",
            "3/3 [==============================] - 0s 11ms/step - loss: 0.4090 - accuracy: 0.9149 - val_loss: 0.4066 - val_accuracy: 0.9091\n",
            "Epoch 140/200\n",
            "3/3 [==============================] - 0s 9ms/step - loss: 0.4080 - accuracy: 0.9149 - val_loss: 0.4060 - val_accuracy: 0.9091\n",
            "Epoch 141/200\n",
            "3/3 [==============================] - 0s 9ms/step - loss: 0.4071 - accuracy: 0.9149 - val_loss: 0.4054 - val_accuracy: 0.9091\n",
            "Epoch 142/200\n",
            "3/3 [==============================] - 0s 8ms/step - loss: 0.4062 - accuracy: 0.9149 - val_loss: 0.4048 - val_accuracy: 0.9091\n",
            "Epoch 143/200\n",
            "3/3 [==============================] - 0s 9ms/step - loss: 0.4053 - accuracy: 0.9149 - val_loss: 0.4042 - val_accuracy: 0.9091\n",
            "Epoch 144/200\n",
            "3/3 [==============================] - 0s 8ms/step - loss: 0.4044 - accuracy: 0.9149 - val_loss: 0.4036 - val_accuracy: 0.9091\n",
            "Epoch 145/200\n",
            "3/3 [==============================] - 0s 11ms/step - loss: 0.4035 - accuracy: 0.9149 - val_loss: 0.4030 - val_accuracy: 0.9091\n",
            "Epoch 146/200\n",
            "3/3 [==============================] - 0s 9ms/step - loss: 0.4026 - accuracy: 0.9149 - val_loss: 0.4024 - val_accuracy: 0.9091\n",
            "Epoch 147/200\n",
            "3/3 [==============================] - 0s 10ms/step - loss: 0.4017 - accuracy: 0.9149 - val_loss: 0.4019 - val_accuracy: 0.9091\n",
            "Epoch 148/200\n",
            "3/3 [==============================] - 0s 8ms/step - loss: 0.4009 - accuracy: 0.9149 - val_loss: 0.4013 - val_accuracy: 0.9091\n",
            "Epoch 149/200\n",
            "3/3 [==============================] - 0s 9ms/step - loss: 0.4001 - accuracy: 0.9149 - val_loss: 0.4008 - val_accuracy: 0.9091\n",
            "Epoch 150/200\n",
            "3/3 [==============================] - 0s 9ms/step - loss: 0.3993 - accuracy: 0.9149 - val_loss: 0.4002 - val_accuracy: 0.9091\n",
            "Epoch 151/200\n",
            "3/3 [==============================] - 0s 10ms/step - loss: 0.3984 - accuracy: 0.9149 - val_loss: 0.3997 - val_accuracy: 0.9091\n",
            "Epoch 152/200\n",
            "3/3 [==============================] - 0s 9ms/step - loss: 0.3977 - accuracy: 0.9149 - val_loss: 0.3992 - val_accuracy: 0.9091\n",
            "Epoch 153/200\n",
            "3/3 [==============================] - 0s 9ms/step - loss: 0.3967 - accuracy: 0.9149 - val_loss: 0.3987 - val_accuracy: 0.9091\n",
            "Epoch 154/200\n",
            "3/3 [==============================] - 0s 9ms/step - loss: 0.3962 - accuracy: 0.9149 - val_loss: 0.3981 - val_accuracy: 0.9091\n",
            "Epoch 155/200\n",
            "3/3 [==============================] - 0s 8ms/step - loss: 0.3952 - accuracy: 0.9149 - val_loss: 0.3976 - val_accuracy: 0.9091\n",
            "Epoch 156/200\n",
            "3/3 [==============================] - 0s 10ms/step - loss: 0.3943 - accuracy: 0.9149 - val_loss: 0.3971 - val_accuracy: 0.9091\n",
            "Epoch 157/200\n",
            "3/3 [==============================] - 0s 9ms/step - loss: 0.3936 - accuracy: 0.9149 - val_loss: 0.3966 - val_accuracy: 0.9091\n",
            "Epoch 158/200\n",
            "3/3 [==============================] - 0s 9ms/step - loss: 0.3928 - accuracy: 0.9149 - val_loss: 0.3961 - val_accuracy: 0.9091\n",
            "Epoch 159/200\n",
            "3/3 [==============================] - 0s 8ms/step - loss: 0.3920 - accuracy: 0.9149 - val_loss: 0.3956 - val_accuracy: 0.9091\n",
            "Epoch 160/200\n",
            "3/3 [==============================] - 0s 9ms/step - loss: 0.3913 - accuracy: 0.9149 - val_loss: 0.3951 - val_accuracy: 0.9091\n",
            "Epoch 161/200\n",
            "3/3 [==============================] - 0s 10ms/step - loss: 0.3906 - accuracy: 0.9149 - val_loss: 0.3947 - val_accuracy: 0.9091\n",
            "Epoch 162/200\n",
            "3/3 [==============================] - 0s 9ms/step - loss: 0.3898 - accuracy: 0.9149 - val_loss: 0.3942 - val_accuracy: 0.9091\n",
            "Epoch 163/200\n",
            "3/3 [==============================] - 0s 10ms/step - loss: 0.3890 - accuracy: 0.9149 - val_loss: 0.3937 - val_accuracy: 0.9091\n",
            "Epoch 164/200\n",
            "3/3 [==============================] - 0s 8ms/step - loss: 0.3883 - accuracy: 0.9149 - val_loss: 0.3933 - val_accuracy: 0.9091\n",
            "Epoch 165/200\n",
            "3/3 [==============================] - 0s 7ms/step - loss: 0.3875 - accuracy: 0.9149 - val_loss: 0.3928 - val_accuracy: 0.9091\n",
            "Epoch 166/200\n",
            "3/3 [==============================] - 0s 10ms/step - loss: 0.3869 - accuracy: 0.9149 - val_loss: 0.3923 - val_accuracy: 0.9091\n",
            "Epoch 167/200\n",
            "3/3 [==============================] - 0s 9ms/step - loss: 0.3862 - accuracy: 0.9043 - val_loss: 0.3919 - val_accuracy: 0.9091\n",
            "Epoch 168/200\n",
            "3/3 [==============================] - 0s 11ms/step - loss: 0.3854 - accuracy: 0.9149 - val_loss: 0.3915 - val_accuracy: 0.9091\n",
            "Epoch 169/200\n",
            "3/3 [==============================] - 0s 9ms/step - loss: 0.3847 - accuracy: 0.9043 - val_loss: 0.3911 - val_accuracy: 0.9091\n",
            "Epoch 170/200\n",
            "3/3 [==============================] - 0s 8ms/step - loss: 0.3840 - accuracy: 0.9043 - val_loss: 0.3907 - val_accuracy: 0.9091\n",
            "Epoch 171/200\n",
            "3/3 [==============================] - 0s 9ms/step - loss: 0.3833 - accuracy: 0.9043 - val_loss: 0.3903 - val_accuracy: 0.9091\n",
            "Epoch 172/200\n",
            "3/3 [==============================] - 0s 9ms/step - loss: 0.3826 - accuracy: 0.8936 - val_loss: 0.3898 - val_accuracy: 0.9091\n",
            "Epoch 173/200\n",
            "3/3 [==============================] - 0s 8ms/step - loss: 0.3822 - accuracy: 0.8936 - val_loss: 0.3895 - val_accuracy: 0.9091\n",
            "Epoch 174/200\n",
            "3/3 [==============================] - 0s 11ms/step - loss: 0.3813 - accuracy: 0.8936 - val_loss: 0.3891 - val_accuracy: 0.9091\n",
            "Epoch 175/200\n",
            "3/3 [==============================] - 0s 7ms/step - loss: 0.3808 - accuracy: 0.8936 - val_loss: 0.3887 - val_accuracy: 0.9091\n",
            "Epoch 176/200\n",
            "3/3 [==============================] - 0s 10ms/step - loss: 0.3800 - accuracy: 0.8936 - val_loss: 0.3883 - val_accuracy: 0.9091\n",
            "Epoch 177/200\n",
            "3/3 [==============================] - 0s 9ms/step - loss: 0.3794 - accuracy: 0.8936 - val_loss: 0.3879 - val_accuracy: 0.9091\n",
            "Epoch 178/200\n",
            "3/3 [==============================] - 0s 10ms/step - loss: 0.3787 - accuracy: 0.8936 - val_loss: 0.3875 - val_accuracy: 0.9091\n",
            "Epoch 179/200\n",
            "3/3 [==============================] - 0s 9ms/step - loss: 0.3780 - accuracy: 0.8936 - val_loss: 0.3871 - val_accuracy: 0.9091\n",
            "Epoch 180/200\n",
            "3/3 [==============================] - 0s 9ms/step - loss: 0.3774 - accuracy: 0.8936 - val_loss: 0.3868 - val_accuracy: 0.9091\n",
            "Epoch 181/200\n",
            "3/3 [==============================] - 0s 8ms/step - loss: 0.3768 - accuracy: 0.8936 - val_loss: 0.3864 - val_accuracy: 0.9091\n",
            "Epoch 182/200\n",
            "3/3 [==============================] - 0s 9ms/step - loss: 0.3761 - accuracy: 0.8936 - val_loss: 0.3860 - val_accuracy: 0.9091\n",
            "Epoch 183/200\n",
            "3/3 [==============================] - 0s 9ms/step - loss: 0.3755 - accuracy: 0.8936 - val_loss: 0.3856 - val_accuracy: 0.9091\n",
            "Epoch 184/200\n",
            "3/3 [==============================] - 0s 8ms/step - loss: 0.3749 - accuracy: 0.8936 - val_loss: 0.3853 - val_accuracy: 0.9091\n",
            "Epoch 185/200\n",
            "3/3 [==============================] - 0s 10ms/step - loss: 0.3744 - accuracy: 0.8936 - val_loss: 0.3849 - val_accuracy: 0.9091\n",
            "Epoch 186/200\n",
            "3/3 [==============================] - 0s 10ms/step - loss: 0.3737 - accuracy: 0.8936 - val_loss: 0.3846 - val_accuracy: 0.9091\n",
            "Epoch 187/200\n",
            "3/3 [==============================] - 0s 10ms/step - loss: 0.3731 - accuracy: 0.8936 - val_loss: 0.3842 - val_accuracy: 0.9091\n",
            "Epoch 188/200\n",
            "3/3 [==============================] - 0s 9ms/step - loss: 0.3725 - accuracy: 0.8936 - val_loss: 0.3839 - val_accuracy: 0.9091\n",
            "Epoch 189/200\n",
            "3/3 [==============================] - 0s 9ms/step - loss: 0.3720 - accuracy: 0.8936 - val_loss: 0.3836 - val_accuracy: 0.9091\n",
            "Epoch 190/200\n",
            "3/3 [==============================] - 0s 12ms/step - loss: 0.3714 - accuracy: 0.8936 - val_loss: 0.3832 - val_accuracy: 0.9091\n",
            "Epoch 191/200\n",
            "3/3 [==============================] - 0s 10ms/step - loss: 0.3708 - accuracy: 0.8936 - val_loss: 0.3828 - val_accuracy: 0.9091\n",
            "Epoch 192/200\n",
            "3/3 [==============================] - 0s 10ms/step - loss: 0.3702 - accuracy: 0.8936 - val_loss: 0.3825 - val_accuracy: 0.9091\n",
            "Epoch 193/200\n",
            "3/3 [==============================] - 0s 9ms/step - loss: 0.3696 - accuracy: 0.8936 - val_loss: 0.3822 - val_accuracy: 0.9091\n",
            "Epoch 194/200\n",
            "3/3 [==============================] - 0s 10ms/step - loss: 0.3691 - accuracy: 0.8936 - val_loss: 0.3818 - val_accuracy: 0.9091\n",
            "Epoch 195/200\n",
            "3/3 [==============================] - 0s 10ms/step - loss: 0.3685 - accuracy: 0.8936 - val_loss: 0.3815 - val_accuracy: 0.9091\n",
            "Epoch 196/200\n",
            "3/3 [==============================] - 0s 10ms/step - loss: 0.3680 - accuracy: 0.8936 - val_loss: 0.3812 - val_accuracy: 0.9091\n",
            "Epoch 197/200\n",
            "3/3 [==============================] - 0s 8ms/step - loss: 0.3673 - accuracy: 0.8936 - val_loss: 0.3809 - val_accuracy: 0.9091\n",
            "Epoch 198/200\n",
            "3/3 [==============================] - 0s 9ms/step - loss: 0.3668 - accuracy: 0.8936 - val_loss: 0.3806 - val_accuracy: 0.9091\n",
            "Epoch 199/200\n",
            "3/3 [==============================] - 0s 9ms/step - loss: 0.3662 - accuracy: 0.8936 - val_loss: 0.3803 - val_accuracy: 0.9091\n",
            "Epoch 200/200\n",
            "3/3 [==============================] - 0s 8ms/step - loss: 0.3657 - accuracy: 0.8936 - val_loss: 0.3800 - val_accuracy: 0.9091\n",
            "WARNING:tensorflow:6 out of the last 11 calls to <function Model.make_predict_function.<locals>.predict_function at 0x7ff63ccb8bf8> triggered tf.function retracing. Tracing is expensive and the excessive number of tracings could be due to (1) creating @tf.function repeatedly in a loop, (2) passing tensors with different shapes, (3) passing Python objects instead of tensors. For (1), please define your @tf.function outside of the loop. For (2), @tf.function has experimental_relax_shapes=True option that relaxes argument shapes that can avoid unnecessary retracing. For (3), please refer to https://www.tensorflow.org/tutorials/customization/performance#python_or_tensor_args and https://www.tensorflow.org/api_docs/python/tf/function for  more details.\n"
          ],
          "name": "stdout"
        }
      ]
    },
    {
      "cell_type": "code",
      "metadata": {
        "id": "SmaEhBr5MOeQ",
        "outputId": "b1d3f310-c16c-46d3-fbb5-bb1c9ac69b57",
        "colab": {
          "base_uri": "https://localhost:8080/",
          "height": 34
        }
      },
      "source": [
        "print('Accuracy: %.2f' % accuracy_score(y_test, y_pred))"
      ],
      "execution_count": null,
      "outputs": [
        {
          "output_type": "stream",
          "text": [
            "Accuracy: 0.91\n"
          ],
          "name": "stdout"
        }
      ]
    },
    {
      "cell_type": "code",
      "metadata": {
        "id": "C0suVhDYSH97",
        "outputId": "52830dd8-cea1-496e-bd04-f445fb0e8927",
        "colab": {
          "base_uri": "https://localhost:8080/",
          "height": 187
        }
      },
      "source": [
        "model.summary()"
      ],
      "execution_count": null,
      "outputs": [
        {
          "output_type": "stream",
          "text": [
            "Model: \"sequential_7\"\n",
            "_________________________________________________________________\n",
            "Layer (type)                 Output Shape              Param #   \n",
            "=================================================================\n",
            "dense_7 (Dense)              (None, 3)                 15        \n",
            "=================================================================\n",
            "Total params: 15\n",
            "Trainable params: 15\n",
            "Non-trainable params: 0\n",
            "_________________________________________________________________\n"
          ],
          "name": "stdout"
        }
      ]
    }
  ]
}