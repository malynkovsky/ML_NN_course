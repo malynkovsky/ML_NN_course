{
  "nbformat": 4,
  "nbformat_minor": 0,
  "metadata": {
    "colab": {
      "name": "Lab1_Malynkovsky.ipynb",
      "provenance": [],
      "collapsed_sections": []
    },
    "kernelspec": {
      "name": "python3",
      "display_name": "Python 3"
    },
    "widgets": {
      "application/vnd.jupyter.widget-state+json": {
        "f2a53c5dda444e2e81e53f6072c68230": {
          "model_module": "@jupyter-widgets/controls",
          "model_name": "ButtonModel",
          "state": {
            "_view_name": "ButtonView",
            "style": "IPY_MODEL_8b607ce970d64382bbb4760c1c9dfaef",
            "_dom_classes": [],
            "description": "Button",
            "_model_name": "ButtonModel",
            "button_style": "",
            "_view_module": "@jupyter-widgets/controls",
            "_model_module_version": "1.5.0",
            "tooltip": "",
            "_view_count": null,
            "disabled": false,
            "_view_module_version": "1.5.0",
            "layout": "IPY_MODEL_d3018ef4797b488889407e500ede84d4",
            "_model_module": "@jupyter-widgets/controls",
            "icon": ""
          }
        },
        "8b607ce970d64382bbb4760c1c9dfaef": {
          "model_module": "@jupyter-widgets/controls",
          "model_name": "ButtonStyleModel",
          "state": {
            "_view_name": "StyleView",
            "_model_name": "ButtonStyleModel",
            "_view_module": "@jupyter-widgets/base",
            "_model_module_version": "1.5.0",
            "_view_count": null,
            "button_color": null,
            "font_weight": "",
            "_view_module_version": "1.2.0",
            "_model_module": "@jupyter-widgets/controls"
          }
        },
        "d3018ef4797b488889407e500ede84d4": {
          "model_module": "@jupyter-widgets/base",
          "model_name": "LayoutModel",
          "state": {
            "_view_name": "LayoutView",
            "grid_template_rows": null,
            "right": null,
            "justify_content": null,
            "_view_module": "@jupyter-widgets/base",
            "overflow": null,
            "_model_module_version": "1.2.0",
            "_view_count": null,
            "flex_flow": null,
            "width": null,
            "min_width": null,
            "border": null,
            "align_items": null,
            "bottom": null,
            "_model_module": "@jupyter-widgets/base",
            "top": null,
            "grid_column": null,
            "overflow_y": null,
            "overflow_x": null,
            "grid_auto_flow": null,
            "grid_area": null,
            "grid_template_columns": null,
            "flex": null,
            "_model_name": "LayoutModel",
            "justify_items": null,
            "grid_row": null,
            "max_height": null,
            "align_content": null,
            "visibility": null,
            "align_self": null,
            "height": null,
            "min_height": null,
            "padding": null,
            "grid_auto_rows": null,
            "grid_gap": null,
            "max_width": null,
            "order": null,
            "_view_module_version": "1.2.0",
            "grid_template_areas": null,
            "object_position": null,
            "object_fit": null,
            "grid_auto_columns": null,
            "margin": null,
            "display": null,
            "left": null
          }
        },
        "1ecf8cf4a74b4b0db1b0168a491650cf": {
          "model_module": "@jupyter-widgets/controls",
          "model_name": "VBoxModel",
          "state": {
            "_view_name": "VBoxView",
            "_dom_classes": [
              "widget-interact"
            ],
            "_model_name": "VBoxModel",
            "_view_module": "@jupyter-widgets/controls",
            "_model_module_version": "1.5.0",
            "_view_count": null,
            "_view_module_version": "1.5.0",
            "box_style": "",
            "layout": "IPY_MODEL_e6e680151ee3456f9b68d6f10f98d31c",
            "_model_module": "@jupyter-widgets/controls",
            "children": [
              "IPY_MODEL_6b8f243334684110b640a67a0750614c",
              "IPY_MODEL_ae43e6de5a1f4a499dcd1a6d121b2c36"
            ]
          }
        },
        "e6e680151ee3456f9b68d6f10f98d31c": {
          "model_module": "@jupyter-widgets/base",
          "model_name": "LayoutModel",
          "state": {
            "_view_name": "LayoutView",
            "grid_template_rows": null,
            "right": null,
            "justify_content": null,
            "_view_module": "@jupyter-widgets/base",
            "overflow": null,
            "_model_module_version": "1.2.0",
            "_view_count": null,
            "flex_flow": null,
            "width": null,
            "min_width": null,
            "border": null,
            "align_items": null,
            "bottom": null,
            "_model_module": "@jupyter-widgets/base",
            "top": null,
            "grid_column": null,
            "overflow_y": null,
            "overflow_x": null,
            "grid_auto_flow": null,
            "grid_area": null,
            "grid_template_columns": null,
            "flex": null,
            "_model_name": "LayoutModel",
            "justify_items": null,
            "grid_row": null,
            "max_height": null,
            "align_content": null,
            "visibility": null,
            "align_self": null,
            "height": null,
            "min_height": null,
            "padding": null,
            "grid_auto_rows": null,
            "grid_gap": null,
            "max_width": null,
            "order": null,
            "_view_module_version": "1.2.0",
            "grid_template_areas": null,
            "object_position": null,
            "object_fit": null,
            "grid_auto_columns": null,
            "margin": null,
            "display": null,
            "left": null
          }
        },
        "6b8f243334684110b640a67a0750614c": {
          "model_module": "@jupyter-widgets/controls",
          "model_name": "DropdownModel",
          "state": {
            "_options_labels": [
              "0",
              "1",
              "2",
              "3",
              "4",
              "5",
              "6",
              "7",
              "8",
              "9",
              "10",
              "11",
              "12",
              "13",
              "14",
              "15",
              "16",
              "17",
              "18",
              "19",
              "20",
              "21",
              "22",
              "23",
              "24",
              "25",
              "26",
              "27",
              "28",
              "29",
              "30",
              "31",
              "32",
              "33",
              "34",
              "35",
              "36",
              "37",
              "38",
              "39",
              "40",
              "41",
              "42",
              "43",
              "44",
              "45",
              "46",
              "47",
              "48",
              "49",
              "50",
              "51",
              "52",
              "53",
              "54",
              "55",
              "56",
              "57",
              "58",
              "59",
              "60",
              "61",
              "62",
              "63",
              "64",
              "65",
              "66",
              "67",
              "68",
              "69",
              "70",
              "71"
            ],
            "_view_name": "DropdownView",
            "style": "IPY_MODEL_54033f28239b46ebb3d4ba1b279a8dc1",
            "_dom_classes": [],
            "description": "col_i",
            "_model_name": "DropdownModel",
            "index": 15,
            "_view_module": "@jupyter-widgets/controls",
            "_model_module_version": "1.5.0",
            "_view_count": null,
            "disabled": false,
            "_view_module_version": "1.5.0",
            "description_tooltip": null,
            "_model_module": "@jupyter-widgets/controls",
            "layout": "IPY_MODEL_380f03eca09f439785993b243dd0d6aa"
          }
        },
        "ae43e6de5a1f4a499dcd1a6d121b2c36": {
          "model_module": "@jupyter-widgets/output",
          "model_name": "OutputModel",
          "state": {
            "_view_name": "OutputView",
            "msg_id": "",
            "_dom_classes": [],
            "_model_name": "OutputModel",
            "outputs": [
              {
                "output_type": "display_data",
                "metadata": {
                  "tags": [],
                  "needs_background": "light"
                },
                "image/png": "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\n",
                "text/plain": "<Figure size 360x360 with 1 Axes>"
              }
            ],
            "_view_module": "@jupyter-widgets/output",
            "_model_module_version": "1.0.0",
            "_view_count": null,
            "_view_module_version": "1.0.0",
            "layout": "IPY_MODEL_90b1e46da980458dab191356fbea995f",
            "_model_module": "@jupyter-widgets/output"
          }
        },
        "54033f28239b46ebb3d4ba1b279a8dc1": {
          "model_module": "@jupyter-widgets/controls",
          "model_name": "DescriptionStyleModel",
          "state": {
            "_view_name": "StyleView",
            "_model_name": "DescriptionStyleModel",
            "description_width": "",
            "_view_module": "@jupyter-widgets/base",
            "_model_module_version": "1.5.0",
            "_view_count": null,
            "_view_module_version": "1.2.0",
            "_model_module": "@jupyter-widgets/controls"
          }
        },
        "380f03eca09f439785993b243dd0d6aa": {
          "model_module": "@jupyter-widgets/base",
          "model_name": "LayoutModel",
          "state": {
            "_view_name": "LayoutView",
            "grid_template_rows": null,
            "right": null,
            "justify_content": null,
            "_view_module": "@jupyter-widgets/base",
            "overflow": null,
            "_model_module_version": "1.2.0",
            "_view_count": null,
            "flex_flow": null,
            "width": null,
            "min_width": null,
            "border": null,
            "align_items": null,
            "bottom": null,
            "_model_module": "@jupyter-widgets/base",
            "top": null,
            "grid_column": null,
            "overflow_y": null,
            "overflow_x": null,
            "grid_auto_flow": null,
            "grid_area": null,
            "grid_template_columns": null,
            "flex": null,
            "_model_name": "LayoutModel",
            "justify_items": null,
            "grid_row": null,
            "max_height": null,
            "align_content": null,
            "visibility": null,
            "align_self": null,
            "height": null,
            "min_height": null,
            "padding": null,
            "grid_auto_rows": null,
            "grid_gap": null,
            "max_width": null,
            "order": null,
            "_view_module_version": "1.2.0",
            "grid_template_areas": null,
            "object_position": null,
            "object_fit": null,
            "grid_auto_columns": null,
            "margin": null,
            "display": null,
            "left": null
          }
        },
        "90b1e46da980458dab191356fbea995f": {
          "model_module": "@jupyter-widgets/base",
          "model_name": "LayoutModel",
          "state": {
            "_view_name": "LayoutView",
            "grid_template_rows": null,
            "right": null,
            "justify_content": null,
            "_view_module": "@jupyter-widgets/base",
            "overflow": null,
            "_model_module_version": "1.2.0",
            "_view_count": null,
            "flex_flow": null,
            "width": null,
            "min_width": null,
            "border": null,
            "align_items": null,
            "bottom": null,
            "_model_module": "@jupyter-widgets/base",
            "top": null,
            "grid_column": null,
            "overflow_y": null,
            "overflow_x": null,
            "grid_auto_flow": null,
            "grid_area": null,
            "grid_template_columns": null,
            "flex": null,
            "_model_name": "LayoutModel",
            "justify_items": null,
            "grid_row": null,
            "max_height": null,
            "align_content": null,
            "visibility": null,
            "align_self": null,
            "height": null,
            "min_height": null,
            "padding": null,
            "grid_auto_rows": null,
            "grid_gap": null,
            "max_width": null,
            "order": null,
            "_view_module_version": "1.2.0",
            "grid_template_areas": null,
            "object_position": null,
            "object_fit": null,
            "grid_auto_columns": null,
            "margin": null,
            "display": null,
            "left": null
          }
        }
      }
    }
  },
  "cells": [
    {
      "cell_type": "code",
      "metadata": {
        "id": "jev0p5olXb5z"
      },
      "source": [
        "from sklearn import datasets\n",
        "from sklearn.preprocessing import StandardScaler\n",
        "from sklearn.linear_model import Perceptron\n",
        "from sklearn.model_selection import train_test_split\n",
        "from sklearn.metrics import accuracy_score\n",
        "import numpy as np\n",
        "import pandas as pd"
      ],
      "execution_count": 1,
      "outputs": []
    },
    {
      "cell_type": "code",
      "metadata": {
        "id": "NviOScJVeDIp"
      },
      "source": [
        "df = pd.read_csv('Data_Cortex_Nuclear.csv')  "
      ],
      "execution_count": 2,
      "outputs": []
    },
    {
      "cell_type": "markdown",
      "metadata": {
        "id": "O4rfgFnucwYp"
      },
      "source": [
        ""
      ]
    },
    {
      "cell_type": "code",
      "metadata": {
        "id": "_u3Jg2PpeQCg",
        "outputId": "4847fed8-a351-44dd-8183-bcc6886c4241",
        "colab": {
          "base_uri": "https://localhost:8080/",
          "height": 338
        }
      },
      "source": [
        "df.head()"
      ],
      "execution_count": 3,
      "outputs": [
        {
          "output_type": "execute_result",
          "data": {
            "text/html": [
              "<div>\n",
              "<style scoped>\n",
              "    .dataframe tbody tr th:only-of-type {\n",
              "        vertical-align: middle;\n",
              "    }\n",
              "\n",
              "    .dataframe tbody tr th {\n",
              "        vertical-align: top;\n",
              "    }\n",
              "\n",
              "    .dataframe thead th {\n",
              "        text-align: right;\n",
              "    }\n",
              "</style>\n",
              "<table border=\"1\" class=\"dataframe\">\n",
              "  <thead>\n",
              "    <tr style=\"text-align: right;\">\n",
              "      <th></th>\n",
              "      <th>MouseID</th>\n",
              "      <th>DYRK1A_N</th>\n",
              "      <th>ITSN1_N</th>\n",
              "      <th>BDNF_N</th>\n",
              "      <th>NR1_N</th>\n",
              "      <th>NR2A_N</th>\n",
              "      <th>pAKT_N</th>\n",
              "      <th>pBRAF_N</th>\n",
              "      <th>pCAMKII_N</th>\n",
              "      <th>pCREB_N</th>\n",
              "      <th>pELK_N</th>\n",
              "      <th>pERK_N</th>\n",
              "      <th>pJNK_N</th>\n",
              "      <th>PKCA_N</th>\n",
              "      <th>pMEK_N</th>\n",
              "      <th>pNR1_N</th>\n",
              "      <th>pNR2A_N</th>\n",
              "      <th>pNR2B_N</th>\n",
              "      <th>pPKCAB_N</th>\n",
              "      <th>pRSK_N</th>\n",
              "      <th>AKT_N</th>\n",
              "      <th>BRAF_N</th>\n",
              "      <th>CAMKII_N</th>\n",
              "      <th>CREB_N</th>\n",
              "      <th>ELK_N</th>\n",
              "      <th>ERK_N</th>\n",
              "      <th>GSK3B_N</th>\n",
              "      <th>JNK_N</th>\n",
              "      <th>MEK_N</th>\n",
              "      <th>TRKA_N</th>\n",
              "      <th>RSK_N</th>\n",
              "      <th>APP_N</th>\n",
              "      <th>Bcatenin_N</th>\n",
              "      <th>SOD1_N</th>\n",
              "      <th>MTOR_N</th>\n",
              "      <th>P38_N</th>\n",
              "      <th>pMTOR_N</th>\n",
              "      <th>DSCR1_N</th>\n",
              "      <th>AMPKA_N</th>\n",
              "      <th>NR2B_N</th>\n",
              "      <th>...</th>\n",
              "      <th>TIAM1_N</th>\n",
              "      <th>pP70S6_N</th>\n",
              "      <th>NUMB_N</th>\n",
              "      <th>P70S6_N</th>\n",
              "      <th>pGSK3B_N</th>\n",
              "      <th>pPKCG_N</th>\n",
              "      <th>CDK5_N</th>\n",
              "      <th>S6_N</th>\n",
              "      <th>ADARB1_N</th>\n",
              "      <th>AcetylH3K9_N</th>\n",
              "      <th>RRP1_N</th>\n",
              "      <th>BAX_N</th>\n",
              "      <th>ARC_N</th>\n",
              "      <th>ERBB4_N</th>\n",
              "      <th>nNOS_N</th>\n",
              "      <th>Tau_N</th>\n",
              "      <th>GFAP_N</th>\n",
              "      <th>GluR3_N</th>\n",
              "      <th>GluR4_N</th>\n",
              "      <th>IL1B_N</th>\n",
              "      <th>P3525_N</th>\n",
              "      <th>pCASP9_N</th>\n",
              "      <th>PSD95_N</th>\n",
              "      <th>SNCA_N</th>\n",
              "      <th>Ubiquitin_N</th>\n",
              "      <th>pGSK3B_Tyr216_N</th>\n",
              "      <th>SHH_N</th>\n",
              "      <th>BAD_N</th>\n",
              "      <th>BCL2_N</th>\n",
              "      <th>pS6_N</th>\n",
              "      <th>pCFOS_N</th>\n",
              "      <th>SYP_N</th>\n",
              "      <th>H3AcK18_N</th>\n",
              "      <th>EGR1_N</th>\n",
              "      <th>H3MeK4_N</th>\n",
              "      <th>CaNA_N</th>\n",
              "      <th>Genotype</th>\n",
              "      <th>Treatment</th>\n",
              "      <th>Behavior</th>\n",
              "      <th>class</th>\n",
              "    </tr>\n",
              "  </thead>\n",
              "  <tbody>\n",
              "    <tr>\n",
              "      <th>0</th>\n",
              "      <td>309_1</td>\n",
              "      <td>0.503644</td>\n",
              "      <td>0.747193</td>\n",
              "      <td>0.430175</td>\n",
              "      <td>2.816329</td>\n",
              "      <td>5.990152</td>\n",
              "      <td>0.218830</td>\n",
              "      <td>0.177565</td>\n",
              "      <td>2.373744</td>\n",
              "      <td>0.232224</td>\n",
              "      <td>1.750936</td>\n",
              "      <td>0.687906</td>\n",
              "      <td>0.306382</td>\n",
              "      <td>0.402698</td>\n",
              "      <td>0.296927</td>\n",
              "      <td>1.022060</td>\n",
              "      <td>0.605673</td>\n",
              "      <td>1.877684</td>\n",
              "      <td>2.308745</td>\n",
              "      <td>0.441599</td>\n",
              "      <td>0.859366</td>\n",
              "      <td>0.416289</td>\n",
              "      <td>0.369608</td>\n",
              "      <td>0.178944</td>\n",
              "      <td>1.866358</td>\n",
              "      <td>3.685247</td>\n",
              "      <td>1.537227</td>\n",
              "      <td>0.264526</td>\n",
              "      <td>0.319677</td>\n",
              "      <td>0.813866</td>\n",
              "      <td>0.165846</td>\n",
              "      <td>0.453910</td>\n",
              "      <td>3.037621</td>\n",
              "      <td>0.369510</td>\n",
              "      <td>0.458539</td>\n",
              "      <td>0.335336</td>\n",
              "      <td>0.825192</td>\n",
              "      <td>0.576916</td>\n",
              "      <td>0.448099</td>\n",
              "      <td>0.586271</td>\n",
              "      <td>...</td>\n",
              "      <td>0.482864</td>\n",
              "      <td>0.294170</td>\n",
              "      <td>0.182150</td>\n",
              "      <td>0.842725</td>\n",
              "      <td>0.192608</td>\n",
              "      <td>1.443091</td>\n",
              "      <td>0.294700</td>\n",
              "      <td>0.354605</td>\n",
              "      <td>1.339070</td>\n",
              "      <td>0.170119</td>\n",
              "      <td>0.159102</td>\n",
              "      <td>0.188852</td>\n",
              "      <td>0.106305</td>\n",
              "      <td>0.144989</td>\n",
              "      <td>0.176668</td>\n",
              "      <td>0.125190</td>\n",
              "      <td>0.115291</td>\n",
              "      <td>0.228043</td>\n",
              "      <td>0.142756</td>\n",
              "      <td>0.430957</td>\n",
              "      <td>0.247538</td>\n",
              "      <td>1.603310</td>\n",
              "      <td>2.014875</td>\n",
              "      <td>0.108234</td>\n",
              "      <td>1.044979</td>\n",
              "      <td>0.831557</td>\n",
              "      <td>0.188852</td>\n",
              "      <td>0.122652</td>\n",
              "      <td>NaN</td>\n",
              "      <td>0.106305</td>\n",
              "      <td>0.108336</td>\n",
              "      <td>0.427099</td>\n",
              "      <td>0.114783</td>\n",
              "      <td>0.131790</td>\n",
              "      <td>0.128186</td>\n",
              "      <td>1.675652</td>\n",
              "      <td>Control</td>\n",
              "      <td>Memantine</td>\n",
              "      <td>C/S</td>\n",
              "      <td>c-CS-m</td>\n",
              "    </tr>\n",
              "    <tr>\n",
              "      <th>1</th>\n",
              "      <td>309_2</td>\n",
              "      <td>0.514617</td>\n",
              "      <td>0.689064</td>\n",
              "      <td>0.411770</td>\n",
              "      <td>2.789514</td>\n",
              "      <td>5.685038</td>\n",
              "      <td>0.211636</td>\n",
              "      <td>0.172817</td>\n",
              "      <td>2.292150</td>\n",
              "      <td>0.226972</td>\n",
              "      <td>1.596377</td>\n",
              "      <td>0.695006</td>\n",
              "      <td>0.299051</td>\n",
              "      <td>0.385987</td>\n",
              "      <td>0.281319</td>\n",
              "      <td>0.956676</td>\n",
              "      <td>0.587559</td>\n",
              "      <td>1.725774</td>\n",
              "      <td>2.043037</td>\n",
              "      <td>0.445222</td>\n",
              "      <td>0.834659</td>\n",
              "      <td>0.400364</td>\n",
              "      <td>0.356178</td>\n",
              "      <td>0.173680</td>\n",
              "      <td>1.761047</td>\n",
              "      <td>3.485287</td>\n",
              "      <td>1.509249</td>\n",
              "      <td>0.255727</td>\n",
              "      <td>0.304419</td>\n",
              "      <td>0.780504</td>\n",
              "      <td>0.157194</td>\n",
              "      <td>0.430940</td>\n",
              "      <td>2.921882</td>\n",
              "      <td>0.342279</td>\n",
              "      <td>0.423560</td>\n",
              "      <td>0.324835</td>\n",
              "      <td>0.761718</td>\n",
              "      <td>0.545097</td>\n",
              "      <td>0.420876</td>\n",
              "      <td>0.545097</td>\n",
              "      <td>...</td>\n",
              "      <td>0.454519</td>\n",
              "      <td>0.276431</td>\n",
              "      <td>0.182086</td>\n",
              "      <td>0.847615</td>\n",
              "      <td>0.194815</td>\n",
              "      <td>1.439460</td>\n",
              "      <td>0.294060</td>\n",
              "      <td>0.354548</td>\n",
              "      <td>1.306323</td>\n",
              "      <td>0.171427</td>\n",
              "      <td>0.158129</td>\n",
              "      <td>0.184570</td>\n",
              "      <td>0.106592</td>\n",
              "      <td>0.150471</td>\n",
              "      <td>0.178309</td>\n",
              "      <td>0.134275</td>\n",
              "      <td>0.118235</td>\n",
              "      <td>0.238073</td>\n",
              "      <td>0.142037</td>\n",
              "      <td>0.457156</td>\n",
              "      <td>0.257632</td>\n",
              "      <td>1.671738</td>\n",
              "      <td>2.004605</td>\n",
              "      <td>0.109749</td>\n",
              "      <td>1.009883</td>\n",
              "      <td>0.849270</td>\n",
              "      <td>0.200404</td>\n",
              "      <td>0.116682</td>\n",
              "      <td>NaN</td>\n",
              "      <td>0.106592</td>\n",
              "      <td>0.104315</td>\n",
              "      <td>0.441581</td>\n",
              "      <td>0.111974</td>\n",
              "      <td>0.135103</td>\n",
              "      <td>0.131119</td>\n",
              "      <td>1.743610</td>\n",
              "      <td>Control</td>\n",
              "      <td>Memantine</td>\n",
              "      <td>C/S</td>\n",
              "      <td>c-CS-m</td>\n",
              "    </tr>\n",
              "    <tr>\n",
              "      <th>2</th>\n",
              "      <td>309_3</td>\n",
              "      <td>0.509183</td>\n",
              "      <td>0.730247</td>\n",
              "      <td>0.418309</td>\n",
              "      <td>2.687201</td>\n",
              "      <td>5.622059</td>\n",
              "      <td>0.209011</td>\n",
              "      <td>0.175722</td>\n",
              "      <td>2.283337</td>\n",
              "      <td>0.230247</td>\n",
              "      <td>1.561316</td>\n",
              "      <td>0.677348</td>\n",
              "      <td>0.291276</td>\n",
              "      <td>0.381002</td>\n",
              "      <td>0.281710</td>\n",
              "      <td>1.003635</td>\n",
              "      <td>0.602449</td>\n",
              "      <td>1.731873</td>\n",
              "      <td>2.017984</td>\n",
              "      <td>0.467668</td>\n",
              "      <td>0.814329</td>\n",
              "      <td>0.399847</td>\n",
              "      <td>0.368089</td>\n",
              "      <td>0.173905</td>\n",
              "      <td>1.765544</td>\n",
              "      <td>3.571456</td>\n",
              "      <td>1.501244</td>\n",
              "      <td>0.259614</td>\n",
              "      <td>0.311747</td>\n",
              "      <td>0.785154</td>\n",
              "      <td>0.160895</td>\n",
              "      <td>0.423187</td>\n",
              "      <td>2.944136</td>\n",
              "      <td>0.343696</td>\n",
              "      <td>0.425005</td>\n",
              "      <td>0.324852</td>\n",
              "      <td>0.757031</td>\n",
              "      <td>0.543620</td>\n",
              "      <td>0.404630</td>\n",
              "      <td>0.552994</td>\n",
              "      <td>...</td>\n",
              "      <td>0.447197</td>\n",
              "      <td>0.256648</td>\n",
              "      <td>0.184388</td>\n",
              "      <td>0.856166</td>\n",
              "      <td>0.200737</td>\n",
              "      <td>1.524364</td>\n",
              "      <td>0.301881</td>\n",
              "      <td>0.386087</td>\n",
              "      <td>1.279600</td>\n",
              "      <td>0.185456</td>\n",
              "      <td>0.148696</td>\n",
              "      <td>0.190532</td>\n",
              "      <td>0.108303</td>\n",
              "      <td>0.145330</td>\n",
              "      <td>0.176213</td>\n",
              "      <td>0.132560</td>\n",
              "      <td>0.117760</td>\n",
              "      <td>0.244817</td>\n",
              "      <td>0.142445</td>\n",
              "      <td>0.510472</td>\n",
              "      <td>0.255343</td>\n",
              "      <td>1.663550</td>\n",
              "      <td>2.016831</td>\n",
              "      <td>0.108196</td>\n",
              "      <td>0.996848</td>\n",
              "      <td>0.846709</td>\n",
              "      <td>0.193685</td>\n",
              "      <td>0.118508</td>\n",
              "      <td>NaN</td>\n",
              "      <td>0.108303</td>\n",
              "      <td>0.106219</td>\n",
              "      <td>0.435777</td>\n",
              "      <td>0.111883</td>\n",
              "      <td>0.133362</td>\n",
              "      <td>0.127431</td>\n",
              "      <td>1.926427</td>\n",
              "      <td>Control</td>\n",
              "      <td>Memantine</td>\n",
              "      <td>C/S</td>\n",
              "      <td>c-CS-m</td>\n",
              "    </tr>\n",
              "    <tr>\n",
              "      <th>3</th>\n",
              "      <td>309_4</td>\n",
              "      <td>0.442107</td>\n",
              "      <td>0.617076</td>\n",
              "      <td>0.358626</td>\n",
              "      <td>2.466947</td>\n",
              "      <td>4.979503</td>\n",
              "      <td>0.222886</td>\n",
              "      <td>0.176463</td>\n",
              "      <td>2.152301</td>\n",
              "      <td>0.207004</td>\n",
              "      <td>1.595086</td>\n",
              "      <td>0.583277</td>\n",
              "      <td>0.296729</td>\n",
              "      <td>0.377087</td>\n",
              "      <td>0.313832</td>\n",
              "      <td>0.875390</td>\n",
              "      <td>0.520293</td>\n",
              "      <td>1.566852</td>\n",
              "      <td>2.132754</td>\n",
              "      <td>0.477671</td>\n",
              "      <td>0.727705</td>\n",
              "      <td>0.385639</td>\n",
              "      <td>0.362970</td>\n",
              "      <td>0.179449</td>\n",
              "      <td>1.286277</td>\n",
              "      <td>2.970137</td>\n",
              "      <td>1.419710</td>\n",
              "      <td>0.259536</td>\n",
              "      <td>0.279218</td>\n",
              "      <td>0.734492</td>\n",
              "      <td>0.162210</td>\n",
              "      <td>0.410615</td>\n",
              "      <td>2.500204</td>\n",
              "      <td>0.344509</td>\n",
              "      <td>0.429211</td>\n",
              "      <td>0.330121</td>\n",
              "      <td>0.746980</td>\n",
              "      <td>0.546763</td>\n",
              "      <td>0.386860</td>\n",
              "      <td>0.547849</td>\n",
              "      <td>...</td>\n",
              "      <td>0.442650</td>\n",
              "      <td>0.398534</td>\n",
              "      <td>0.161768</td>\n",
              "      <td>0.760234</td>\n",
              "      <td>0.184169</td>\n",
              "      <td>1.612382</td>\n",
              "      <td>0.296382</td>\n",
              "      <td>0.290680</td>\n",
              "      <td>1.198765</td>\n",
              "      <td>0.159799</td>\n",
              "      <td>0.166112</td>\n",
              "      <td>0.185323</td>\n",
              "      <td>0.103184</td>\n",
              "      <td>0.140656</td>\n",
              "      <td>0.163804</td>\n",
              "      <td>0.123210</td>\n",
              "      <td>0.117439</td>\n",
              "      <td>0.234947</td>\n",
              "      <td>0.145068</td>\n",
              "      <td>0.430996</td>\n",
              "      <td>0.251103</td>\n",
              "      <td>1.484624</td>\n",
              "      <td>1.957233</td>\n",
              "      <td>0.119883</td>\n",
              "      <td>0.990225</td>\n",
              "      <td>0.833277</td>\n",
              "      <td>0.192112</td>\n",
              "      <td>0.132781</td>\n",
              "      <td>NaN</td>\n",
              "      <td>0.103184</td>\n",
              "      <td>0.111262</td>\n",
              "      <td>0.391691</td>\n",
              "      <td>0.130405</td>\n",
              "      <td>0.147444</td>\n",
              "      <td>0.146901</td>\n",
              "      <td>1.700563</td>\n",
              "      <td>Control</td>\n",
              "      <td>Memantine</td>\n",
              "      <td>C/S</td>\n",
              "      <td>c-CS-m</td>\n",
              "    </tr>\n",
              "    <tr>\n",
              "      <th>4</th>\n",
              "      <td>309_5</td>\n",
              "      <td>0.434940</td>\n",
              "      <td>0.617430</td>\n",
              "      <td>0.358802</td>\n",
              "      <td>2.365785</td>\n",
              "      <td>4.718679</td>\n",
              "      <td>0.213106</td>\n",
              "      <td>0.173627</td>\n",
              "      <td>2.134014</td>\n",
              "      <td>0.192158</td>\n",
              "      <td>1.504230</td>\n",
              "      <td>0.550960</td>\n",
              "      <td>0.286961</td>\n",
              "      <td>0.363502</td>\n",
              "      <td>0.277964</td>\n",
              "      <td>0.864912</td>\n",
              "      <td>0.507990</td>\n",
              "      <td>1.480059</td>\n",
              "      <td>2.013697</td>\n",
              "      <td>0.483416</td>\n",
              "      <td>0.687794</td>\n",
              "      <td>0.367531</td>\n",
              "      <td>0.355311</td>\n",
              "      <td>0.174836</td>\n",
              "      <td>1.324695</td>\n",
              "      <td>2.896334</td>\n",
              "      <td>1.359876</td>\n",
              "      <td>0.250705</td>\n",
              "      <td>0.273667</td>\n",
              "      <td>0.702699</td>\n",
              "      <td>0.154827</td>\n",
              "      <td>0.398550</td>\n",
              "      <td>2.456560</td>\n",
              "      <td>0.329126</td>\n",
              "      <td>0.408755</td>\n",
              "      <td>0.313415</td>\n",
              "      <td>0.691956</td>\n",
              "      <td>0.536860</td>\n",
              "      <td>0.360816</td>\n",
              "      <td>0.512824</td>\n",
              "      <td>...</td>\n",
              "      <td>0.419095</td>\n",
              "      <td>0.393447</td>\n",
              "      <td>0.160200</td>\n",
              "      <td>0.768113</td>\n",
              "      <td>0.185718</td>\n",
              "      <td>1.645807</td>\n",
              "      <td>0.296829</td>\n",
              "      <td>0.309345</td>\n",
              "      <td>1.206995</td>\n",
              "      <td>0.164650</td>\n",
              "      <td>0.160687</td>\n",
              "      <td>0.188221</td>\n",
              "      <td>0.104784</td>\n",
              "      <td>0.141983</td>\n",
              "      <td>0.167710</td>\n",
              "      <td>0.136838</td>\n",
              "      <td>0.116048</td>\n",
              "      <td>0.255528</td>\n",
              "      <td>0.140871</td>\n",
              "      <td>0.481227</td>\n",
              "      <td>0.251773</td>\n",
              "      <td>1.534835</td>\n",
              "      <td>2.009109</td>\n",
              "      <td>0.119524</td>\n",
              "      <td>0.997775</td>\n",
              "      <td>0.878668</td>\n",
              "      <td>0.205604</td>\n",
              "      <td>0.129954</td>\n",
              "      <td>NaN</td>\n",
              "      <td>0.104784</td>\n",
              "      <td>0.110694</td>\n",
              "      <td>0.434154</td>\n",
              "      <td>0.118481</td>\n",
              "      <td>0.140314</td>\n",
              "      <td>0.148380</td>\n",
              "      <td>1.839730</td>\n",
              "      <td>Control</td>\n",
              "      <td>Memantine</td>\n",
              "      <td>C/S</td>\n",
              "      <td>c-CS-m</td>\n",
              "    </tr>\n",
              "  </tbody>\n",
              "</table>\n",
              "<p>5 rows × 82 columns</p>\n",
              "</div>"
            ],
            "text/plain": [
              "  MouseID  DYRK1A_N   ITSN1_N    BDNF_N  ...  Genotype  Treatment  Behavior   class\n",
              "0   309_1  0.503644  0.747193  0.430175  ...   Control  Memantine       C/S  c-CS-m\n",
              "1   309_2  0.514617  0.689064  0.411770  ...   Control  Memantine       C/S  c-CS-m\n",
              "2   309_3  0.509183  0.730247  0.418309  ...   Control  Memantine       C/S  c-CS-m\n",
              "3   309_4  0.442107  0.617076  0.358626  ...   Control  Memantine       C/S  c-CS-m\n",
              "4   309_5  0.434940  0.617430  0.358802  ...   Control  Memantine       C/S  c-CS-m\n",
              "\n",
              "[5 rows x 82 columns]"
            ]
          },
          "metadata": {
            "tags": []
          },
          "execution_count": 3
        }
      ]
    },
    {
      "cell_type": "code",
      "metadata": {
        "id": "7XSwxXIX3BH2",
        "outputId": "d4deb011-d6c5-4d86-81ef-511018b1de7b",
        "colab": {
          "base_uri": "https://localhost:8080/",
          "height": 119
        }
      },
      "source": [
        "t = pd.Series(df.isna().sum())\n",
        "t[t>100]"
      ],
      "execution_count": 4,
      "outputs": [
        {
          "output_type": "execute_result",
          "data": {
            "text/plain": [
              "BAD_N        213\n",
              "BCL2_N       285\n",
              "H3AcK18_N    180\n",
              "EGR1_N       210\n",
              "H3MeK4_N     270\n",
              "dtype: int64"
            ]
          },
          "metadata": {
            "tags": []
          },
          "execution_count": 4
        }
      ]
    },
    {
      "cell_type": "markdown",
      "metadata": {
        "id": "cODJbz3E3QtQ"
      },
      "source": [
        "В нашем датасете есть колонки (признаки), где отонсительно большое число пропусков (больше 180 при том, что всего 1080 строк). Это признаки: 'BAD_N', 'BCL2_N', 'H3AcK18_N', 'EGR1_N', 'H3MeK4_N'. Удалим эти колонки из нашего рассмотрения."
      ]
    },
    {
      "cell_type": "code",
      "metadata": {
        "id": "gj7SeYOoz3SZ"
      },
      "source": [
        "df.drop(columns=['BAD_N', 'BCL2_N', 'H3AcK18_N', 'EGR1_N', 'H3MeK4_N'],inplace=True)"
      ],
      "execution_count": 5,
      "outputs": []
    },
    {
      "cell_type": "code",
      "metadata": {
        "id": "96tjLBp55P14",
        "outputId": "5944294b-af41-4a7d-8909-e1f6c0f67455",
        "colab": {
          "base_uri": "https://localhost:8080/",
          "height": 34
        }
      },
      "source": [
        "len(t[(t>0) & (t < 100)])"
      ],
      "execution_count": 6,
      "outputs": [
        {
          "output_type": "execute_result",
          "data": {
            "text/plain": [
              "44"
            ]
          },
          "metadata": {
            "tags": []
          },
          "execution_count": 6
        }
      ]
    },
    {
      "cell_type": "code",
      "metadata": {
        "id": "Zjet9Y1ybJ85",
        "outputId": "d45e538b-e985-4090-fb88-c1246f5b2f3d",
        "colab": {
          "base_uri": "https://localhost:8080/",
          "height": 34
        }
      },
      "source": [
        "len(df['MouseID'].unique())==len(df['MouseID'])"
      ],
      "execution_count": 7,
      "outputs": [
        {
          "output_type": "execute_result",
          "data": {
            "text/plain": [
              "True"
            ]
          },
          "metadata": {
            "tags": []
          },
          "execution_count": 7
        }
      ]
    },
    {
      "cell_type": "markdown",
      "metadata": {
        "id": "wEbDOVJtapdR"
      },
      "source": [
        "В строках также обнаружены пропуски (44 строки с небольшим количество пропусков в каждрй), их мы удалим (Заполнение их чем-то в данном случае трудно обосновать, но таких пропусков относительно мало).\n",
        "\n",
        "Колонку MouseID можно удалить, так это просто нумерация для датасета. Так как id нигде не повторяется, делаем вывод что здесь нет измерении для одной и той же мыши, т.е. этот признак можно отбросить."
      ]
    },
    {
      "cell_type": "code",
      "metadata": {
        "id": "EOCqpagSan0_"
      },
      "source": [
        "df.dropna(inplace=True)\n",
        "df.drop(columns=['MouseID'],inplace=True)"
      ],
      "execution_count": 8,
      "outputs": []
    },
    {
      "cell_type": "code",
      "metadata": {
        "id": "XAslt0phbh2l",
        "outputId": "0a047806-8f61-4209-8bc6-66d4c216c8ff",
        "colab": {
          "base_uri": "https://localhost:8080/",
          "height": 309
        }
      },
      "source": [
        "df.head()"
      ],
      "execution_count": 9,
      "outputs": [
        {
          "output_type": "execute_result",
          "data": {
            "text/html": [
              "<div>\n",
              "<style scoped>\n",
              "    .dataframe tbody tr th:only-of-type {\n",
              "        vertical-align: middle;\n",
              "    }\n",
              "\n",
              "    .dataframe tbody tr th {\n",
              "        vertical-align: top;\n",
              "    }\n",
              "\n",
              "    .dataframe thead th {\n",
              "        text-align: right;\n",
              "    }\n",
              "</style>\n",
              "<table border=\"1\" class=\"dataframe\">\n",
              "  <thead>\n",
              "    <tr style=\"text-align: right;\">\n",
              "      <th></th>\n",
              "      <th>DYRK1A_N</th>\n",
              "      <th>ITSN1_N</th>\n",
              "      <th>BDNF_N</th>\n",
              "      <th>NR1_N</th>\n",
              "      <th>NR2A_N</th>\n",
              "      <th>pAKT_N</th>\n",
              "      <th>pBRAF_N</th>\n",
              "      <th>pCAMKII_N</th>\n",
              "      <th>pCREB_N</th>\n",
              "      <th>pELK_N</th>\n",
              "      <th>pERK_N</th>\n",
              "      <th>pJNK_N</th>\n",
              "      <th>PKCA_N</th>\n",
              "      <th>pMEK_N</th>\n",
              "      <th>pNR1_N</th>\n",
              "      <th>pNR2A_N</th>\n",
              "      <th>pNR2B_N</th>\n",
              "      <th>pPKCAB_N</th>\n",
              "      <th>pRSK_N</th>\n",
              "      <th>AKT_N</th>\n",
              "      <th>BRAF_N</th>\n",
              "      <th>CAMKII_N</th>\n",
              "      <th>CREB_N</th>\n",
              "      <th>ELK_N</th>\n",
              "      <th>ERK_N</th>\n",
              "      <th>GSK3B_N</th>\n",
              "      <th>JNK_N</th>\n",
              "      <th>MEK_N</th>\n",
              "      <th>TRKA_N</th>\n",
              "      <th>RSK_N</th>\n",
              "      <th>APP_N</th>\n",
              "      <th>Bcatenin_N</th>\n",
              "      <th>SOD1_N</th>\n",
              "      <th>MTOR_N</th>\n",
              "      <th>P38_N</th>\n",
              "      <th>pMTOR_N</th>\n",
              "      <th>DSCR1_N</th>\n",
              "      <th>AMPKA_N</th>\n",
              "      <th>NR2B_N</th>\n",
              "      <th>pNUMB_N</th>\n",
              "      <th>RAPTOR_N</th>\n",
              "      <th>TIAM1_N</th>\n",
              "      <th>pP70S6_N</th>\n",
              "      <th>NUMB_N</th>\n",
              "      <th>P70S6_N</th>\n",
              "      <th>pGSK3B_N</th>\n",
              "      <th>pPKCG_N</th>\n",
              "      <th>CDK5_N</th>\n",
              "      <th>S6_N</th>\n",
              "      <th>ADARB1_N</th>\n",
              "      <th>AcetylH3K9_N</th>\n",
              "      <th>RRP1_N</th>\n",
              "      <th>BAX_N</th>\n",
              "      <th>ARC_N</th>\n",
              "      <th>ERBB4_N</th>\n",
              "      <th>nNOS_N</th>\n",
              "      <th>Tau_N</th>\n",
              "      <th>GFAP_N</th>\n",
              "      <th>GluR3_N</th>\n",
              "      <th>GluR4_N</th>\n",
              "      <th>IL1B_N</th>\n",
              "      <th>P3525_N</th>\n",
              "      <th>pCASP9_N</th>\n",
              "      <th>PSD95_N</th>\n",
              "      <th>SNCA_N</th>\n",
              "      <th>Ubiquitin_N</th>\n",
              "      <th>pGSK3B_Tyr216_N</th>\n",
              "      <th>SHH_N</th>\n",
              "      <th>pS6_N</th>\n",
              "      <th>pCFOS_N</th>\n",
              "      <th>SYP_N</th>\n",
              "      <th>CaNA_N</th>\n",
              "      <th>Genotype</th>\n",
              "      <th>Treatment</th>\n",
              "      <th>Behavior</th>\n",
              "      <th>class</th>\n",
              "    </tr>\n",
              "  </thead>\n",
              "  <tbody>\n",
              "    <tr>\n",
              "      <th>0</th>\n",
              "      <td>0.503644</td>\n",
              "      <td>0.747193</td>\n",
              "      <td>0.430175</td>\n",
              "      <td>2.816329</td>\n",
              "      <td>5.990152</td>\n",
              "      <td>0.218830</td>\n",
              "      <td>0.177565</td>\n",
              "      <td>2.373744</td>\n",
              "      <td>0.232224</td>\n",
              "      <td>1.750936</td>\n",
              "      <td>0.687906</td>\n",
              "      <td>0.306382</td>\n",
              "      <td>0.402698</td>\n",
              "      <td>0.296927</td>\n",
              "      <td>1.022060</td>\n",
              "      <td>0.605673</td>\n",
              "      <td>1.877684</td>\n",
              "      <td>2.308745</td>\n",
              "      <td>0.441599</td>\n",
              "      <td>0.859366</td>\n",
              "      <td>0.416289</td>\n",
              "      <td>0.369608</td>\n",
              "      <td>0.178944</td>\n",
              "      <td>1.866358</td>\n",
              "      <td>3.685247</td>\n",
              "      <td>1.537227</td>\n",
              "      <td>0.264526</td>\n",
              "      <td>0.319677</td>\n",
              "      <td>0.813866</td>\n",
              "      <td>0.165846</td>\n",
              "      <td>0.453910</td>\n",
              "      <td>3.037621</td>\n",
              "      <td>0.369510</td>\n",
              "      <td>0.458539</td>\n",
              "      <td>0.335336</td>\n",
              "      <td>0.825192</td>\n",
              "      <td>0.576916</td>\n",
              "      <td>0.448099</td>\n",
              "      <td>0.586271</td>\n",
              "      <td>0.394721</td>\n",
              "      <td>0.339571</td>\n",
              "      <td>0.482864</td>\n",
              "      <td>0.294170</td>\n",
              "      <td>0.182150</td>\n",
              "      <td>0.842725</td>\n",
              "      <td>0.192608</td>\n",
              "      <td>1.443091</td>\n",
              "      <td>0.294700</td>\n",
              "      <td>0.354605</td>\n",
              "      <td>1.339070</td>\n",
              "      <td>0.170119</td>\n",
              "      <td>0.159102</td>\n",
              "      <td>0.188852</td>\n",
              "      <td>0.106305</td>\n",
              "      <td>0.144989</td>\n",
              "      <td>0.176668</td>\n",
              "      <td>0.125190</td>\n",
              "      <td>0.115291</td>\n",
              "      <td>0.228043</td>\n",
              "      <td>0.142756</td>\n",
              "      <td>0.430957</td>\n",
              "      <td>0.247538</td>\n",
              "      <td>1.603310</td>\n",
              "      <td>2.014875</td>\n",
              "      <td>0.108234</td>\n",
              "      <td>1.044979</td>\n",
              "      <td>0.831557</td>\n",
              "      <td>0.188852</td>\n",
              "      <td>0.106305</td>\n",
              "      <td>0.108336</td>\n",
              "      <td>0.427099</td>\n",
              "      <td>1.675652</td>\n",
              "      <td>Control</td>\n",
              "      <td>Memantine</td>\n",
              "      <td>C/S</td>\n",
              "      <td>c-CS-m</td>\n",
              "    </tr>\n",
              "    <tr>\n",
              "      <th>1</th>\n",
              "      <td>0.514617</td>\n",
              "      <td>0.689064</td>\n",
              "      <td>0.411770</td>\n",
              "      <td>2.789514</td>\n",
              "      <td>5.685038</td>\n",
              "      <td>0.211636</td>\n",
              "      <td>0.172817</td>\n",
              "      <td>2.292150</td>\n",
              "      <td>0.226972</td>\n",
              "      <td>1.596377</td>\n",
              "      <td>0.695006</td>\n",
              "      <td>0.299051</td>\n",
              "      <td>0.385987</td>\n",
              "      <td>0.281319</td>\n",
              "      <td>0.956676</td>\n",
              "      <td>0.587559</td>\n",
              "      <td>1.725774</td>\n",
              "      <td>2.043037</td>\n",
              "      <td>0.445222</td>\n",
              "      <td>0.834659</td>\n",
              "      <td>0.400364</td>\n",
              "      <td>0.356178</td>\n",
              "      <td>0.173680</td>\n",
              "      <td>1.761047</td>\n",
              "      <td>3.485287</td>\n",
              "      <td>1.509249</td>\n",
              "      <td>0.255727</td>\n",
              "      <td>0.304419</td>\n",
              "      <td>0.780504</td>\n",
              "      <td>0.157194</td>\n",
              "      <td>0.430940</td>\n",
              "      <td>2.921882</td>\n",
              "      <td>0.342279</td>\n",
              "      <td>0.423560</td>\n",
              "      <td>0.324835</td>\n",
              "      <td>0.761718</td>\n",
              "      <td>0.545097</td>\n",
              "      <td>0.420876</td>\n",
              "      <td>0.545097</td>\n",
              "      <td>0.368255</td>\n",
              "      <td>0.321959</td>\n",
              "      <td>0.454519</td>\n",
              "      <td>0.276431</td>\n",
              "      <td>0.182086</td>\n",
              "      <td>0.847615</td>\n",
              "      <td>0.194815</td>\n",
              "      <td>1.439460</td>\n",
              "      <td>0.294060</td>\n",
              "      <td>0.354548</td>\n",
              "      <td>1.306323</td>\n",
              "      <td>0.171427</td>\n",
              "      <td>0.158129</td>\n",
              "      <td>0.184570</td>\n",
              "      <td>0.106592</td>\n",
              "      <td>0.150471</td>\n",
              "      <td>0.178309</td>\n",
              "      <td>0.134275</td>\n",
              "      <td>0.118235</td>\n",
              "      <td>0.238073</td>\n",
              "      <td>0.142037</td>\n",
              "      <td>0.457156</td>\n",
              "      <td>0.257632</td>\n",
              "      <td>1.671738</td>\n",
              "      <td>2.004605</td>\n",
              "      <td>0.109749</td>\n",
              "      <td>1.009883</td>\n",
              "      <td>0.849270</td>\n",
              "      <td>0.200404</td>\n",
              "      <td>0.106592</td>\n",
              "      <td>0.104315</td>\n",
              "      <td>0.441581</td>\n",
              "      <td>1.743610</td>\n",
              "      <td>Control</td>\n",
              "      <td>Memantine</td>\n",
              "      <td>C/S</td>\n",
              "      <td>c-CS-m</td>\n",
              "    </tr>\n",
              "    <tr>\n",
              "      <th>2</th>\n",
              "      <td>0.509183</td>\n",
              "      <td>0.730247</td>\n",
              "      <td>0.418309</td>\n",
              "      <td>2.687201</td>\n",
              "      <td>5.622059</td>\n",
              "      <td>0.209011</td>\n",
              "      <td>0.175722</td>\n",
              "      <td>2.283337</td>\n",
              "      <td>0.230247</td>\n",
              "      <td>1.561316</td>\n",
              "      <td>0.677348</td>\n",
              "      <td>0.291276</td>\n",
              "      <td>0.381002</td>\n",
              "      <td>0.281710</td>\n",
              "      <td>1.003635</td>\n",
              "      <td>0.602449</td>\n",
              "      <td>1.731873</td>\n",
              "      <td>2.017984</td>\n",
              "      <td>0.467668</td>\n",
              "      <td>0.814329</td>\n",
              "      <td>0.399847</td>\n",
              "      <td>0.368089</td>\n",
              "      <td>0.173905</td>\n",
              "      <td>1.765544</td>\n",
              "      <td>3.571456</td>\n",
              "      <td>1.501244</td>\n",
              "      <td>0.259614</td>\n",
              "      <td>0.311747</td>\n",
              "      <td>0.785154</td>\n",
              "      <td>0.160895</td>\n",
              "      <td>0.423187</td>\n",
              "      <td>2.944136</td>\n",
              "      <td>0.343696</td>\n",
              "      <td>0.425005</td>\n",
              "      <td>0.324852</td>\n",
              "      <td>0.757031</td>\n",
              "      <td>0.543620</td>\n",
              "      <td>0.404630</td>\n",
              "      <td>0.552994</td>\n",
              "      <td>0.363880</td>\n",
              "      <td>0.313086</td>\n",
              "      <td>0.447197</td>\n",
              "      <td>0.256648</td>\n",
              "      <td>0.184388</td>\n",
              "      <td>0.856166</td>\n",
              "      <td>0.200737</td>\n",
              "      <td>1.524364</td>\n",
              "      <td>0.301881</td>\n",
              "      <td>0.386087</td>\n",
              "      <td>1.279600</td>\n",
              "      <td>0.185456</td>\n",
              "      <td>0.148696</td>\n",
              "      <td>0.190532</td>\n",
              "      <td>0.108303</td>\n",
              "      <td>0.145330</td>\n",
              "      <td>0.176213</td>\n",
              "      <td>0.132560</td>\n",
              "      <td>0.117760</td>\n",
              "      <td>0.244817</td>\n",
              "      <td>0.142445</td>\n",
              "      <td>0.510472</td>\n",
              "      <td>0.255343</td>\n",
              "      <td>1.663550</td>\n",
              "      <td>2.016831</td>\n",
              "      <td>0.108196</td>\n",
              "      <td>0.996848</td>\n",
              "      <td>0.846709</td>\n",
              "      <td>0.193685</td>\n",
              "      <td>0.108303</td>\n",
              "      <td>0.106219</td>\n",
              "      <td>0.435777</td>\n",
              "      <td>1.926427</td>\n",
              "      <td>Control</td>\n",
              "      <td>Memantine</td>\n",
              "      <td>C/S</td>\n",
              "      <td>c-CS-m</td>\n",
              "    </tr>\n",
              "    <tr>\n",
              "      <th>3</th>\n",
              "      <td>0.442107</td>\n",
              "      <td>0.617076</td>\n",
              "      <td>0.358626</td>\n",
              "      <td>2.466947</td>\n",
              "      <td>4.979503</td>\n",
              "      <td>0.222886</td>\n",
              "      <td>0.176463</td>\n",
              "      <td>2.152301</td>\n",
              "      <td>0.207004</td>\n",
              "      <td>1.595086</td>\n",
              "      <td>0.583277</td>\n",
              "      <td>0.296729</td>\n",
              "      <td>0.377087</td>\n",
              "      <td>0.313832</td>\n",
              "      <td>0.875390</td>\n",
              "      <td>0.520293</td>\n",
              "      <td>1.566852</td>\n",
              "      <td>2.132754</td>\n",
              "      <td>0.477671</td>\n",
              "      <td>0.727705</td>\n",
              "      <td>0.385639</td>\n",
              "      <td>0.362970</td>\n",
              "      <td>0.179449</td>\n",
              "      <td>1.286277</td>\n",
              "      <td>2.970137</td>\n",
              "      <td>1.419710</td>\n",
              "      <td>0.259536</td>\n",
              "      <td>0.279218</td>\n",
              "      <td>0.734492</td>\n",
              "      <td>0.162210</td>\n",
              "      <td>0.410615</td>\n",
              "      <td>2.500204</td>\n",
              "      <td>0.344509</td>\n",
              "      <td>0.429211</td>\n",
              "      <td>0.330121</td>\n",
              "      <td>0.746980</td>\n",
              "      <td>0.546763</td>\n",
              "      <td>0.386860</td>\n",
              "      <td>0.547849</td>\n",
              "      <td>0.366771</td>\n",
              "      <td>0.328492</td>\n",
              "      <td>0.442650</td>\n",
              "      <td>0.398534</td>\n",
              "      <td>0.161768</td>\n",
              "      <td>0.760234</td>\n",
              "      <td>0.184169</td>\n",
              "      <td>1.612382</td>\n",
              "      <td>0.296382</td>\n",
              "      <td>0.290680</td>\n",
              "      <td>1.198765</td>\n",
              "      <td>0.159799</td>\n",
              "      <td>0.166112</td>\n",
              "      <td>0.185323</td>\n",
              "      <td>0.103184</td>\n",
              "      <td>0.140656</td>\n",
              "      <td>0.163804</td>\n",
              "      <td>0.123210</td>\n",
              "      <td>0.117439</td>\n",
              "      <td>0.234947</td>\n",
              "      <td>0.145068</td>\n",
              "      <td>0.430996</td>\n",
              "      <td>0.251103</td>\n",
              "      <td>1.484624</td>\n",
              "      <td>1.957233</td>\n",
              "      <td>0.119883</td>\n",
              "      <td>0.990225</td>\n",
              "      <td>0.833277</td>\n",
              "      <td>0.192112</td>\n",
              "      <td>0.103184</td>\n",
              "      <td>0.111262</td>\n",
              "      <td>0.391691</td>\n",
              "      <td>1.700563</td>\n",
              "      <td>Control</td>\n",
              "      <td>Memantine</td>\n",
              "      <td>C/S</td>\n",
              "      <td>c-CS-m</td>\n",
              "    </tr>\n",
              "    <tr>\n",
              "      <th>4</th>\n",
              "      <td>0.434940</td>\n",
              "      <td>0.617430</td>\n",
              "      <td>0.358802</td>\n",
              "      <td>2.365785</td>\n",
              "      <td>4.718679</td>\n",
              "      <td>0.213106</td>\n",
              "      <td>0.173627</td>\n",
              "      <td>2.134014</td>\n",
              "      <td>0.192158</td>\n",
              "      <td>1.504230</td>\n",
              "      <td>0.550960</td>\n",
              "      <td>0.286961</td>\n",
              "      <td>0.363502</td>\n",
              "      <td>0.277964</td>\n",
              "      <td>0.864912</td>\n",
              "      <td>0.507990</td>\n",
              "      <td>1.480059</td>\n",
              "      <td>2.013697</td>\n",
              "      <td>0.483416</td>\n",
              "      <td>0.687794</td>\n",
              "      <td>0.367531</td>\n",
              "      <td>0.355311</td>\n",
              "      <td>0.174836</td>\n",
              "      <td>1.324695</td>\n",
              "      <td>2.896334</td>\n",
              "      <td>1.359876</td>\n",
              "      <td>0.250705</td>\n",
              "      <td>0.273667</td>\n",
              "      <td>0.702699</td>\n",
              "      <td>0.154827</td>\n",
              "      <td>0.398550</td>\n",
              "      <td>2.456560</td>\n",
              "      <td>0.329126</td>\n",
              "      <td>0.408755</td>\n",
              "      <td>0.313415</td>\n",
              "      <td>0.691956</td>\n",
              "      <td>0.536860</td>\n",
              "      <td>0.360816</td>\n",
              "      <td>0.512824</td>\n",
              "      <td>0.351551</td>\n",
              "      <td>0.312206</td>\n",
              "      <td>0.419095</td>\n",
              "      <td>0.393447</td>\n",
              "      <td>0.160200</td>\n",
              "      <td>0.768113</td>\n",
              "      <td>0.185718</td>\n",
              "      <td>1.645807</td>\n",
              "      <td>0.296829</td>\n",
              "      <td>0.309345</td>\n",
              "      <td>1.206995</td>\n",
              "      <td>0.164650</td>\n",
              "      <td>0.160687</td>\n",
              "      <td>0.188221</td>\n",
              "      <td>0.104784</td>\n",
              "      <td>0.141983</td>\n",
              "      <td>0.167710</td>\n",
              "      <td>0.136838</td>\n",
              "      <td>0.116048</td>\n",
              "      <td>0.255528</td>\n",
              "      <td>0.140871</td>\n",
              "      <td>0.481227</td>\n",
              "      <td>0.251773</td>\n",
              "      <td>1.534835</td>\n",
              "      <td>2.009109</td>\n",
              "      <td>0.119524</td>\n",
              "      <td>0.997775</td>\n",
              "      <td>0.878668</td>\n",
              "      <td>0.205604</td>\n",
              "      <td>0.104784</td>\n",
              "      <td>0.110694</td>\n",
              "      <td>0.434154</td>\n",
              "      <td>1.839730</td>\n",
              "      <td>Control</td>\n",
              "      <td>Memantine</td>\n",
              "      <td>C/S</td>\n",
              "      <td>c-CS-m</td>\n",
              "    </tr>\n",
              "  </tbody>\n",
              "</table>\n",
              "</div>"
            ],
            "text/plain": [
              "   DYRK1A_N   ITSN1_N    BDNF_N     NR1_N  ...  Genotype  Treatment  Behavior   class\n",
              "0  0.503644  0.747193  0.430175  2.816329  ...   Control  Memantine       C/S  c-CS-m\n",
              "1  0.514617  0.689064  0.411770  2.789514  ...   Control  Memantine       C/S  c-CS-m\n",
              "2  0.509183  0.730247  0.418309  2.687201  ...   Control  Memantine       C/S  c-CS-m\n",
              "3  0.442107  0.617076  0.358626  2.466947  ...   Control  Memantine       C/S  c-CS-m\n",
              "4  0.434940  0.617430  0.358802  2.365785  ...   Control  Memantine       C/S  c-CS-m\n",
              "\n",
              "[5 rows x 76 columns]"
            ]
          },
          "metadata": {
            "tags": []
          },
          "execution_count": 9
        }
      ]
    },
    {
      "cell_type": "code",
      "metadata": {
        "id": "7TIVEn-6Er9Z",
        "outputId": "d53e8e12-9e7b-41aa-ed3f-a28b86ec57ed",
        "colab": {
          "base_uri": "https://localhost:8080/",
          "height": 34
        }
      },
      "source": [
        "df.select_dtypes(exclude=['int', 'float']).columns"
      ],
      "execution_count": 10,
      "outputs": [
        {
          "output_type": "execute_result",
          "data": {
            "text/plain": [
              "Index(['Genotype', 'Treatment', 'Behavior', 'class'], dtype='object')"
            ]
          },
          "metadata": {
            "tags": []
          },
          "execution_count": 10
        }
      ]
    },
    {
      "cell_type": "code",
      "metadata": {
        "id": "OGfawJZMSz1m",
        "outputId": "0ad89c30-a877-42bc-fe98-d5cda39d9911",
        "colab": {
          "base_uri": "https://localhost:8080/",
          "height": 34
        }
      },
      "source": [
        "df.shape"
      ],
      "execution_count": 14,
      "outputs": [
        {
          "output_type": "execute_result",
          "data": {
            "text/plain": [
              "(972, 76)"
            ]
          },
          "metadata": {
            "tags": []
          },
          "execution_count": 14
        }
      ]
    },
    {
      "cell_type": "markdown",
      "metadata": {
        "id": "QiLHVHVuE_4u"
      },
      "source": [
        "В нашем датасете есть 4 колонки с категориальными данными: 'Genotype', 'Treatment', 'Behavior', 'class'\n",
        "Первые три переведем в числовое представление с помощью OneHotEncoder, метки класса просто занумеруем с помощью LabelEncoder "
      ]
    },
    {
      "cell_type": "code",
      "metadata": {
        "id": "MPUIjL4OFc__"
      },
      "source": [
        "from sklearn.preprocessing import LabelEncoder\n",
        "df = pd.get_dummies(df, columns=['Genotype', 'Treatment', 'Behavior'])\n",
        "enc = LabelEncoder()\n",
        "df['class'] = enc.fit_transform(df['class'])"
      ],
      "execution_count": 15,
      "outputs": []
    },
    {
      "cell_type": "code",
      "metadata": {
        "id": "ardQ_LPvFKga",
        "outputId": "a9b3c61a-8960-46f3-a364-0a074c3f5f39",
        "colab": {
          "base_uri": "https://localhost:8080/",
          "height": 170
        }
      },
      "source": [
        "df[\"class\"].value_counts()"
      ],
      "execution_count": 17,
      "outputs": [
        {
          "output_type": "execute_result",
          "data": {
            "text/plain": [
              "2    150\n",
              "6    135\n",
              "4    120\n",
              "3    120\n",
              "1    120\n",
              "0    120\n",
              "7    117\n",
              "5     90\n",
              "Name: class, dtype: int64"
            ]
          },
          "metadata": {
            "tags": []
          },
          "execution_count": 17
        }
      ]
    },
    {
      "cell_type": "markdown",
      "metadata": {
        "id": "ISwyQyccT5U8"
      },
      "source": [
        "Количество элементов выборки по классам не совсем сбалансированно."
      ]
    },
    {
      "cell_type": "code",
      "metadata": {
        "id": "EmxuUitNFc7D"
      },
      "source": [
        "import matplotlib.pyplot as plt\n",
        "import seaborn as sns\n",
        "import plotly.offline as py\n",
        "#py.init_notebook_mode(connected=True)\n",
        "import plotly.graph_objs as go\n",
        "import plotly.tools as tls\n",
        "import warnings"
      ],
      "execution_count": 18,
      "outputs": []
    },
    {
      "cell_type": "code",
      "metadata": {
        "id": "rLOCESOOeuUD",
        "outputId": "0653de31-ab4b-4fed-d6dd-ba8cb4746490",
        "colab": {
          "base_uri": "https://localhost:8080/",
          "height": 419
        }
      },
      "source": [
        ""
      ],
      "execution_count": 22,
      "outputs": [
        {
          "output_type": "execute_result",
          "data": {
            "text/html": [
              "<div>\n",
              "<style scoped>\n",
              "    .dataframe tbody tr th:only-of-type {\n",
              "        vertical-align: middle;\n",
              "    }\n",
              "\n",
              "    .dataframe tbody tr th {\n",
              "        vertical-align: top;\n",
              "    }\n",
              "\n",
              "    .dataframe thead th {\n",
              "        text-align: right;\n",
              "    }\n",
              "</style>\n",
              "<table border=\"1\" class=\"dataframe\">\n",
              "  <thead>\n",
              "    <tr style=\"text-align: right;\">\n",
              "      <th></th>\n",
              "      <th>DYRK1A_N</th>\n",
              "      <th>ITSN1_N</th>\n",
              "      <th>BDNF_N</th>\n",
              "      <th>NR1_N</th>\n",
              "    </tr>\n",
              "  </thead>\n",
              "  <tbody>\n",
              "    <tr>\n",
              "      <th>0</th>\n",
              "      <td>0.503644</td>\n",
              "      <td>0.747193</td>\n",
              "      <td>0.430175</td>\n",
              "      <td>2.816329</td>\n",
              "    </tr>\n",
              "    <tr>\n",
              "      <th>1</th>\n",
              "      <td>0.514617</td>\n",
              "      <td>0.689064</td>\n",
              "      <td>0.411770</td>\n",
              "      <td>2.789514</td>\n",
              "    </tr>\n",
              "    <tr>\n",
              "      <th>2</th>\n",
              "      <td>0.509183</td>\n",
              "      <td>0.730247</td>\n",
              "      <td>0.418309</td>\n",
              "      <td>2.687201</td>\n",
              "    </tr>\n",
              "    <tr>\n",
              "      <th>3</th>\n",
              "      <td>0.442107</td>\n",
              "      <td>0.617076</td>\n",
              "      <td>0.358626</td>\n",
              "      <td>2.466947</td>\n",
              "    </tr>\n",
              "    <tr>\n",
              "      <th>4</th>\n",
              "      <td>0.434940</td>\n",
              "      <td>0.617430</td>\n",
              "      <td>0.358802</td>\n",
              "      <td>2.365785</td>\n",
              "    </tr>\n",
              "    <tr>\n",
              "      <th>...</th>\n",
              "      <td>...</td>\n",
              "      <td>...</td>\n",
              "      <td>...</td>\n",
              "      <td>...</td>\n",
              "    </tr>\n",
              "    <tr>\n",
              "      <th>1075</th>\n",
              "      <td>0.254860</td>\n",
              "      <td>0.463591</td>\n",
              "      <td>0.254860</td>\n",
              "      <td>2.092082</td>\n",
              "    </tr>\n",
              "    <tr>\n",
              "      <th>1076</th>\n",
              "      <td>0.272198</td>\n",
              "      <td>0.474163</td>\n",
              "      <td>0.251638</td>\n",
              "      <td>2.161390</td>\n",
              "    </tr>\n",
              "    <tr>\n",
              "      <th>1077</th>\n",
              "      <td>0.228700</td>\n",
              "      <td>0.395179</td>\n",
              "      <td>0.234118</td>\n",
              "      <td>1.733184</td>\n",
              "    </tr>\n",
              "    <tr>\n",
              "      <th>1078</th>\n",
              "      <td>0.221242</td>\n",
              "      <td>0.412894</td>\n",
              "      <td>0.243974</td>\n",
              "      <td>1.876347</td>\n",
              "    </tr>\n",
              "    <tr>\n",
              "      <th>1079</th>\n",
              "      <td>0.302626</td>\n",
              "      <td>0.461059</td>\n",
              "      <td>0.256564</td>\n",
              "      <td>2.092790</td>\n",
              "    </tr>\n",
              "  </tbody>\n",
              "</table>\n",
              "<p>972 rows × 4 columns</p>\n",
              "</div>"
            ],
            "text/plain": [
              "      DYRK1A_N   ITSN1_N    BDNF_N     NR1_N\n",
              "0     0.503644  0.747193  0.430175  2.816329\n",
              "1     0.514617  0.689064  0.411770  2.789514\n",
              "2     0.509183  0.730247  0.418309  2.687201\n",
              "3     0.442107  0.617076  0.358626  2.466947\n",
              "4     0.434940  0.617430  0.358802  2.365785\n",
              "...        ...       ...       ...       ...\n",
              "1075  0.254860  0.463591  0.254860  2.092082\n",
              "1076  0.272198  0.474163  0.251638  2.161390\n",
              "1077  0.228700  0.395179  0.234118  1.733184\n",
              "1078  0.221242  0.412894  0.243974  1.876347\n",
              "1079  0.302626  0.461059  0.256564  2.092790\n",
              "\n",
              "[972 rows x 4 columns]"
            ]
          },
          "metadata": {
            "tags": []
          },
          "execution_count": 22
        }
      ]
    },
    {
      "cell_type": "code",
      "metadata": {
        "id": "HcPLdoNXfHv7"
      },
      "source": [
        ""
      ],
      "execution_count": null,
      "outputs": []
    },
    {
      "cell_type": "code",
      "metadata": {
        "id": "PC8hsCRodVCl",
        "outputId": "4db9a9a2-70e5-4c0e-beb8-1ff8aa297865",
        "colab": {
          "base_uri": "https://localhost:8080/",
          "height": 1000
        }
      },
      "source": [
        "plt.figure(figsize = (20,20))\n",
        "corr = df[df.columns[[i for i in range(20)]]].corr()\n",
        "sns.heatmap(corr, annot = True)"
      ],
      "execution_count": 33,
      "outputs": [
        {
          "output_type": "execute_result",
          "data": {
            "text/plain": [
              "<matplotlib.axes._subplots.AxesSubplot at 0x7feb38bf0b00>"
            ]
          },
          "metadata": {
            "tags": []
          },
          "execution_count": 33
        },
        {
          "output_type": "display_data",
          "data": {
            "image/png": "[encoded data removed]",
            "text/plain": [
              "<Figure size 1440x1440 with 2 Axes>"
            ]
          },
          "metadata": {
            "tags": [],
            "needs_background": "light"
          }
        }
      ]
    },
    {
      "cell_type": "code",
      "metadata": {
        "id": "6e3hXrGmfw0r"
      },
      "source": [
        "sns.pairplot(df[df.columns[[i for i in range(4)]]], hue='class')"
      ],
      "execution_count": null,
      "outputs": []
    },
    {
      "cell_type": "code",
      "metadata": {
        "id": "Mn88glILgmdK",
        "outputId": "666fa58b-f5ef-465f-8572-b15ed7434e3b",
        "colab": {
          "base_uri": "https://localhost:8080/",
          "height": 400
        }
      },
      "source": [
        "sns.catplot(x=\"class\", y=\"DYRK1A_N\", kind=\"box\", data=df)"
      ],
      "execution_count": 39,
      "outputs": [
        {
          "output_type": "execute_result",
          "data": {
            "text/plain": [
              "<seaborn.axisgrid.FacetGrid at 0x7feb4b2b7128>"
            ]
          },
          "metadata": {
            "tags": []
          },
          "execution_count": 39
        },
        {
          "output_type": "display_data",
          "data": {
            "image/png": "[encoded data removed]",
            "text/plain": [
              "<Figure size 360x360 with 1 Axes>"
            ]
          },
          "metadata": {
            "tags": [],
            "needs_background": "light"
          }
        }
      ]
    },
    {
      "cell_type": "code",
      "metadata": {
        "id": "VaUWAoqrhYlz",
        "outputId": "f566d26d-a8b1-4b6c-81f3-6e9ea728f11d",
        "colab": {
          "base_uri": "https://localhost:8080/",
          "height": 392,
          "referenced_widgets": [
            "f2a53c5dda444e2e81e53f6072c68230",
            "8b607ce970d64382bbb4760c1c9dfaef",
            "d3018ef4797b488889407e500ede84d4"
          ]
        }
      },
      "source": [
        "import ipywidgets\n",
        "from IPython.display import clear_output\n",
        "button = ipywidgets.Button(description=\"Button\")\n",
        "out = ipywidgets.Output()\n",
        "\n",
        "def on_button_clicked(b): \n",
        "    i = b \n",
        "    clear_output(True)\n",
        "    plt.plot([i,2],[2,1])\n",
        "    plt.show()\n",
        "    i = i + 1\n",
        "    if i==5:\n",
        "      i = 0\n",
        "    #with out:\n",
        "        \n",
        "\n",
        "button.on_click(on_button_clicked)\n",
        "\n",
        "display(button)\n",
        "i = 0\n",
        "#out"
      ],
      "execution_count": 51,
      "outputs": [
        {
          "output_type": "display_data",
          "data": {
            "image/png": "[encoded data removed]",
            "text/plain": [
              "<Figure size 432x288 with 1 Axes>"
            ]
          },
          "metadata": {
            "tags": [],
            "needs_background": "light"
          }
        },
        {
          "output_type": "display_data",
          "data": {
            "application/vnd.jupyter.widget-view+json": {
              "model_id": "f2a53c5dda444e2e81e53f6072c68230",
              "version_minor": 0,
              "version_major": 2
            },
            "text/plain": [
              "Button(description='Button', style=ButtonStyle())"
            ]
          },
          "metadata": {
            "tags": []
          }
        },
        {
          "output_type": "error",
          "ename": "TypeError",
          "evalue": "ignored",
          "traceback": [
            "\u001b[0;31m---------------------------------------------------------------------------\u001b[0m",
            "\u001b[0;31mTypeError\u001b[0m                                 Traceback (most recent call last)",
            "\u001b[0;31mTypeError\u001b[0m: 'NoneType' object is not callable"
          ]
        }
      ]
    },
    {
      "cell_type": "code",
      "metadata": {
        "id": "mBFnLqUwkLou",
        "outputId": "a14c162a-73cb-44ba-8cca-12e17e662c68",
        "colab": {
          "base_uri": "https://localhost:8080/",
          "height": 35
        }
      },
      "source": [
        "df.columns[1]"
      ],
      "execution_count": 52,
      "outputs": [
        {
          "output_type": "execute_result",
          "data": {
            "application/vnd.google.colaboratory.intrinsic+json": {
              "type": "string"
            },
            "text/plain": [
              "'ITSN1_N'"
            ]
          },
          "metadata": {
            "tags": []
          },
          "execution_count": 52
        }
      ]
    },
    {
      "cell_type": "code",
      "metadata": {
        "id": "1kcPVeGWj7lv"
      },
      "source": [
        "def draw_box_plot_per_class(col_i):\n",
        "  clear_output()\n",
        "  sns.catplot(x=\"class\", y=df.columns[col_i], kind=\"box\", data=df)\n"
      ],
      "execution_count": 81,
      "outputs": []
    },
    {
      "cell_type": "code",
      "metadata": {
        "id": "1kvvqtcPoPSw",
        "outputId": "17324c8c-8735-4c28-aca2-787cee99c57d",
        "colab": {
          "base_uri": "https://localhost:8080/",
          "height": 34
        }
      },
      "source": [
        "df.columns[70:72]"
      ],
      "execution_count": 73,
      "outputs": [
        {
          "output_type": "execute_result",
          "data": {
            "text/plain": [
              "Index(['SYP_N', 'CaNA_N'], dtype='object')"
            ]
          },
          "metadata": {
            "tags": []
          },
          "execution_count": 73
        }
      ]
    },
    {
      "cell_type": "code",
      "metadata": {
        "id": "WbYO3wSglBAr",
        "outputId": "dc50ca67-bb1e-4e1e-dd04-4b321bb592f7",
        "colab": {
          "base_uri": "https://localhost:8080/",
          "height": 415,
          "referenced_widgets": [
            "1ecf8cf4a74b4b0db1b0168a491650cf",
            "e6e680151ee3456f9b68d6f10f98d31c",
            "6b8f243334684110b640a67a0750614c",
            "ae43e6de5a1f4a499dcd1a6d121b2c36",
            "54033f28239b46ebb3d4ba1b279a8dc1",
            "380f03eca09f439785993b243dd0d6aa",
            "90b1e46da980458dab191356fbea995f"
          ]
        }
      },
      "source": [
        "ipywidgets.interact(draw_box_plot_per_class, col_i = [i for i in range(72)])"
      ],
      "execution_count": 83,
      "outputs": [
        {
          "output_type": "display_data",
          "data": {
            "application/vnd.jupyter.widget-view+json": {
              "model_id": "1ecf8cf4a74b4b0db1b0168a491650cf",
              "version_minor": 0,
              "version_major": 2
            },
            "text/plain": [
              "interactive(children=(Dropdown(description='col_i', options=(0, 1, 2, 3, 4, 5, 6, 7, 8, 9, 10, 11, 12, 13, 14,…"
            ]
          },
          "metadata": {
            "tags": []
          }
        }
      ]
    },
    {
      "cell_type": "code",
      "metadata": {
        "id": "djgfBfbvLt3m",
        "outputId": "4ef945da-2601-4836-e6d0-25ec218498dc",
        "colab": {
          "base_uri": "https://localhost:8080/",
          "height": 102
        }
      },
      "source": [
        "# Load the iris dataset\n",
        "iris = datasets.load_iris()\n",
        "\n",
        "# Create our X and y data\n",
        "X = iris.data\n",
        "y = iris.target\n",
        "y[:5]\n",
        "X[:5]"
      ],
      "execution_count": null,
      "outputs": [
        {
          "output_type": "execute_result",
          "data": {
            "text/plain": [
              "array([[5.1, 3.5, 1.4, 0.2],\n",
              "       [4.9, 3. , 1.4, 0.2],\n",
              "       [4.7, 3.2, 1.3, 0.2],\n",
              "       [4.6, 3.1, 1.5, 0.2],\n",
              "       [5. , 3.6, 1.4, 0.2]])"
            ]
          },
          "metadata": {
            "tags": []
          },
          "execution_count": 2
        }
      ]
    },
    {
      "cell_type": "code",
      "metadata": {
        "id": "7XCTSy3FLt-R"
      },
      "source": [
        "# Split the data into 70% training data and 30% test data\n",
        "X_train, X_test, y_train, y_test = train_test_split(X, y, test_size=0.3)"
      ],
      "execution_count": null,
      "outputs": []
    },
    {
      "cell_type": "code",
      "metadata": {
        "id": "CPRMZCYhLuBs",
        "outputId": "8e4d18ef-c0ef-4d0f-8bca-ea7db64360e4",
        "colab": {
          "base_uri": "https://localhost:8080/",
          "height": 34
        }
      },
      "source": [
        "# Train the scaler, which standarizes all the features to have mean=0 and unit variance\n",
        "sc = StandardScaler()\n",
        "sc.fit(X_train)"
      ],
      "execution_count": null,
      "outputs": [
        {
          "output_type": "execute_result",
          "data": {
            "text/plain": [
              "StandardScaler(copy=True, with_mean=True, with_std=True)"
            ]
          },
          "metadata": {
            "tags": []
          },
          "execution_count": 4
        }
      ]
    },
    {
      "cell_type": "code",
      "metadata": {
        "id": "03DQB5-xLuEl"
      },
      "source": [
        "# Apply the scaler to the X training data\n",
        "X_train_std = sc.transform(X_train)\n",
        "\n",
        "# Apply the SAME scaler to the X test data\n",
        "X_test_std = sc.transform(X_test)"
      ],
      "execution_count": null,
      "outputs": []
    },
    {
      "cell_type": "code",
      "metadata": {
        "id": "bPlqQyToLuKg",
        "outputId": "546b1169-45b8-4152-f998-cb15e0e8bc88",
        "colab": {
          "base_uri": "https://localhost:8080/",
          "height": 85
        }
      },
      "source": [
        "# Create a perceptron object with the parameters: 40 iterations (epochs) over the data, and a learning rate of 0.1\n",
        "ppn = Perceptron( max_iter = 350,eta0=0.00001,tol=None, penalty='l2')\n",
        "\n",
        "# Train the perceptron\n",
        "ppn.fit(X_train_std, y_train)"
      ],
      "execution_count": null,
      "outputs": [
        {
          "output_type": "execute_result",
          "data": {
            "text/plain": [
              "Perceptron(alpha=0.0001, class_weight=None, early_stopping=False, eta0=1e-05,\n",
              "           fit_intercept=True, max_iter=350, n_iter_no_change=5, n_jobs=None,\n",
              "           penalty='l2', random_state=0, shuffle=True, tol=None,\n",
              "           validation_fraction=0.1, verbose=0, warm_start=False)"
            ]
          },
          "metadata": {
            "tags": []
          },
          "execution_count": 148
        }
      ]
    },
    {
      "cell_type": "code",
      "metadata": {
        "id": "WIj2FlspLuIR",
        "outputId": "4a8cf5ee-880a-4b3f-cd98-9057cbe1fe0d",
        "colab": {
          "base_uri": "https://localhost:8080/",
          "height": 34
        }
      },
      "source": [
        "# Apply the trained perceptron on the X data to make predicts for the y test data\n",
        "y_pred = ppn.predict(X_test_std)\n",
        "# View the accuracy of the model, which is: 1 - (observations predicted wrong / total observations)\n",
        "print('Accuracy: %.2f' % accuracy_score(y_test, y_pred))"
      ],
      "execution_count": null,
      "outputs": [
        {
          "output_type": "stream",
          "text": [
            "Accuracy: 0.96\n"
          ],
          "name": "stdout"
        }
      ]
    },
    {
      "cell_type": "code",
      "metadata": {
        "id": "B26z-79nLt8T"
      },
      "source": [
        ""
      ],
      "execution_count": null,
      "outputs": []
    },
    {
      "cell_type": "code",
      "metadata": {
        "id": "ErZ_qV8oMOTw",
        "outputId": "7811f3fd-4603-4173-d02b-98b55ee555f9",
        "colab": {
          "base_uri": "https://localhost:8080/",
          "height": 34
        }
      },
      "source": [
        "from sklearn.linear_model import LogisticRegression\n",
        "clf = LogisticRegression(random_state=0).fit(X_train_std, y_train)\n",
        "y_pred = clf.predict(X_test_std)\n",
        "print('Accuracy: %.2f' % accuracy_score(y_test, y_pred))"
      ],
      "execution_count": null,
      "outputs": [
        {
          "output_type": "stream",
          "text": [
            "Accuracy: 0.98\n"
          ],
          "name": "stdout"
        }
      ]
    },
    {
      "cell_type": "code",
      "metadata": {
        "id": "fAA8JXgrMOXU"
      },
      "source": [
        "from keras.models import Sequential\n",
        "from keras.layers import Dense, Activation\n",
        "model = Sequential()\n",
        "model.add(Dense(3, input_shape=(4,),activation='softmax'))\n",
        "#model.add(Activation('softmax'))"
      ],
      "execution_count": null,
      "outputs": []
    },
    {
      "cell_type": "code",
      "metadata": {
        "id": "2cnRiho9bSQO"
      },
      "source": [
        "from keras.optimizers import SGD"
      ],
      "execution_count": null,
      "outputs": []
    },
    {
      "cell_type": "code",
      "metadata": {
        "id": "9UwWwWVqMOaa"
      },
      "source": [
        "\n",
        "sgd = SGD(learning_rate=0.01)\n",
        "model.compile(loss='categorical_crossentropy',\n",
        "              optimizer=sgd,\n",
        "              metrics=['accuracy'])"
      ],
      "execution_count": null,
      "outputs": []
    },
    {
      "cell_type": "code",
      "metadata": {
        "id": "kKLrihcpTz4-"
      },
      "source": [
        "from sklearn.preprocessing import OneHotEncoder\n",
        "encoder = OneHotEncoder(sparse=False)\n",
        "y = encoder.fit_transform( y_train.reshape(-1, 1))"
      ],
      "execution_count": null,
      "outputs": []
    },
    {
      "cell_type": "code",
      "metadata": {
        "id": "qZXIbijCSqA7"
      },
      "source": [
        "y"
      ],
      "execution_count": null,
      "outputs": []
    },
    {
      "cell_type": "code",
      "metadata": {
        "id": "JixLZOdVN2Ou",
        "outputId": "a54c0bd1-0ad3-4322-8272-077b1f246651",
        "colab": {
          "base_uri": "https://localhost:8080/",
          "height": 34
        }
      },
      "source": [
        "X_train_std.shape"
      ],
      "execution_count": null,
      "outputs": [
        {
          "output_type": "execute_result",
          "data": {
            "text/plain": [
              "(105, 4)"
            ]
          },
          "metadata": {
            "tags": []
          },
          "execution_count": 37
        }
      ]
    },
    {
      "cell_type": "code",
      "metadata": {
        "id": "bAG4cMBIMOgQ",
        "outputId": "ff3624b2-31a0-46d7-a18c-15c9038e98c2",
        "colab": {
          "base_uri": "https://localhost:8080/",
          "height": 1000
        }
      },
      "source": [
        "model.fit(X_train_std,y,epochs=200, validation_split=0.1)\n",
        "\n",
        "y_pred = model.predict_classes(X_test_std)"
      ],
      "execution_count": null,
      "outputs": [
        {
          "output_type": "stream",
          "text": [
            "Epoch 1/200\n",
            "3/3 [==============================] - 0s 56ms/step - loss: 1.4387 - accuracy: 0.1489 - val_loss: 1.3915 - val_accuracy: 0.0909\n",
            "Epoch 2/200\n",
            "3/3 [==============================] - 0s 7ms/step - loss: 1.3936 - accuracy: 0.1596 - val_loss: 1.3476 - val_accuracy: 0.0909\n",
            "Epoch 3/200\n",
            "3/3 [==============================] - 0s 8ms/step - loss: 1.3508 - accuracy: 0.1915 - val_loss: 1.3058 - val_accuracy: 0.0909\n",
            "Epoch 4/200\n",
            "3/3 [==============================] - 0s 7ms/step - loss: 1.3105 - accuracy: 0.2021 - val_loss: 1.2660 - val_accuracy: 0.1818\n",
            "Epoch 5/200\n",
            "3/3 [==============================] - 0s 7ms/step - loss: 1.2720 - accuracy: 0.2340 - val_loss: 1.2283 - val_accuracy: 0.1818\n",
            "Epoch 6/200\n",
            "3/3 [==============================] - 0s 8ms/step - loss: 1.2351 - accuracy: 0.2553 - val_loss: 1.1924 - val_accuracy: 0.1818\n",
            "Epoch 7/200\n",
            "3/3 [==============================] - 0s 7ms/step - loss: 1.2006 - accuracy: 0.2660 - val_loss: 1.1583 - val_accuracy: 0.2727\n",
            "Epoch 8/200\n",
            "3/3 [==============================] - 0s 8ms/step - loss: 1.1677 - accuracy: 0.3085 - val_loss: 1.1259 - val_accuracy: 0.2727\n",
            "Epoch 9/200\n",
            "3/3 [==============================] - 0s 9ms/step - loss: 1.1367 - accuracy: 0.3191 - val_loss: 1.0951 - val_accuracy: 0.2727\n",
            "Epoch 10/200\n",
            "3/3 [==============================] - 0s 8ms/step - loss: 1.1065 - accuracy: 0.3936 - val_loss: 1.0660 - val_accuracy: 0.2727\n",
            "Epoch 11/200\n",
            "3/3 [==============================] - 0s 7ms/step - loss: 1.0788 - accuracy: 0.4362 - val_loss: 1.0382 - val_accuracy: 0.2727\n",
            "Epoch 12/200\n",
            "3/3 [==============================] - 0s 8ms/step - loss: 1.0517 - accuracy: 0.4894 - val_loss: 1.0120 - val_accuracy: 0.3636\n",
            "Epoch 13/200\n",
            "3/3 [==============================] - 0s 8ms/step - loss: 1.0265 - accuracy: 0.5106 - val_loss: 0.9871 - val_accuracy: 0.3636\n",
            "Epoch 14/200\n",
            "3/3 [==============================] - 0s 7ms/step - loss: 1.0031 - accuracy: 0.5106 - val_loss: 0.9635 - val_accuracy: 0.4545\n",
            "Epoch 15/200\n",
            "3/3 [==============================] - 0s 8ms/step - loss: 0.9795 - accuracy: 0.5745 - val_loss: 0.9412 - val_accuracy: 0.4545\n",
            "Epoch 16/200\n",
            "3/3 [==============================] - 0s 7ms/step - loss: 0.9581 - accuracy: 0.5745 - val_loss: 0.9201 - val_accuracy: 0.4545\n",
            "Epoch 17/200\n",
            "3/3 [==============================] - 0s 9ms/step - loss: 0.9377 - accuracy: 0.5851 - val_loss: 0.8999 - val_accuracy: 0.5455\n",
            "Epoch 18/200\n",
            "3/3 [==============================] - 0s 8ms/step - loss: 0.9184 - accuracy: 0.5957 - val_loss: 0.8809 - val_accuracy: 0.5455\n",
            "Epoch 19/200\n",
            "3/3 [==============================] - 0s 8ms/step - loss: 0.8998 - accuracy: 0.6064 - val_loss: 0.8627 - val_accuracy: 0.5455\n",
            "Epoch 20/200\n",
            "3/3 [==============================] - 0s 7ms/step - loss: 0.8823 - accuracy: 0.6489 - val_loss: 0.8454 - val_accuracy: 0.5455\n",
            "Epoch 21/200\n",
            "3/3 [==============================] - 0s 8ms/step - loss: 0.8654 - accuracy: 0.6702 - val_loss: 0.8290 - val_accuracy: 0.5455\n",
            "Epoch 22/200\n",
            "3/3 [==============================] - 0s 8ms/step - loss: 0.8496 - accuracy: 0.6702 - val_loss: 0.8133 - val_accuracy: 0.5455\n",
            "Epoch 23/200\n",
            "3/3 [==============================] - 0s 7ms/step - loss: 0.8346 - accuracy: 0.6809 - val_loss: 0.7985 - val_accuracy: 0.6364\n",
            "Epoch 24/200\n",
            "3/3 [==============================] - 0s 8ms/step - loss: 0.8198 - accuracy: 0.6809 - val_loss: 0.7844 - val_accuracy: 0.6364\n",
            "Epoch 25/200\n",
            "3/3 [==============================] - 0s 9ms/step - loss: 0.8063 - accuracy: 0.6809 - val_loss: 0.7709 - val_accuracy: 0.6364\n",
            "Epoch 26/200\n",
            "3/3 [==============================] - 0s 8ms/step - loss: 0.7930 - accuracy: 0.6809 - val_loss: 0.7580 - val_accuracy: 0.6364\n",
            "Epoch 27/200\n",
            "3/3 [==============================] - 0s 7ms/step - loss: 0.7804 - accuracy: 0.6809 - val_loss: 0.7456 - val_accuracy: 0.6364\n",
            "Epoch 28/200\n",
            "3/3 [==============================] - 0s 7ms/step - loss: 0.7683 - accuracy: 0.6809 - val_loss: 0.7339 - val_accuracy: 0.7273\n",
            "Epoch 29/200\n",
            "3/3 [==============================] - 0s 7ms/step - loss: 0.7568 - accuracy: 0.6809 - val_loss: 0.7227 - val_accuracy: 0.8182\n",
            "Epoch 30/200\n",
            "3/3 [==============================] - 0s 9ms/step - loss: 0.7458 - accuracy: 0.7021 - val_loss: 0.7120 - val_accuracy: 0.8182\n",
            "Epoch 31/200\n",
            "3/3 [==============================] - 0s 7ms/step - loss: 0.7354 - accuracy: 0.7128 - val_loss: 0.7017 - val_accuracy: 0.8182\n",
            "Epoch 32/200\n",
            "3/3 [==============================] - 0s 7ms/step - loss: 0.7253 - accuracy: 0.7234 - val_loss: 0.6919 - val_accuracy: 0.8182\n",
            "Epoch 33/200\n",
            "3/3 [==============================] - 0s 7ms/step - loss: 0.7156 - accuracy: 0.7340 - val_loss: 0.6825 - val_accuracy: 0.8182\n",
            "Epoch 34/200\n",
            "3/3 [==============================] - 0s 7ms/step - loss: 0.7062 - accuracy: 0.7340 - val_loss: 0.6735 - val_accuracy: 0.8182\n",
            "Epoch 35/200\n",
            "3/3 [==============================] - 0s 9ms/step - loss: 0.6975 - accuracy: 0.7660 - val_loss: 0.6649 - val_accuracy: 0.8182\n",
            "Epoch 36/200\n",
            "3/3 [==============================] - 0s 9ms/step - loss: 0.6888 - accuracy: 0.7660 - val_loss: 0.6566 - val_accuracy: 0.8182\n",
            "Epoch 37/200\n",
            "3/3 [==============================] - 0s 8ms/step - loss: 0.6806 - accuracy: 0.7766 - val_loss: 0.6486 - val_accuracy: 0.8182\n",
            "Epoch 38/200\n",
            "3/3 [==============================] - 0s 9ms/step - loss: 0.6728 - accuracy: 0.7660 - val_loss: 0.6410 - val_accuracy: 0.8182\n",
            "Epoch 39/200\n",
            "3/3 [==============================] - 0s 8ms/step - loss: 0.6652 - accuracy: 0.7660 - val_loss: 0.6337 - val_accuracy: 0.8182\n",
            "Epoch 40/200\n",
            "3/3 [==============================] - 0s 7ms/step - loss: 0.6579 - accuracy: 0.7660 - val_loss: 0.6266 - val_accuracy: 0.9091\n",
            "Epoch 41/200\n",
            "3/3 [==============================] - 0s 7ms/step - loss: 0.6509 - accuracy: 0.7660 - val_loss: 0.6198 - val_accuracy: 0.9091\n",
            "Epoch 42/200\n",
            "3/3 [==============================] - 0s 8ms/step - loss: 0.6441 - accuracy: 0.7660 - val_loss: 0.6133 - val_accuracy: 0.9091\n",
            "Epoch 43/200\n",
            "3/3 [==============================] - 0s 10ms/step - loss: 0.6376 - accuracy: 0.7766 - val_loss: 0.6071 - val_accuracy: 0.9091\n",
            "Epoch 44/200\n",
            "3/3 [==============================] - 0s 7ms/step - loss: 0.6312 - accuracy: 0.7766 - val_loss: 0.6010 - val_accuracy: 0.9091\n",
            "Epoch 45/200\n",
            "3/3 [==============================] - 0s 8ms/step - loss: 0.6251 - accuracy: 0.7872 - val_loss: 0.5952 - val_accuracy: 0.9091\n",
            "Epoch 46/200\n",
            "3/3 [==============================] - 0s 8ms/step - loss: 0.6192 - accuracy: 0.7872 - val_loss: 0.5896 - val_accuracy: 0.9091\n",
            "Epoch 47/200\n",
            "3/3 [==============================] - 0s 8ms/step - loss: 0.6137 - accuracy: 0.7872 - val_loss: 0.5842 - val_accuracy: 0.9091\n",
            "Epoch 48/200\n",
            "3/3 [==============================] - 0s 8ms/step - loss: 0.6081 - accuracy: 0.7979 - val_loss: 0.5789 - val_accuracy: 0.9091\n",
            "Epoch 49/200\n",
            "3/3 [==============================] - 0s 8ms/step - loss: 0.6028 - accuracy: 0.8085 - val_loss: 0.5739 - val_accuracy: 0.9091\n",
            "Epoch 50/200\n",
            "3/3 [==============================] - 0s 8ms/step - loss: 0.5976 - accuracy: 0.8298 - val_loss: 0.5690 - val_accuracy: 0.9091\n",
            "Epoch 51/200\n",
            "3/3 [==============================] - 0s 9ms/step - loss: 0.5926 - accuracy: 0.8298 - val_loss: 0.5643 - val_accuracy: 0.9091\n",
            "Epoch 52/200\n",
            "3/3 [==============================] - 0s 8ms/step - loss: 0.5878 - accuracy: 0.8404 - val_loss: 0.5597 - val_accuracy: 0.9091\n",
            "Epoch 53/200\n",
            "3/3 [==============================] - 0s 8ms/step - loss: 0.5831 - accuracy: 0.8404 - val_loss: 0.5553 - val_accuracy: 0.9091\n",
            "Epoch 54/200\n",
            "3/3 [==============================] - 0s 9ms/step - loss: 0.5785 - accuracy: 0.8404 - val_loss: 0.5511 - val_accuracy: 0.9091\n",
            "Epoch 55/200\n",
            "3/3 [==============================] - 0s 9ms/step - loss: 0.5741 - accuracy: 0.8511 - val_loss: 0.5469 - val_accuracy: 0.9091\n",
            "Epoch 56/200\n",
            "3/3 [==============================] - 0s 8ms/step - loss: 0.5699 - accuracy: 0.8511 - val_loss: 0.5429 - val_accuracy: 0.9091\n",
            "Epoch 57/200\n",
            "3/3 [==============================] - 0s 9ms/step - loss: 0.5657 - accuracy: 0.8404 - val_loss: 0.5390 - val_accuracy: 0.9091\n",
            "Epoch 58/200\n",
            "3/3 [==============================] - 0s 10ms/step - loss: 0.5617 - accuracy: 0.8404 - val_loss: 0.5353 - val_accuracy: 0.9091\n",
            "Epoch 59/200\n",
            "3/3 [==============================] - 0s 7ms/step - loss: 0.5578 - accuracy: 0.8404 - val_loss: 0.5316 - val_accuracy: 0.9091\n",
            "Epoch 60/200\n",
            "3/3 [==============================] - 0s 8ms/step - loss: 0.5539 - accuracy: 0.8511 - val_loss: 0.5280 - val_accuracy: 0.9091\n",
            "Epoch 61/200\n",
            "3/3 [==============================] - 0s 9ms/step - loss: 0.5503 - accuracy: 0.8617 - val_loss: 0.5246 - val_accuracy: 0.9091\n",
            "Epoch 62/200\n",
            "3/3 [==============================] - 0s 8ms/step - loss: 0.5466 - accuracy: 0.8617 - val_loss: 0.5212 - val_accuracy: 0.9091\n",
            "Epoch 63/200\n",
            "3/3 [==============================] - 0s 8ms/step - loss: 0.5431 - accuracy: 0.8617 - val_loss: 0.5180 - val_accuracy: 0.9091\n",
            "Epoch 64/200\n",
            "3/3 [==============================] - 0s 8ms/step - loss: 0.5397 - accuracy: 0.8617 - val_loss: 0.5148 - val_accuracy: 0.9091\n",
            "Epoch 65/200\n",
            "3/3 [==============================] - 0s 8ms/step - loss: 0.5363 - accuracy: 0.8617 - val_loss: 0.5118 - val_accuracy: 0.9091\n",
            "Epoch 66/200\n",
            "3/3 [==============================] - 0s 8ms/step - loss: 0.5331 - accuracy: 0.8617 - val_loss: 0.5088 - val_accuracy: 0.9091\n",
            "Epoch 67/200\n",
            "3/3 [==============================] - 0s 8ms/step - loss: 0.5299 - accuracy: 0.8617 - val_loss: 0.5059 - val_accuracy: 0.9091\n",
            "Epoch 68/200\n",
            "3/3 [==============================] - 0s 7ms/step - loss: 0.5268 - accuracy: 0.8617 - val_loss: 0.5031 - val_accuracy: 0.9091\n",
            "Epoch 69/200\n",
            "3/3 [==============================] - 0s 8ms/step - loss: 0.5239 - accuracy: 0.8617 - val_loss: 0.5003 - val_accuracy: 0.9091\n",
            "Epoch 70/200\n",
            "3/3 [==============================] - 0s 10ms/step - loss: 0.5209 - accuracy: 0.8617 - val_loss: 0.4977 - val_accuracy: 0.9091\n",
            "Epoch 71/200\n",
            "3/3 [==============================] - 0s 9ms/step - loss: 0.5181 - accuracy: 0.8617 - val_loss: 0.4951 - val_accuracy: 0.9091\n",
            "Epoch 72/200\n",
            "3/3 [==============================] - 0s 10ms/step - loss: 0.5152 - accuracy: 0.8617 - val_loss: 0.4925 - val_accuracy: 0.9091\n",
            "Epoch 73/200\n",
            "3/3 [==============================] - 0s 11ms/step - loss: 0.5126 - accuracy: 0.8511 - val_loss: 0.4901 - val_accuracy: 0.9091\n",
            "Epoch 74/200\n",
            "3/3 [==============================] - 0s 10ms/step - loss: 0.5098 - accuracy: 0.8723 - val_loss: 0.4878 - val_accuracy: 0.9091\n",
            "Epoch 75/200\n",
            "3/3 [==============================] - 0s 10ms/step - loss: 0.5072 - accuracy: 0.8617 - val_loss: 0.4854 - val_accuracy: 0.9091\n",
            "Epoch 76/200\n",
            "3/3 [==============================] - 0s 9ms/step - loss: 0.5046 - accuracy: 0.8617 - val_loss: 0.4832 - val_accuracy: 0.9091\n",
            "Epoch 77/200\n",
            "3/3 [==============================] - 0s 8ms/step - loss: 0.5021 - accuracy: 0.8617 - val_loss: 0.4810 - val_accuracy: 0.9091\n",
            "Epoch 78/200\n",
            "3/3 [==============================] - 0s 8ms/step - loss: 0.4997 - accuracy: 0.8617 - val_loss: 0.4788 - val_accuracy: 0.9091\n",
            "Epoch 79/200\n",
            "3/3 [==============================] - 0s 9ms/step - loss: 0.4973 - accuracy: 0.8617 - val_loss: 0.4767 - val_accuracy: 0.9091\n",
            "Epoch 80/200\n",
            "3/3 [==============================] - 0s 9ms/step - loss: 0.4950 - accuracy: 0.8617 - val_loss: 0.4746 - val_accuracy: 0.9091\n",
            "Epoch 81/200\n",
            "3/3 [==============================] - 0s 9ms/step - loss: 0.4927 - accuracy: 0.8617 - val_loss: 0.4726 - val_accuracy: 0.9091\n",
            "Epoch 82/200\n",
            "3/3 [==============================] - 0s 9ms/step - loss: 0.4904 - accuracy: 0.8617 - val_loss: 0.4707 - val_accuracy: 0.9091\n",
            "Epoch 83/200\n",
            "3/3 [==============================] - 0s 9ms/step - loss: 0.4882 - accuracy: 0.8617 - val_loss: 0.4688 - val_accuracy: 0.9091\n",
            "Epoch 84/200\n",
            "3/3 [==============================] - 0s 8ms/step - loss: 0.4860 - accuracy: 0.8617 - val_loss: 0.4669 - val_accuracy: 0.9091\n",
            "Epoch 85/200\n",
            "3/3 [==============================] - 0s 8ms/step - loss: 0.4841 - accuracy: 0.8617 - val_loss: 0.4650 - val_accuracy: 0.9091\n",
            "Epoch 86/200\n",
            "3/3 [==============================] - 0s 8ms/step - loss: 0.4821 - accuracy: 0.8617 - val_loss: 0.4633 - val_accuracy: 0.9091\n",
            "Epoch 87/200\n",
            "3/3 [==============================] - 0s 8ms/step - loss: 0.4798 - accuracy: 0.8617 - val_loss: 0.4616 - val_accuracy: 0.9091\n",
            "Epoch 88/200\n",
            "3/3 [==============================] - 0s 8ms/step - loss: 0.4779 - accuracy: 0.8617 - val_loss: 0.4598 - val_accuracy: 0.9091\n",
            "Epoch 89/200\n",
            "3/3 [==============================] - 0s 9ms/step - loss: 0.4759 - accuracy: 0.8617 - val_loss: 0.4582 - val_accuracy: 0.9091\n",
            "Epoch 90/200\n",
            "3/3 [==============================] - 0s 9ms/step - loss: 0.4741 - accuracy: 0.8617 - val_loss: 0.4566 - val_accuracy: 0.9091\n",
            "Epoch 91/200\n",
            "3/3 [==============================] - 0s 11ms/step - loss: 0.4722 - accuracy: 0.8617 - val_loss: 0.4550 - val_accuracy: 0.9091\n",
            "Epoch 92/200\n",
            "3/3 [==============================] - 0s 9ms/step - loss: 0.4704 - accuracy: 0.8617 - val_loss: 0.4534 - val_accuracy: 0.9091\n",
            "Epoch 93/200\n",
            "3/3 [==============================] - 0s 10ms/step - loss: 0.4684 - accuracy: 0.8617 - val_loss: 0.4520 - val_accuracy: 0.9091\n",
            "Epoch 94/200\n",
            "3/3 [==============================] - 0s 9ms/step - loss: 0.4666 - accuracy: 0.8617 - val_loss: 0.4505 - val_accuracy: 0.9091\n",
            "Epoch 95/200\n",
            "3/3 [==============================] - 0s 8ms/step - loss: 0.4650 - accuracy: 0.8617 - val_loss: 0.4490 - val_accuracy: 0.9091\n",
            "Epoch 96/200\n",
            "3/3 [==============================] - 0s 8ms/step - loss: 0.4632 - accuracy: 0.8617 - val_loss: 0.4476 - val_accuracy: 0.9091\n",
            "Epoch 97/200\n",
            "3/3 [==============================] - 0s 8ms/step - loss: 0.4616 - accuracy: 0.8617 - val_loss: 0.4463 - val_accuracy: 0.9091\n",
            "Epoch 98/200\n",
            "3/3 [==============================] - 0s 10ms/step - loss: 0.4598 - accuracy: 0.8617 - val_loss: 0.4449 - val_accuracy: 0.9091\n",
            "Epoch 99/200\n",
            "3/3 [==============================] - 0s 9ms/step - loss: 0.4582 - accuracy: 0.8617 - val_loss: 0.4436 - val_accuracy: 0.9091\n",
            "Epoch 100/200\n",
            "3/3 [==============================] - 0s 10ms/step - loss: 0.4565 - accuracy: 0.8617 - val_loss: 0.4423 - val_accuracy: 0.9091\n",
            "Epoch 101/200\n",
            "3/3 [==============================] - 0s 10ms/step - loss: 0.4550 - accuracy: 0.8617 - val_loss: 0.4410 - val_accuracy: 0.9091\n",
            "Epoch 102/200\n",
            "3/3 [==============================] - 0s 8ms/step - loss: 0.4535 - accuracy: 0.8617 - val_loss: 0.4398 - val_accuracy: 0.9091\n",
            "Epoch 103/200\n",
            "3/3 [==============================] - 0s 10ms/step - loss: 0.4519 - accuracy: 0.8723 - val_loss: 0.4385 - val_accuracy: 0.9091\n",
            "Epoch 104/200\n",
            "3/3 [==============================] - 0s 9ms/step - loss: 0.4504 - accuracy: 0.8723 - val_loss: 0.4373 - val_accuracy: 0.9091\n",
            "Epoch 105/200\n",
            "3/3 [==============================] - 0s 11ms/step - loss: 0.4489 - accuracy: 0.8830 - val_loss: 0.4361 - val_accuracy: 0.9091\n",
            "Epoch 106/200\n",
            "3/3 [==============================] - 0s 9ms/step - loss: 0.4476 - accuracy: 0.8936 - val_loss: 0.4350 - val_accuracy: 0.9091\n",
            "Epoch 107/200\n",
            "3/3 [==============================] - 0s 9ms/step - loss: 0.4460 - accuracy: 0.8936 - val_loss: 0.4339 - val_accuracy: 0.9091\n",
            "Epoch 108/200\n",
            "3/3 [==============================] - 0s 8ms/step - loss: 0.4447 - accuracy: 0.8936 - val_loss: 0.4327 - val_accuracy: 0.9091\n",
            "Epoch 109/200\n",
            "3/3 [==============================] - 0s 10ms/step - loss: 0.4432 - accuracy: 0.9043 - val_loss: 0.4317 - val_accuracy: 0.9091\n",
            "Epoch 110/200\n",
            "3/3 [==============================] - 0s 8ms/step - loss: 0.4418 - accuracy: 0.9043 - val_loss: 0.4306 - val_accuracy: 0.9091\n",
            "Epoch 111/200\n",
            "3/3 [==============================] - 0s 10ms/step - loss: 0.4406 - accuracy: 0.9043 - val_loss: 0.4295 - val_accuracy: 0.9091\n",
            "Epoch 112/200\n",
            "3/3 [==============================] - 0s 9ms/step - loss: 0.4392 - accuracy: 0.9043 - val_loss: 0.4285 - val_accuracy: 0.9091\n",
            "Epoch 113/200\n",
            "3/3 [==============================] - 0s 9ms/step - loss: 0.4378 - accuracy: 0.9043 - val_loss: 0.4275 - val_accuracy: 0.9091\n",
            "Epoch 114/200\n",
            "3/3 [==============================] - 0s 9ms/step - loss: 0.4365 - accuracy: 0.9043 - val_loss: 0.4265 - val_accuracy: 0.9091\n",
            "Epoch 115/200\n",
            "3/3 [==============================] - 0s 9ms/step - loss: 0.4352 - accuracy: 0.9043 - val_loss: 0.4255 - val_accuracy: 0.9091\n",
            "Epoch 116/200\n",
            "3/3 [==============================] - 0s 8ms/step - loss: 0.4340 - accuracy: 0.9043 - val_loss: 0.4246 - val_accuracy: 0.9091\n",
            "Epoch 117/200\n",
            "3/3 [==============================] - 0s 10ms/step - loss: 0.4327 - accuracy: 0.9043 - val_loss: 0.4237 - val_accuracy: 0.9091\n",
            "Epoch 118/200\n",
            "3/3 [==============================] - 0s 8ms/step - loss: 0.4315 - accuracy: 0.9043 - val_loss: 0.4227 - val_accuracy: 0.9091\n",
            "Epoch 119/200\n",
            "3/3 [==============================] - 0s 9ms/step - loss: 0.4303 - accuracy: 0.9043 - val_loss: 0.4218 - val_accuracy: 0.9091\n",
            "Epoch 120/200\n",
            "3/3 [==============================] - 0s 9ms/step - loss: 0.4292 - accuracy: 0.9043 - val_loss: 0.4209 - val_accuracy: 0.9091\n",
            "Epoch 121/200\n",
            "3/3 [==============================] - 0s 8ms/step - loss: 0.4279 - accuracy: 0.9043 - val_loss: 0.4201 - val_accuracy: 0.9091\n",
            "Epoch 122/200\n",
            "3/3 [==============================] - 0s 9ms/step - loss: 0.4267 - accuracy: 0.9043 - val_loss: 0.4192 - val_accuracy: 0.9091\n",
            "Epoch 123/200\n",
            "3/3 [==============================] - 0s 9ms/step - loss: 0.4256 - accuracy: 0.9043 - val_loss: 0.4183 - val_accuracy: 0.9091\n",
            "Epoch 124/200\n",
            "3/3 [==============================] - 0s 9ms/step - loss: 0.4245 - accuracy: 0.9043 - val_loss: 0.4175 - val_accuracy: 0.9091\n",
            "Epoch 125/200\n",
            "3/3 [==============================] - 0s 10ms/step - loss: 0.4233 - accuracy: 0.9043 - val_loss: 0.4167 - val_accuracy: 0.9091\n",
            "Epoch 126/200\n",
            "3/3 [==============================] - 0s 10ms/step - loss: 0.4222 - accuracy: 0.9043 - val_loss: 0.4159 - val_accuracy: 0.9091\n",
            "Epoch 127/200\n",
            "3/3 [==============================] - 0s 8ms/step - loss: 0.4211 - accuracy: 0.9043 - val_loss: 0.4151 - val_accuracy: 0.9091\n",
            "Epoch 128/200\n",
            "3/3 [==============================] - 0s 9ms/step - loss: 0.4201 - accuracy: 0.9043 - val_loss: 0.4143 - val_accuracy: 0.9091\n",
            "Epoch 129/200\n",
            "3/3 [==============================] - 0s 9ms/step - loss: 0.4190 - accuracy: 0.9149 - val_loss: 0.4135 - val_accuracy: 0.9091\n",
            "Epoch 130/200\n",
            "3/3 [==============================] - 0s 9ms/step - loss: 0.4179 - accuracy: 0.9149 - val_loss: 0.4128 - val_accuracy: 0.9091\n",
            "Epoch 131/200\n",
            "3/3 [==============================] - 0s 8ms/step - loss: 0.4169 - accuracy: 0.9149 - val_loss: 0.4120 - val_accuracy: 0.9091\n",
            "Epoch 132/200\n",
            "3/3 [==============================] - 0s 11ms/step - loss: 0.4159 - accuracy: 0.9149 - val_loss: 0.4113 - val_accuracy: 0.9091\n",
            "Epoch 133/200\n",
            "3/3 [==============================] - 0s 10ms/step - loss: 0.4149 - accuracy: 0.9149 - val_loss: 0.4106 - val_accuracy: 0.9091\n",
            "Epoch 134/200\n",
            "3/3 [==============================] - 0s 12ms/step - loss: 0.4138 - accuracy: 0.9149 - val_loss: 0.4099 - val_accuracy: 0.9091\n",
            "Epoch 135/200\n",
            "3/3 [==============================] - 0s 9ms/step - loss: 0.4129 - accuracy: 0.9149 - val_loss: 0.4093 - val_accuracy: 0.9091\n",
            "Epoch 136/200\n",
            "3/3 [==============================] - 0s 8ms/step - loss: 0.4118 - accuracy: 0.9149 - val_loss: 0.4086 - val_accuracy: 0.9091\n",
            "Epoch 137/200\n",
            "3/3 [==============================] - 0s 9ms/step - loss: 0.4109 - accuracy: 0.9149 - val_loss: 0.4079 - val_accuracy: 0.9091\n",
            "Epoch 138/200\n",
            "3/3 [==============================] - 0s 9ms/step - loss: 0.4099 - accuracy: 0.9149 - val_loss: 0.4072 - val_accuracy: 0.9091\n",
            "Epoch 139/200\n",
            "3/3 [==============================] - 0s 11ms/step - loss: 0.4090 - accuracy: 0.9149 - val_loss: 0.4066 - val_accuracy: 0.9091\n",
            "Epoch 140/200\n",
            "3/3 [==============================] - 0s 9ms/step - loss: 0.4080 - accuracy: 0.9149 - val_loss: 0.4060 - val_accuracy: 0.9091\n",
            "Epoch 141/200\n",
            "3/3 [==============================] - 0s 9ms/step - loss: 0.4071 - accuracy: 0.9149 - val_loss: 0.4054 - val_accuracy: 0.9091\n",
            "Epoch 142/200\n",
            "3/3 [==============================] - 0s 8ms/step - loss: 0.4062 - accuracy: 0.9149 - val_loss: 0.4048 - val_accuracy: 0.9091\n",
            "Epoch 143/200\n",
            "3/3 [==============================] - 0s 9ms/step - loss: 0.4053 - accuracy: 0.9149 - val_loss: 0.4042 - val_accuracy: 0.9091\n",
            "Epoch 144/200\n",
            "3/3 [==============================] - 0s 8ms/step - loss: 0.4044 - accuracy: 0.9149 - val_loss: 0.4036 - val_accuracy: 0.9091\n",
            "Epoch 145/200\n",
            "3/3 [==============================] - 0s 11ms/step - loss: 0.4035 - accuracy: 0.9149 - val_loss: 0.4030 - val_accuracy: 0.9091\n",
            "Epoch 146/200\n",
            "3/3 [==============================] - 0s 9ms/step - loss: 0.4026 - accuracy: 0.9149 - val_loss: 0.4024 - val_accuracy: 0.9091\n",
            "Epoch 147/200\n",
            "3/3 [==============================] - 0s 10ms/step - loss: 0.4017 - accuracy: 0.9149 - val_loss: 0.4019 - val_accuracy: 0.9091\n",
            "Epoch 148/200\n",
            "3/3 [==============================] - 0s 8ms/step - loss: 0.4009 - accuracy: 0.9149 - val_loss: 0.4013 - val_accuracy: 0.9091\n",
            "Epoch 149/200\n",
            "3/3 [==============================] - 0s 9ms/step - loss: 0.4001 - accuracy: 0.9149 - val_loss: 0.4008 - val_accuracy: 0.9091\n",
            "Epoch 150/200\n",
            "3/3 [==============================] - 0s 9ms/step - loss: 0.3993 - accuracy: 0.9149 - val_loss: 0.4002 - val_accuracy: 0.9091\n",
            "Epoch 151/200\n",
            "3/3 [==============================] - 0s 10ms/step - loss: 0.3984 - accuracy: 0.9149 - val_loss: 0.3997 - val_accuracy: 0.9091\n",
            "Epoch 152/200\n",
            "3/3 [==============================] - 0s 9ms/step - loss: 0.3977 - accuracy: 0.9149 - val_loss: 0.3992 - val_accuracy: 0.9091\n",
            "Epoch 153/200\n",
            "3/3 [==============================] - 0s 9ms/step - loss: 0.3967 - accuracy: 0.9149 - val_loss: 0.3987 - val_accuracy: 0.9091\n",
            "Epoch 154/200\n",
            "3/3 [==============================] - 0s 9ms/step - loss: 0.3962 - accuracy: 0.9149 - val_loss: 0.3981 - val_accuracy: 0.9091\n",
            "Epoch 155/200\n",
            "3/3 [==============================] - 0s 8ms/step - loss: 0.3952 - accuracy: 0.9149 - val_loss: 0.3976 - val_accuracy: 0.9091\n",
            "Epoch 156/200\n",
            "3/3 [==============================] - 0s 10ms/step - loss: 0.3943 - accuracy: 0.9149 - val_loss: 0.3971 - val_accuracy: 0.9091\n",
            "Epoch 157/200\n",
            "3/3 [==============================] - 0s 9ms/step - loss: 0.3936 - accuracy: 0.9149 - val_loss: 0.3966 - val_accuracy: 0.9091\n",
            "Epoch 158/200\n",
            "3/3 [==============================] - 0s 9ms/step - loss: 0.3928 - accuracy: 0.9149 - val_loss: 0.3961 - val_accuracy: 0.9091\n",
            "Epoch 159/200\n",
            "3/3 [==============================] - 0s 8ms/step - loss: 0.3920 - accuracy: 0.9149 - val_loss: 0.3956 - val_accuracy: 0.9091\n",
            "Epoch 160/200\n",
            "3/3 [==============================] - 0s 9ms/step - loss: 0.3913 - accuracy: 0.9149 - val_loss: 0.3951 - val_accuracy: 0.9091\n",
            "Epoch 161/200\n",
            "3/3 [==============================] - 0s 10ms/step - loss: 0.3906 - accuracy: 0.9149 - val_loss: 0.3947 - val_accuracy: 0.9091\n",
            "Epoch 162/200\n",
            "3/3 [==============================] - 0s 9ms/step - loss: 0.3898 - accuracy: 0.9149 - val_loss: 0.3942 - val_accuracy: 0.9091\n",
            "Epoch 163/200\n",
            "3/3 [==============================] - 0s 10ms/step - loss: 0.3890 - accuracy: 0.9149 - val_loss: 0.3937 - val_accuracy: 0.9091\n",
            "Epoch 164/200\n",
            "3/3 [==============================] - 0s 8ms/step - loss: 0.3883 - accuracy: 0.9149 - val_loss: 0.3933 - val_accuracy: 0.9091\n",
            "Epoch 165/200\n",
            "3/3 [==============================] - 0s 7ms/step - loss: 0.3875 - accuracy: 0.9149 - val_loss: 0.3928 - val_accuracy: 0.9091\n",
            "Epoch 166/200\n",
            "3/3 [==============================] - 0s 10ms/step - loss: 0.3869 - accuracy: 0.9149 - val_loss: 0.3923 - val_accuracy: 0.9091\n",
            "Epoch 167/200\n",
            "3/3 [==============================] - 0s 9ms/step - loss: 0.3862 - accuracy: 0.9043 - val_loss: 0.3919 - val_accuracy: 0.9091\n",
            "Epoch 168/200\n",
            "3/3 [==============================] - 0s 11ms/step - loss: 0.3854 - accuracy: 0.9149 - val_loss: 0.3915 - val_accuracy: 0.9091\n",
            "Epoch 169/200\n",
            "3/3 [==============================] - 0s 9ms/step - loss: 0.3847 - accuracy: 0.9043 - val_loss: 0.3911 - val_accuracy: 0.9091\n",
            "Epoch 170/200\n",
            "3/3 [==============================] - 0s 8ms/step - loss: 0.3840 - accuracy: 0.9043 - val_loss: 0.3907 - val_accuracy: 0.9091\n",
            "Epoch 171/200\n",
            "3/3 [==============================] - 0s 9ms/step - loss: 0.3833 - accuracy: 0.9043 - val_loss: 0.3903 - val_accuracy: 0.9091\n",
            "Epoch 172/200\n",
            "3/3 [==============================] - 0s 9ms/step - loss: 0.3826 - accuracy: 0.8936 - val_loss: 0.3898 - val_accuracy: 0.9091\n",
            "Epoch 173/200\n",
            "3/3 [==============================] - 0s 8ms/step - loss: 0.3822 - accuracy: 0.8936 - val_loss: 0.3895 - val_accuracy: 0.9091\n",
            "Epoch 174/200\n",
            "3/3 [==============================] - 0s 11ms/step - loss: 0.3813 - accuracy: 0.8936 - val_loss: 0.3891 - val_accuracy: 0.9091\n",
            "Epoch 175/200\n",
            "3/3 [==============================] - 0s 7ms/step - loss: 0.3808 - accuracy: 0.8936 - val_loss: 0.3887 - val_accuracy: 0.9091\n",
            "Epoch 176/200\n",
            "3/3 [==============================] - 0s 10ms/step - loss: 0.3800 - accuracy: 0.8936 - val_loss: 0.3883 - val_accuracy: 0.9091\n",
            "Epoch 177/200\n",
            "3/3 [==============================] - 0s 9ms/step - loss: 0.3794 - accuracy: 0.8936 - val_loss: 0.3879 - val_accuracy: 0.9091\n",
            "Epoch 178/200\n",
            "3/3 [==============================] - 0s 10ms/step - loss: 0.3787 - accuracy: 0.8936 - val_loss: 0.3875 - val_accuracy: 0.9091\n",
            "Epoch 179/200\n",
            "3/3 [==============================] - 0s 9ms/step - loss: 0.3780 - accuracy: 0.8936 - val_loss: 0.3871 - val_accuracy: 0.9091\n",
            "Epoch 180/200\n",
            "3/3 [==============================] - 0s 9ms/step - loss: 0.3774 - accuracy: 0.8936 - val_loss: 0.3868 - val_accuracy: 0.9091\n",
            "Epoch 181/200\n",
            "3/3 [==============================] - 0s 8ms/step - loss: 0.3768 - accuracy: 0.8936 - val_loss: 0.3864 - val_accuracy: 0.9091\n",
            "Epoch 182/200\n",
            "3/3 [==============================] - 0s 9ms/step - loss: 0.3761 - accuracy: 0.8936 - val_loss: 0.3860 - val_accuracy: 0.9091\n",
            "Epoch 183/200\n",
            "3/3 [==============================] - 0s 9ms/step - loss: 0.3755 - accuracy: 0.8936 - val_loss: 0.3856 - val_accuracy: 0.9091\n",
            "Epoch 184/200\n",
            "3/3 [==============================] - 0s 8ms/step - loss: 0.3749 - accuracy: 0.8936 - val_loss: 0.3853 - val_accuracy: 0.9091\n",
            "Epoch 185/200\n",
            "3/3 [==============================] - 0s 10ms/step - loss: 0.3744 - accuracy: 0.8936 - val_loss: 0.3849 - val_accuracy: 0.9091\n",
            "Epoch 186/200\n",
            "3/3 [==============================] - 0s 10ms/step - loss: 0.3737 - accuracy: 0.8936 - val_loss: 0.3846 - val_accuracy: 0.9091\n",
            "Epoch 187/200\n",
            "3/3 [==============================] - 0s 10ms/step - loss: 0.3731 - accuracy: 0.8936 - val_loss: 0.3842 - val_accuracy: 0.9091\n",
            "Epoch 188/200\n",
            "3/3 [==============================] - 0s 9ms/step - loss: 0.3725 - accuracy: 0.8936 - val_loss: 0.3839 - val_accuracy: 0.9091\n",
            "Epoch 189/200\n",
            "3/3 [==============================] - 0s 9ms/step - loss: 0.3720 - accuracy: 0.8936 - val_loss: 0.3836 - val_accuracy: 0.9091\n",
            "Epoch 190/200\n",
            "3/3 [==============================] - 0s 12ms/step - loss: 0.3714 - accuracy: 0.8936 - val_loss: 0.3832 - val_accuracy: 0.9091\n",
            "Epoch 191/200\n",
            "3/3 [==============================] - 0s 10ms/step - loss: 0.3708 - accuracy: 0.8936 - val_loss: 0.3828 - val_accuracy: 0.9091\n",
            "Epoch 192/200\n",
            "3/3 [==============================] - 0s 10ms/step - loss: 0.3702 - accuracy: 0.8936 - val_loss: 0.3825 - val_accuracy: 0.9091\n",
            "Epoch 193/200\n",
            "3/3 [==============================] - 0s 9ms/step - loss: 0.3696 - accuracy: 0.8936 - val_loss: 0.3822 - val_accuracy: 0.9091\n",
            "Epoch 194/200\n",
            "3/3 [==============================] - 0s 10ms/step - loss: 0.3691 - accuracy: 0.8936 - val_loss: 0.3818 - val_accuracy: 0.9091\n",
            "Epoch 195/200\n",
            "3/3 [==============================] - 0s 10ms/step - loss: 0.3685 - accuracy: 0.8936 - val_loss: 0.3815 - val_accuracy: 0.9091\n",
            "Epoch 196/200\n",
            "3/3 [==============================] - 0s 10ms/step - loss: 0.3680 - accuracy: 0.8936 - val_loss: 0.3812 - val_accuracy: 0.9091\n",
            "Epoch 197/200\n",
            "3/3 [==============================] - 0s 8ms/step - loss: 0.3673 - accuracy: 0.8936 - val_loss: 0.3809 - val_accuracy: 0.9091\n",
            "Epoch 198/200\n",
            "3/3 [==============================] - 0s 9ms/step - loss: 0.3668 - accuracy: 0.8936 - val_loss: 0.3806 - val_accuracy: 0.9091\n",
            "Epoch 199/200\n",
            "3/3 [==============================] - 0s 9ms/step - loss: 0.3662 - accuracy: 0.8936 - val_loss: 0.3803 - val_accuracy: 0.9091\n",
            "Epoch 200/200\n",
            "3/3 [==============================] - 0s 8ms/step - loss: 0.3657 - accuracy: 0.8936 - val_loss: 0.3800 - val_accuracy: 0.9091\n",
            "WARNING:tensorflow:6 out of the last 11 calls to <function Model.make_predict_function.<locals>.predict_function at 0x7ff63ccb8bf8> triggered tf.function retracing. Tracing is expensive and the excessive number of tracings could be due to (1) creating @tf.function repeatedly in a loop, (2) passing tensors with different shapes, (3) passing Python objects instead of tensors. For (1), please define your @tf.function outside of the loop. For (2), @tf.function has experimental_relax_shapes=True option that relaxes argument shapes that can avoid unnecessary retracing. For (3), please refer to https://www.tensorflow.org/tutorials/customization/performance#python_or_tensor_args and https://www.tensorflow.org/api_docs/python/tf/function for  more details.\n"
          ],
          "name": "stdout"
        }
      ]
    },
    {
      "cell_type": "code",
      "metadata": {
        "id": "SmaEhBr5MOeQ",
        "outputId": "b1d3f310-c16c-46d3-fbb5-bb1c9ac69b57",
        "colab": {
          "base_uri": "https://localhost:8080/",
          "height": 34
        }
      },
      "source": [
        "print('Accuracy: %.2f' % accuracy_score(y_test, y_pred))"
      ],
      "execution_count": null,
      "outputs": [
        {
          "output_type": "stream",
          "text": [
            "Accuracy: 0.91\n"
          ],
          "name": "stdout"
        }
      ]
    },
    {
      "cell_type": "code",
      "metadata": {
        "id": "C0suVhDYSH97",
        "outputId": "52830dd8-cea1-496e-bd04-f445fb0e8927",
        "colab": {
          "base_uri": "https://localhost:8080/",
          "height": 187
        }
      },
      "source": [
        "model.summary()"
      ],
      "execution_count": null,
      "outputs": [
        {
          "output_type": "stream",
          "text": [
            "Model: \"sequential_7\"\n",
            "_________________________________________________________________\n",
            "Layer (type)                 Output Shape              Param #   \n",
            "=================================================================\n",
            "dense_7 (Dense)              (None, 3)                 15        \n",
            "=================================================================\n",
            "Total params: 15\n",
            "Trainable params: 15\n",
            "Non-trainable params: 0\n",
            "_________________________________________________________________\n"
          ],
          "name": "stdout"
        }
      ]
    }
  ]
}